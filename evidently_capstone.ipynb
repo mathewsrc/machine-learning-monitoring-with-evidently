{
  "nbformat": 4,
  "nbformat_minor": 0,
  "metadata": {
    "colab": {
      "provenance": [],
      "authorship_tag": "ABX9TyOFFK1RXWrBQ7an2XkUc0Yz",
      "include_colab_link": true
    },
    "kernelspec": {
      "name": "python3",
      "display_name": "Python 3"
    },
    "language_info": {
      "name": "python"
    }
  },
  "cells": [
    {
      "cell_type": "markdown",
      "metadata": {
        "id": "view-in-github",
        "colab_type": "text"
      },
      "source": [
        "<a href=\"https://colab.research.google.com/github/mathewsrc/machine-learning-monitoring-with-evidently/blob/main/evidently_capstone.ipynb\" target=\"_parent\"><img src=\"https://colab.research.google.com/assets/colab-badge.svg\" alt=\"Open In Colab\"/></a>"
      ]
    },
    {
      "cell_type": "code",
      "execution_count": 1,
      "metadata": {
        "colab": {
          "base_uri": "https://localhost:8080/"
        },
        "id": "BhyTfngl3xq3",
        "outputId": "9e1aea52-2a7e-45b2-8703-5a7424089dc5"
      },
      "outputs": [
        {
          "output_type": "stream",
          "name": "stdout",
          "text": [
            "\u001b[2K     \u001b[90m━━━━━━━━━━━━━━━━━━━━━━━━━━━━━━━━━━━━━━━━\u001b[0m \u001b[32m316.9/316.9 MB\u001b[0m \u001b[31m2.3 MB/s\u001b[0m eta \u001b[36m0:00:00\u001b[0m\n",
            "\u001b[?25h  Preparing metadata (setup.py) ... \u001b[?25l\u001b[?25hdone\n",
            "  Building wheel for pyspark (setup.py) ... \u001b[?25l\u001b[?25hdone\n",
            "\u001b[2K     \u001b[90m━━━━━━━━━━━━━━━━━━━━━━━━━━━━━━━━━━━━━━━━\u001b[0m \u001b[32m15.8/15.8 MB\u001b[0m \u001b[31m66.4 MB/s\u001b[0m eta \u001b[36m0:00:00\u001b[0m\n",
            "\u001b[2K     \u001b[90m━━━━━━━━━━━━━━━━━━━━━━━━━━━━━━━━━━━━━━━━\u001b[0m \u001b[32m2.7/2.7 MB\u001b[0m \u001b[31m24.6 MB/s\u001b[0m eta \u001b[36m0:00:00\u001b[0m\n",
            "\u001b[2K     \u001b[90m━━━━━━━━━━━━━━━━━━━━━━━━━━━━━━━━━━━━━━━━\u001b[0m \u001b[32m226.8/226.8 kB\u001b[0m \u001b[31m22.3 MB/s\u001b[0m eta \u001b[36m0:00:00\u001b[0m\n",
            "\u001b[2K     \u001b[90m━━━━━━━━━━━━━━━━━━━━━━━━━━━━━━━━━━━━━━━━\u001b[0m \u001b[32m1.2/1.2 MB\u001b[0m \u001b[31m64.4 MB/s\u001b[0m eta \u001b[36m0:00:00\u001b[0m\n",
            "\u001b[2K     \u001b[90m━━━━━━━━━━━━━━━━━━━━━━━━━━━━━━━━━━━━━━━━\u001b[0m \u001b[32m2.7/2.7 MB\u001b[0m \u001b[31m81.4 MB/s\u001b[0m eta \u001b[36m0:00:00\u001b[0m\n",
            "\u001b[2K     \u001b[90m━━━━━━━━━━━━━━━━━━━━━━━━━━━━━━━━━━━━━━━━\u001b[0m \u001b[32m295.0/295.0 kB\u001b[0m \u001b[31m26.0 MB/s\u001b[0m eta \u001b[36m0:00:00\u001b[0m\n",
            "\u001b[2K     \u001b[90m━━━━━━━━━━━━━━━━━━━━━━━━━━━━━━━━━━━━━━━━\u001b[0m \u001b[32m148.1/148.1 kB\u001b[0m \u001b[31m12.7 MB/s\u001b[0m eta \u001b[36m0:00:00\u001b[0m\n",
            "\u001b[2K     \u001b[90m━━━━━━━━━━━━━━━━━━━━━━━━━━━━━━━━━━━━━━━━\u001b[0m \u001b[32m1.0/1.0 MB\u001b[0m \u001b[31m61.4 MB/s\u001b[0m eta \u001b[36m0:00:00\u001b[0m\n",
            "\u001b[2K     \u001b[90m━━━━━━━━━━━━━━━━━━━━━━━━━━━━━━━━━━━━━━━━\u001b[0m \u001b[32m1.6/1.6 MB\u001b[0m \u001b[31m60.6 MB/s\u001b[0m eta \u001b[36m0:00:00\u001b[0m\n",
            "\u001b[2K     \u001b[90m━━━━━━━━━━━━━━━━━━━━━━━━━━━━━━━━━━━━━━━━\u001b[0m \u001b[32m76.9/76.9 kB\u001b[0m \u001b[31m8.3 MB/s\u001b[0m eta \u001b[36m0:00:00\u001b[0m\n",
            "\u001b[2K     \u001b[90m━━━━━━━━━━━━━━━━━━━━━━━━━━━━━━━━━━━━━━━━\u001b[0m \u001b[32m75.0/75.0 kB\u001b[0m \u001b[31m7.7 MB/s\u001b[0m eta \u001b[36m0:00:00\u001b[0m\n",
            "\u001b[2K     \u001b[90m━━━━━━━━━━━━━━━━━━━━━━━━━━━━━━━━━━━━━━━━\u001b[0m \u001b[32m138.7/138.7 kB\u001b[0m \u001b[31m13.4 MB/s\u001b[0m eta \u001b[36m0:00:00\u001b[0m\n",
            "\u001b[2K     \u001b[90m━━━━━━━━━━━━━━━━━━━━━━━━━━━━━━━━━━━━━━━━\u001b[0m \u001b[32m81.2/81.2 kB\u001b[0m \u001b[31m9.8 MB/s\u001b[0m eta \u001b[36m0:00:00\u001b[0m\n",
            "\u001b[?25h  Installing build dependencies ... \u001b[?25l\u001b[?25hdone\n",
            "  Getting requirements to build wheel ... \u001b[?25l\u001b[?25hdone\n",
            "  Preparing metadata (pyproject.toml) ... \u001b[?25l\u001b[?25hdone\n",
            "\u001b[2K     \u001b[90m━━━━━━━━━━━━━━━━━━━━━━━━━━━━━━━━━━━━━━━━\u001b[0m \u001b[32m116.4/116.4 kB\u001b[0m \u001b[31m11.9 MB/s\u001b[0m eta \u001b[36m0:00:00\u001b[0m\n",
            "\u001b[2K     \u001b[90m━━━━━━━━━━━━━━━━━━━━━━━━━━━━━━━━━━━━━━━━\u001b[0m \u001b[32m70.0/70.0 kB\u001b[0m \u001b[31m6.5 MB/s\u001b[0m eta \u001b[36m0:00:00\u001b[0m\n",
            "\u001b[2K     \u001b[90m━━━━━━━━━━━━━━━━━━━━━━━━━━━━━━━━━━━━━━━━\u001b[0m \u001b[32m53.9/53.9 kB\u001b[0m \u001b[31m5.6 MB/s\u001b[0m eta \u001b[36m0:00:00\u001b[0m\n",
            "\u001b[2K     \u001b[90m━━━━━━━━━━━━━━━━━━━━━━━━━━━━━━━━━━━━━━━━\u001b[0m \u001b[32m59.7/59.7 kB\u001b[0m \u001b[31m5.9 MB/s\u001b[0m eta \u001b[36m0:00:00\u001b[0m\n",
            "\u001b[2K     \u001b[90m━━━━━━━━━━━━━━━━━━━━━━━━━━━━━━━━━━━━━━━━\u001b[0m \u001b[32m130.2/130.2 kB\u001b[0m \u001b[31m13.6 MB/s\u001b[0m eta \u001b[36m0:00:00\u001b[0m\n",
            "\u001b[2K     \u001b[90m━━━━━━━━━━━━━━━━━━━━━━━━━━━━━━━━━━━━━━━━\u001b[0m \u001b[32m78.6/78.6 kB\u001b[0m \u001b[31m7.9 MB/s\u001b[0m eta \u001b[36m0:00:00\u001b[0m\n",
            "\u001b[2K     \u001b[90m━━━━━━━━━━━━━━━━━━━━━━━━━━━━━━━━━━━━━━━━\u001b[0m \u001b[32m58.3/58.3 kB\u001b[0m \u001b[31m5.8 MB/s\u001b[0m eta \u001b[36m0:00:00\u001b[0m\n",
            "\u001b[2K     \u001b[90m━━━━━━━━━━━━━━━━━━━━━━━━━━━━━━━━━━━━━━━━\u001b[0m \u001b[32m57.5/57.5 kB\u001b[0m \u001b[31m5.9 MB/s\u001b[0m eta \u001b[36m0:00:00\u001b[0m\n",
            "\u001b[2K     \u001b[90m━━━━━━━━━━━━━━━━━━━━━━━━━━━━━━━━━━━━━━━━\u001b[0m \u001b[32m143.8/143.8 kB\u001b[0m \u001b[31m14.6 MB/s\u001b[0m eta \u001b[36m0:00:00\u001b[0m\n",
            "\u001b[2K     \u001b[90m━━━━━━━━━━━━━━━━━━━━━━━━━━━━━━━━━━━━━━━━\u001b[0m \u001b[32m490.0/490.0 kB\u001b[0m \u001b[31m30.8 MB/s\u001b[0m eta \u001b[36m0:00:00\u001b[0m\n",
            "\u001b[2K     \u001b[90m━━━━━━━━━━━━━━━━━━━━━━━━━━━━━━━━━━━━━━━━\u001b[0m \u001b[32m526.7/526.7 kB\u001b[0m \u001b[31m42.1 MB/s\u001b[0m eta \u001b[36m0:00:00\u001b[0m\n",
            "\u001b[2K     \u001b[90m━━━━━━━━━━━━━━━━━━━━━━━━━━━━━━━━━━━━━━━━\u001b[0m \u001b[32m300.4/300.4 kB\u001b[0m \u001b[31m27.1 MB/s\u001b[0m eta \u001b[36m0:00:00\u001b[0m\n",
            "\u001b[?25h  Building wheel for pendulum (pyproject.toml) ... \u001b[?25l\u001b[?25hdone\n",
            "\u001b[31mERROR: pip's dependency resolver does not currently take into account all the packages that are installed. This behaviour is the source of the following dependency conflicts.\n",
            "lida 0.0.10 requires fastapi, which is not installed.\n",
            "lida 0.0.10 requires kaleido, which is not installed.\n",
            "lida 0.0.10 requires python-multipart, which is not installed.\u001b[0m\u001b[31m\n",
            "\u001b[2K     \u001b[90m━━━━━━━━━━━━━━━━━━━━━━━━━━━━━━━━━━━━━━━━\u001b[0m \u001b[32m19.0/19.0 MB\u001b[0m \u001b[31m62.4 MB/s\u001b[0m eta \u001b[36m0:00:00\u001b[0m\n",
            "\u001b[2K     \u001b[90m━━━━━━━━━━━━━━━━━━━━━━━━━━━━━━━━━━━━━━━━\u001b[0m \u001b[32m150.3/150.3 kB\u001b[0m \u001b[31m16.0 MB/s\u001b[0m eta \u001b[36m0:00:00\u001b[0m\n",
            "\u001b[2K     \u001b[90m━━━━━━━━━━━━━━━━━━━━━━━━━━━━━━━━━━━━━━━━\u001b[0m \u001b[32m190.6/190.6 kB\u001b[0m \u001b[31m19.3 MB/s\u001b[0m eta \u001b[36m0:00:00\u001b[0m\n",
            "\u001b[2K     \u001b[90m━━━━━━━━━━━━━━━━━━━━━━━━━━━━━━━━━━━━━━━━\u001b[0m \u001b[32m80.2/80.2 kB\u001b[0m \u001b[31m8.5 MB/s\u001b[0m eta \u001b[36m0:00:00\u001b[0m\n",
            "\u001b[2K     \u001b[90m━━━━━━━━━━━━━━━━━━━━━━━━━━━━━━━━━━━━━━━━\u001b[0m \u001b[32m62.7/62.7 kB\u001b[0m \u001b[31m6.6 MB/s\u001b[0m eta \u001b[36m0:00:00\u001b[0m\n",
            "\u001b[2K     \u001b[90m━━━━━━━━━━━━━━━━━━━━━━━━━━━━━━━━━━━━━━━━\u001b[0m \u001b[32m14.5/14.5 MB\u001b[0m \u001b[31m66.8 MB/s\u001b[0m eta \u001b[36m0:00:00\u001b[0m\n",
            "\u001b[2K     \u001b[90m━━━━━━━━━━━━━━━━━━━━━━━━━━━━━━━━━━━━━━━━\u001b[0m \u001b[32m92.9/92.9 kB\u001b[0m \u001b[31m10.6 MB/s\u001b[0m eta \u001b[36m0:00:00\u001b[0m\n",
            "\u001b[2K     \u001b[90m━━━━━━━━━━━━━━━━━━━━━━━━━━━━━━━━━━━━━━━━\u001b[0m \u001b[32m82.1/82.1 kB\u001b[0m \u001b[31m9.3 MB/s\u001b[0m eta \u001b[36m0:00:00\u001b[0m\n",
            "\u001b[2K     \u001b[90m━━━━━━━━━━━━━━━━━━━━━━━━━━━━━━━━━━━━━━━━\u001b[0m \u001b[32m67.0/67.0 kB\u001b[0m \u001b[31m7.0 MB/s\u001b[0m eta \u001b[36m0:00:00\u001b[0m\n",
            "\u001b[?25h\u001b[31mERROR: pip's dependency resolver does not currently take into account all the packages that are installed. This behaviour is the source of the following dependency conflicts.\n",
            "lida 0.0.10 requires kaleido, which is not installed.\n",
            "lida 0.0.10 requires python-multipart, which is not installed.\n",
            "tensorflow-probability 0.22.0 requires typing-extensions<4.6.0, but you have typing-extensions 4.8.0 which is incompatible.\u001b[0m\u001b[31m\n",
            "\u001b[2K     \u001b[90m━━━━━━━━━━━━━━━━━━━━━━━━━━━━━━━━━━━━━━━━\u001b[0m \u001b[32m178.4/178.4 kB\u001b[0m \u001b[31m3.5 MB/s\u001b[0m eta \u001b[36m0:00:00\u001b[0m\n",
            "\u001b[2K     \u001b[90m━━━━━━━━━━━━━━━━━━━━━━━━━━━━━━━━━━━━━━━━\u001b[0m \u001b[32m113.7/113.7 kB\u001b[0m \u001b[31m13.6 MB/s\u001b[0m eta \u001b[36m0:00:00\u001b[0m\n",
            "\u001b[2K     \u001b[90m━━━━━━━━━━━━━━━━━━━━━━━━━━━━━━━━━━━━━━━━\u001b[0m \u001b[32m144.2/144.2 kB\u001b[0m \u001b[31m15.4 MB/s\u001b[0m eta \u001b[36m0:00:00\u001b[0m\n",
            "\u001b[2K     \u001b[90m━━━━━━━━━━━━━━━━━━━━━━━━━━━━━━━━━━━━━━━━\u001b[0m \u001b[32m57.3/57.3 kB\u001b[0m \u001b[31m6.5 MB/s\u001b[0m eta \u001b[36m0:00:00\u001b[0m\n",
            "\u001b[2K     \u001b[90m━━━━━━━━━━━━━━━━━━━━━━━━━━━━━━━━━━━━━━━━\u001b[0m \u001b[32m52.6/52.6 kB\u001b[0m \u001b[31m5.9 MB/s\u001b[0m eta \u001b[36m0:00:00\u001b[0m\n",
            "\u001b[2K     \u001b[90m━━━━━━━━━━━━━━━━━━━━━━━━━━━━━━━━━━━━━━━━\u001b[0m \u001b[32m94.6/94.6 kB\u001b[0m \u001b[31m9.8 MB/s\u001b[0m eta \u001b[36m0:00:00\u001b[0m\n",
            "\u001b[?25h\u001b[31mERROR: pip's dependency resolver does not currently take into account all the packages that are installed. This behaviour is the source of the following dependency conflicts.\n",
            "lida 0.0.10 requires kaleido, which is not installed.\n",
            "lida 0.0.10 requires python-multipart, which is not installed.\u001b[0m\u001b[31m\n",
            "\u001b[0m"
          ]
        }
      ],
      "source": [
        "!pip install -q pyspark==3.5.0\n",
        "!pip install -q duckdb==0.8\n",
        "!pip install -q prefect\n",
        "!pip install -q mlflow==2.8.1\n",
        "!pip install -q evidently==0.4.9\n",
        "!pip install -q soda-core-duckdb==3.0.45"
      ]
    },
    {
      "cell_type": "code",
      "source": [
        "import certifi\n",
        "import json\n",
        "import pandas as pd\n",
        "import numpy as np\n",
        "import matplotlib.pyplot as plt\n",
        "import sqlite3\n",
        "import urllib3\n",
        "from urllib3 import request\n",
        "from unicodedata import normalize\n",
        "from datetime import timedelta\n",
        "import asyncio\n",
        "import os\n",
        "\n",
        "import duckdb\n",
        "\n",
        "from prefect import task, flow\n",
        "\n",
        "import pyspark\n",
        "from pyspark.sql import SparkSession\n",
        "from pyspark.sql.functions import (when, col, to_date, unix_timestamp,\n",
        "                                   to_timestamp, from_utc_timestamp, year, month, day, dayofweek,\n",
        "                                   regexp_like)\n",
        "from pyspark.sql.types import (StructType, StructField, StringType,\n",
        "                               IntegerType, FloatType, TimestampType, BooleanType)\n",
        "\n",
        "# Pyspark Machine Learning\n",
        "from pyspark.ml.feature import VectorAssembler, Imputer, StandardScaler\n",
        "from pyspark.ml import Pipeline\n",
        "from pyspark.ml.regression import LinearRegression, RandomForestRegressor, GBTRegressor\n",
        "from pyspark.ml.classification import LogisticRegression, RandomForestClassifier, GBTClassifier\n",
        "from pyspark.ml.evaluation import RegressionEvaluator, BinaryClassificationEvaluator\n",
        "from pyspark.ml.feature import StringIndexer, OneHotEncoder\n",
        "\n",
        "# MLflow\n",
        "import mlflow\n",
        "import mlflow.spark\n",
        "from mlflow import MlflowClient\n"
      ],
      "metadata": {
        "id": "ed7DACd238fV"
      },
      "execution_count": 2,
      "outputs": []
    },
    {
      "cell_type": "code",
      "source": [
        "import warnings\n",
        "warnings.filterwarnings('ignore')\n",
        "warnings.simplefilter('ignore')"
      ],
      "metadata": {
        "id": "9G-35CGVo0Qr"
      },
      "execution_count": 3,
      "outputs": []
    },
    {
      "cell_type": "code",
      "source": [
        "!git clone https://github.com/mathewsrc/machine-learning-monitoring-with-evidently.git"
      ],
      "metadata": {
        "colab": {
          "base_uri": "https://localhost:8080/"
        },
        "id": "56R_KDggKuZU",
        "outputId": "32787e33-9ea2-41a0-e640-0ecbd6aadd50"
      },
      "execution_count": 4,
      "outputs": [
        {
          "output_type": "stream",
          "name": "stdout",
          "text": [
            "Cloning into 'machine-learning-monitoring-with-evidently'...\n",
            "remote: Enumerating objects: 35, done.\u001b[K\n",
            "remote: Counting objects: 100% (35/35), done.\u001b[K\n",
            "remote: Compressing objects: 100% (30/30), done.\u001b[K\n",
            "remote: Total 35 (delta 9), reused 8 (delta 1), pack-reused 0\u001b[K\n",
            "Receiving objects: 100% (35/35), 1.05 MiB | 4.03 MiB/s, done.\n",
            "Resolving deltas: 100% (9/9), done.\n"
          ]
        }
      ]
    },
    {
      "cell_type": "code",
      "source": [
        "%cd /content/machine-learning-monitoring-with-evidently\n",
        "%ls"
      ],
      "metadata": {
        "colab": {
          "base_uri": "https://localhost:8080/"
        },
        "id": "bF5gZSdmLDh3",
        "outputId": "c5caa24e-8e47-490e-f0dc-ba92cbcd908b"
      },
      "execution_count": 5,
      "outputs": [
        {
          "output_type": "stream",
          "name": "stdout",
          "text": [
            "/content/machine-learning-monitoring-with-evidently\n",
            "evidently_capstone.ipynb  LICENSE  README.md  \u001b[0m\u001b[01;34msoda\u001b[0m/\n"
          ]
        }
      ]
    },
    {
      "cell_type": "markdown",
      "source": [
        "## **Supplier Contracts: Extract, Transform, Load from API**"
      ],
      "metadata": {
        "id": "U3KRBXR8DEmd"
      }
    },
    {
      "cell_type": "code",
      "source": [
        "#!mkdir soda\n",
        "#!mkdir soda/checks\n",
        "#!touch soda/checks/sources/raw_check.yml\n",
        "#!touch soda/checks/staging/transfom_check.yml"
      ],
      "metadata": {
        "id": "rTKQ5y9Yk-pV",
        "colab": {
          "base_uri": "https://localhost:8080/"
        },
        "outputId": "00d33d52-bd78-4be0-cdd1-b1cb9e52f679"
      },
      "execution_count": null,
      "outputs": [
        {
          "output_type": "stream",
          "name": "stdout",
          "text": [
            "touch: cannot touch 'soda/checks/sources/raw_check.yml': No such file or directory\n",
            "touch: cannot touch 'soda/checks/staging/transfom_check.yml': No such file or directory\n"
          ]
        }
      ]
    },
    {
      "cell_type": "code",
      "source": [
        "#%%writefile soda/check_function.py\n",
        "def check(scan_name, duckdb_conn, data_source, checks_subpath=None):\n",
        "    from soda.scan import Scan\n",
        "\n",
        "    print('Running Soda Scan ...')\n",
        "    checks_path = f'soda/checks'\n",
        "\n",
        "    if checks_subpath:\n",
        "        checks_path += f'/{checks_subpath}'\n",
        "\n",
        "    scan = Scan()\n",
        "    scan.set_verbose()\n",
        "    scan.add_duckdb_connection(duckdb_conn)\n",
        "    scan.set_data_source_name(data_source)\n",
        "    scan.add_sodacl_yaml_files(checks_path)\n",
        "    scan.set_scan_definition_name(scan_name)\n",
        "    result = scan.execute()\n",
        "    print(scan.get_logs_text())\n",
        "\n",
        "    if result != 0:\n",
        "        raise ValueError('Soda Scan failed')\n",
        "\n",
        "    return result"
      ],
      "metadata": {
        "id": "HWrLF1T5ntkK"
      },
      "execution_count": 6,
      "outputs": []
    },
    {
      "cell_type": "code",
      "source": [
        "spark = SparkSession.builder.appName(\"spark\").getOrCreate()\n",
        "# Enable Arrow-based columnar data transfers\n",
        "spark.conf.set(\"spark.sql.execution.arrow.pyspark.enabled\", \"true\")"
      ],
      "metadata": {
        "id": "oYsvhhJ45U29"
      },
      "execution_count": 7,
      "outputs": []
    },
    {
      "cell_type": "code",
      "source": [
        "@task(name=\"Extract Supplier Contract API data\",\n",
        "      description=\"Get API data from URL and read it as Spark DataFrame\" ,\n",
        "      tags=['supplier','vendor','contract'],\n",
        "      cache_expiration=timedelta(days=1),\n",
        "      retries=3,\n",
        "      retry_delay_seconds=5)\n",
        "def extract():\n",
        "\n",
        "  if not os.path.exists(\"supplier.db\"):\n",
        "    print(\"Database not founded donwload data from API\")\n",
        "    # get api data from url\n",
        "    #url = 'https://data.cityofnewyork.us/resource/h9gi-nx95.json?$limit=500'\n",
        "    url = 'https://data.sfgov.org/resource/cqi5-hm2d.json?$limit=50000'\n",
        "\n",
        "    # Check if API is available to retrive the\n",
        "    http = urllib3.PoolManager(cert_reqs='CERT_REQUIRED',ca_certs=certifi.where())\n",
        "    apt_status = http.request('GET', url).status\n",
        "    print(apt_status)\n",
        "    if apt_status == 200:\n",
        "        # Sometimes we get certificate error . We shoul never silence this error as this may cause a securirty threat.\n",
        "        # Create a Pool manager that can be used to read the API response\n",
        "        data = json.loads(http.request('GET', url).data.decode('utf-8'))\n",
        "        df_api = pd.json_normalize(data)\n",
        "        with duckdb.connect(\"supplier.db\") as conn:\n",
        "          conn.sql(\"\"\"CREATE OR REPLACE TABLE supplier_raw_table AS\n",
        "                          SELECT * FROM df_api\"\"\")\n",
        "          conn.sql(\"SELECT COUNT(*) FROM supplier_raw_table\").show()\n",
        "    else:\n",
        "        raise Exception('Error to extract data from API!')\n",
        "  else:\n",
        "    print(\"Database founded API not called\")\n",
        "    with duckdb.connect(\"supplier.db\") as conn:\n",
        "      conn.sql(\"SELECT COUNT(*) FROM supplier_raw_table\").show()\n"
      ],
      "metadata": {
        "id": "SNrxbTbG34VW"
      },
      "execution_count": 17,
      "outputs": []
    },
    {
      "cell_type": "code",
      "source": [
        "@task(name=\"Extract Supplier Contract API data\",\n",
        "      description=\"Get API data from URL and read it as Spark DataFrame\" ,\n",
        "      tags=['supplier','vendor','contract'],\n",
        "      cache_expiration=timedelta(days=1),\n",
        "      retries=3,\n",
        "      retry_delay_seconds=5)\n",
        "def check_raw():\n",
        "  with duckdb.connect(\"supplier.db\") as conn:\n",
        "    check(scan_name=\"raw_check\", duckdb_conn=conn, data_source=\"duckdb\", checks_subpath=\"sources\")"
      ],
      "metadata": {
        "id": "eOmhmgAtpFYi"
      },
      "execution_count": 9,
      "outputs": []
    },
    {
      "cell_type": "code",
      "source": [
        "@task(name=\"Extract Supplier Contract API data\",\n",
        "      description=\"Get API data from URL and read it as Spark DataFrame\" ,\n",
        "      tags=['supplier','vendor','contract'],\n",
        "      cache_expiration=timedelta(days=1),\n",
        "      retries=3,\n",
        "      retry_delay_seconds=5)\n",
        "def transform():\n",
        "\n",
        "  with duckdb.connect(\"supplier.db\") as conn:\n",
        "    df_pandas = conn.sql(\"SELECT * FROM supplier_raw_table\").df()\n",
        "\n",
        "    df_spark = spark.createDataFrame(df_pandas)\n",
        "\n",
        "    df_spark = (\n",
        "        df_spark\n",
        "          .withColumnRenamed(\"contract_no\", \"contract_number\")\n",
        "          .withColumnRenamed(\"consumed_amt\", \"purchase_orders_outstanding\")\n",
        "          .withColumnRenamed(\"agreed_amt\", \"contract_awarded_amount\")\n",
        "          .withColumnRenamed(\"pmt_amt\", \"payments_made\")\n",
        "          .withColumnRenamed(\"remaining_amt\", \"remaining_contract_award_amount\")\n",
        "          .withColumnRenamed(\"project_team_constituent\", \"supplier_type\")\n",
        "          .withColumnRenamed(\"project_team_supplier\", \"supplier_name\")\n",
        "          .withColumnRenamed(\"prime_contractor\", \"supplier_name_prime_contractor\")\n",
        "    )\n",
        "\n",
        "    df_spark = df_spark.dropDuplicates(subset=['contract_number'])\n",
        "\n",
        "\n",
        "    df_spark = df_spark.na.drop(subset=[\"contract_number\"])\n",
        "\n",
        "    df_spark = (\n",
        "      df_spark\n",
        "        .withColumn(\"purchase_orders_outstanding\", col(\"purchase_orders_outstanding\").cast(\"float\"))\n",
        "        .withColumn(\"contract_awarded_amount\", col(\"contract_awarded_amount\").cast(\"float\"))\n",
        "        .withColumn(\"payments_made\", col(\"payments_made\").cast(\"float\"))\n",
        "        .withColumn(\"remaining_contract_award_amount\", col(\"remaining_contract_award_amount\").cast(\"float\"))\n",
        "    )\n",
        "\n",
        "    df_spark = df_spark.withColumn(\"start_date\",\n",
        "                              to_date((from_utc_timestamp('term_start_date', 'UTC'))))\n",
        "    df_spark = df_spark.withColumn(\"end_date\",\n",
        "                                   to_date(from_utc_timestamp('term_end_date', 'UTC')))\n",
        "\n",
        "    df_spark.createOrReplaceTempView(\"supplier_contracts\")\n",
        "\n",
        "    df_spark = spark.sql(\"\"\"\n",
        "          SELECT\n",
        "              *,\n",
        "              EXTRACT(DAY FROM start_date) AS start_day,\n",
        "              EXTRACT(MONTH FROM start_date) AS start_month,\n",
        "              EXTRACT(YEAR FROM start_date) AS start_year,\n",
        "              EXTRACT(DAY FROM end_date) AS end_day,\n",
        "              EXTRACT(MONTH FROM end_date) AS end_month,\n",
        "              EXTRACT(YEAR FROM end_date) AS end_year\n",
        "          FROM supplier_contracts\n",
        "          WHERE start_date IS NOT NULL\n",
        "                AND end_date IS NOT NULL\n",
        "          \"\"\")\n",
        "\n",
        "\n",
        "    df_spark.createOrReplaceTempView(\"supplier_contracts\")\n",
        "\n",
        "    df_spark = spark.sql(\"\"\"\n",
        "              SELECT *,\n",
        "                  CASE WHEN sole_source_flg IS NULL THEN 1\n",
        "                  ELSE 0 END AS is_sole_source\n",
        "              FROM supplier_contracts\n",
        "                \"\"\")\n",
        "\n",
        "    df_spark = df_spark.drop(\"sole_source_flg\")\n",
        "\n",
        "    df_spark.createOrReplaceTempView(\"supplier_contracts\")\n",
        "\n",
        "    df_spark = spark.sql(\"\"\"\n",
        "                         SELECT *,\n",
        "                            CASE WHEN non_profit IS NULL THEN 1\n",
        "                            ELSE 0 END AS is_non_profit\n",
        "                         FROM supplier_contracts\n",
        "                         \"\"\")\n",
        "\n",
        "    df_spark = df_spark.withColumn(\"has_outstanding_orders\",\n",
        "                                   when(\n",
        "                                      col('purchase_orders_outstanding') > 0,\n",
        "                                      1).otherwise(0))\n",
        "\n",
        "    df_spark = df_spark.filter(\"payments_made >= 0\")\n",
        "    df_spark = df_spark.filter(\"payments_made <= contract_awarded_amount\")\n",
        "    df_spark = df_spark.filter(\"remaining_contract_award_amount >= 0\")\n",
        "    df_spark = df_spark.filter(\"contract_awarded_amount >= 0\")\n",
        "    df_spark = df_spark.filter(\"remaining_contract_award_amount <= contract_awarded_amount\")\n",
        "    df_spark = df_spark.filter((col(\"payments_made\")\n",
        "    + col(\"remaining_contract_award_amount\")) <= col(\"contract_awarded_amount\"))\n",
        "    df_spark = df_spark.filter(\"purchase_orders_outstanding >= 0\")\n",
        "\n",
        "    df_pandas = df_spark.toPandas()\n",
        "\n",
        "    conn.sql(\"\"\"CREATE OR REPLACE TABLE supplier_transformed_table AS\n",
        "                    SELECT * FROM df_pandas\"\"\")\n",
        "    return df_spark"
      ],
      "metadata": {
        "id": "sYmqjAZXAdxL"
      },
      "execution_count": 58,
      "outputs": []
    },
    {
      "cell_type": "code",
      "source": [
        "@task(name=\"Extract Supplier Contract API data\",\n",
        "      description=\"Get API data from URL and read it as Spark DataFrame\" ,\n",
        "      tags=['supplier','vendor','contract'],\n",
        "      cache_expiration=timedelta(days=1),\n",
        "      retries=3,\n",
        "      retry_delay_seconds=5)\n",
        "def check_staging():\n",
        "  with duckdb.connect(\"supplier.db\") as conn:\n",
        "    check(scan_name=\"transformation_check\", duckdb_conn=conn, data_source=\"duckdb\", checks_subpath=\"staging\")"
      ],
      "metadata": {
        "id": "_fo3UYaRBeUX"
      },
      "execution_count": 11,
      "outputs": []
    },
    {
      "cell_type": "code",
      "source": [
        "@task(name=\"Extract Supplier Contract API data\",\n",
        "      description=\"Get API data from URL and read it as Spark DataFrame\" ,\n",
        "      tags=['supplier','vendor','contract'],\n",
        "      cache_expiration=timedelta(days=1),\n",
        "      retries=3,\n",
        "      retry_delay_seconds=5)\n",
        "def load(df_spark):\n",
        "  with duckdb.connect(\"supplier.db\") as conn:\n",
        "    df_pandas = df_spark.toPandas()\n",
        "    conn.sql(\"CREATE OR REPLACE TABLE supplier_transformed_table AS SELECT * FROM df_pandas\")"
      ],
      "metadata": {
        "id": "OWnlFGGxIeG9"
      },
      "execution_count": 12,
      "outputs": []
    },
    {
      "cell_type": "code",
      "source": [
        "@flow(name=\"ETL Supplier Contract API\", log_prints=True)\n",
        "def etl():\n",
        "  extract()\n",
        "  check_raw()\n",
        "  df_spark = transform()\n",
        "  check_staging()\n",
        "  load(df_spark)"
      ],
      "metadata": {
        "id": "0T3jzv4D83mt"
      },
      "execution_count": 13,
      "outputs": []
    },
    {
      "cell_type": "code",
      "source": [
        "etl()"
      ],
      "metadata": {
        "id": "QxnMS9DHDWWL",
        "colab": {
          "base_uri": "https://localhost:8080/",
          "height": 1000
        },
        "outputId": "e8f745d2-1c6a-4395-bb7f-a514d8ad1ccd"
      },
      "execution_count": 59,
      "outputs": [
        {
          "output_type": "display_data",
          "data": {
            "text/plain": [
              "15:51:49.646 | \u001b[36mINFO\u001b[0m    | alembic.runtime.migration - Context impl SQLiteImpl.\n"
            ],
            "text/html": [
              "<pre style=\"white-space:pre;overflow-x:auto;line-height:normal;font-family:Menlo,'DejaVu Sans Mono',consolas,'Courier New',monospace\">15:51:49.646 | <span style=\"color: #008080; text-decoration-color: #008080\">INFO</span>    | alembic.runtime.migration - Context impl SQLiteImpl.\n",
              "</pre>\n"
            ]
          },
          "metadata": {}
        },
        {
          "output_type": "display_data",
          "data": {
            "text/plain": [
              "15:51:49.649 | \u001b[36mINFO\u001b[0m    | alembic.runtime.migration - Will assume non-transactional DDL.\n"
            ],
            "text/html": [
              "<pre style=\"white-space:pre;overflow-x:auto;line-height:normal;font-family:Menlo,'DejaVu Sans Mono',consolas,'Courier New',monospace\">15:51:49.649 | <span style=\"color: #008080; text-decoration-color: #008080\">INFO</span>    | alembic.runtime.migration - Will assume non-transactional DDL.\n",
              "</pre>\n"
            ]
          },
          "metadata": {}
        },
        {
          "output_type": "display_data",
          "data": {
            "text/plain": [
              "15:51:49.814 | \u001b[36mINFO\u001b[0m    | prefect.engine - Created flow run\u001b[35m 'cyan-guppy'\u001b[0m for flow\u001b[1;35m 'ETL Supplier Contract API'\u001b[0m\n"
            ],
            "text/html": [
              "<pre style=\"white-space:pre;overflow-x:auto;line-height:normal;font-family:Menlo,'DejaVu Sans Mono',consolas,'Courier New',monospace\">15:51:49.814 | <span style=\"color: #008080; text-decoration-color: #008080\">INFO</span>    | prefect.engine - Created flow run<span style=\"color: #800080; text-decoration-color: #800080\"> 'cyan-guppy'</span> for flow<span style=\"color: #800080; text-decoration-color: #800080; font-weight: bold\"> 'ETL Supplier Contract API'</span>\n",
              "</pre>\n"
            ]
          },
          "metadata": {}
        },
        {
          "output_type": "display_data",
          "data": {
            "text/plain": [
              "15:51:49.939 | \u001b[36mINFO\u001b[0m    | Flow run\u001b[35m 'cyan-guppy'\u001b[0m - Created task run 'Extract Supplier Contract API data-0' for task 'Extract Supplier Contract API data'\n"
            ],
            "text/html": [
              "<pre style=\"white-space:pre;overflow-x:auto;line-height:normal;font-family:Menlo,'DejaVu Sans Mono',consolas,'Courier New',monospace\">15:51:49.939 | <span style=\"color: #008080; text-decoration-color: #008080\">INFO</span>    | Flow run<span style=\"color: #800080; text-decoration-color: #800080\"> 'cyan-guppy'</span> - Created task run 'Extract Supplier Contract API data-0' for task 'Extract Supplier Contract API data'\n",
              "</pre>\n"
            ]
          },
          "metadata": {}
        },
        {
          "output_type": "display_data",
          "data": {
            "text/plain": [
              "15:51:49.943 | \u001b[36mINFO\u001b[0m    | Flow run\u001b[35m 'cyan-guppy'\u001b[0m - Executing 'Extract Supplier Contract API data-0' immediately...\n"
            ],
            "text/html": [
              "<pre style=\"white-space:pre;overflow-x:auto;line-height:normal;font-family:Menlo,'DejaVu Sans Mono',consolas,'Courier New',monospace\">15:51:49.943 | <span style=\"color: #008080; text-decoration-color: #008080\">INFO</span>    | Flow run<span style=\"color: #800080; text-decoration-color: #800080\"> 'cyan-guppy'</span> - Executing 'Extract Supplier Contract API data-0' immediately...\n",
              "</pre>\n"
            ]
          },
          "metadata": {}
        },
        {
          "output_type": "display_data",
          "data": {
            "text/plain": [
              "15:51:50.612 | \u001b[36mINFO\u001b[0m    | Task run 'Extract Supplier Contract API data-0' - Database founded API not called\n"
            ],
            "text/html": [
              "<pre style=\"white-space:pre;overflow-x:auto;line-height:normal;font-family:Menlo,'DejaVu Sans Mono',consolas,'Courier New',monospace\">15:51:50.612 | <span style=\"color: #008080; text-decoration-color: #008080\">INFO</span>    | Task run 'Extract Supplier Contract API data-0' - Database founded API not called\n",
              "</pre>\n"
            ]
          },
          "metadata": {}
        },
        {
          "output_type": "stream",
          "name": "stdout",
          "text": [
            "┌──────────────┐\n",
            "│ count_star() │\n",
            "│    int64     │\n",
            "├──────────────┤\n",
            "│        38068 │\n",
            "└──────────────┘\n",
            "\n"
          ]
        },
        {
          "output_type": "display_data",
          "data": {
            "text/plain": [
              "15:51:50.696 | \u001b[36mINFO\u001b[0m    | Task run 'Extract Supplier Contract API data-0' - Finished in state \u001b[32mCompleted\u001b[0m()\n"
            ],
            "text/html": [
              "<pre style=\"white-space:pre;overflow-x:auto;line-height:normal;font-family:Menlo,'DejaVu Sans Mono',consolas,'Courier New',monospace\">15:51:50.696 | <span style=\"color: #008080; text-decoration-color: #008080\">INFO</span>    | Task run 'Extract Supplier Contract API data-0' - Finished in state <span style=\"color: #008000; text-decoration-color: #008000\">Completed</span>()\n",
              "</pre>\n"
            ]
          },
          "metadata": {}
        },
        {
          "output_type": "display_data",
          "data": {
            "text/plain": [
              "15:51:50.751 | \u001b[36mINFO\u001b[0m    | Flow run\u001b[35m 'cyan-guppy'\u001b[0m - Created task run 'Extract Supplier Contract API data-0' for task 'Extract Supplier Contract API data'\n"
            ],
            "text/html": [
              "<pre style=\"white-space:pre;overflow-x:auto;line-height:normal;font-family:Menlo,'DejaVu Sans Mono',consolas,'Courier New',monospace\">15:51:50.751 | <span style=\"color: #008080; text-decoration-color: #008080\">INFO</span>    | Flow run<span style=\"color: #800080; text-decoration-color: #800080\"> 'cyan-guppy'</span> - Created task run 'Extract Supplier Contract API data-0' for task 'Extract Supplier Contract API data'\n",
              "</pre>\n"
            ]
          },
          "metadata": {}
        },
        {
          "output_type": "display_data",
          "data": {
            "text/plain": [
              "15:51:50.755 | \u001b[36mINFO\u001b[0m    | Flow run\u001b[35m 'cyan-guppy'\u001b[0m - Executing 'Extract Supplier Contract API data-0' immediately...\n"
            ],
            "text/html": [
              "<pre style=\"white-space:pre;overflow-x:auto;line-height:normal;font-family:Menlo,'DejaVu Sans Mono',consolas,'Courier New',monospace\">15:51:50.755 | <span style=\"color: #008080; text-decoration-color: #008080\">INFO</span>    | Flow run<span style=\"color: #800080; text-decoration-color: #800080\"> 'cyan-guppy'</span> - Executing 'Extract Supplier Contract API data-0' immediately...\n",
              "</pre>\n"
            ]
          },
          "metadata": {}
        },
        {
          "output_type": "display_data",
          "data": {
            "text/plain": [
              "15:51:50.851 | \u001b[36mINFO\u001b[0m    | Task run 'Extract Supplier Contract API data-0' - Running Soda Scan ...\n"
            ],
            "text/html": [
              "<pre style=\"white-space:pre;overflow-x:auto;line-height:normal;font-family:Menlo,'DejaVu Sans Mono',consolas,'Courier New',monospace\">15:51:50.851 | <span style=\"color: #008080; text-decoration-color: #008080\">INFO</span>    | Task run 'Extract Supplier Contract API data-0' - Running Soda Scan ...\n",
              "</pre>\n"
            ]
          },
          "metadata": {}
        },
        {
          "output_type": "display_data",
          "data": {
            "text/plain": [
              "15:51:50.918 | \u001b[36mINFO\u001b[0m    | Task run 'Extract Supplier Contract API data-0' - \u001b[36mINFO\u001b[0m   | Soda Core 3.0.45\n",
              "DEBUG  | Reading SodaCL file \"soda/checks/sources/raw_check.yml\"\n",
              "DEBUG  | Scan execution starts\n",
              "DEBUG  | Query duckdb.supplier_raw_table.aggregation[0]:\n",
              "SELECT \n",
              "  COUNT(*) \n",
              "FROM supplier_raw_table\n",
              "DEBUG  | Query duckdb.supplier_raw_table.schema[supplier_raw_table]:\n",
              "SELECT column_name, lower(data_type) as data_type, is_nullable \n",
              "FROM information_schema.columns \n",
              "WHERE (table_name) = 'supplier_raw_table'\n",
              "ORDER BY ORDINAL_POSITION\n",
              "\u001b[36mINFO\u001b[0m   | Scan summary:\n",
              "DEBUG  | 2/2 queries OK\n",
              "DEBUG  |   duckdb.supplier_raw_table.aggregation[0] [OK] 0:00:00.000974\n",
              "DEBUG  |   duckdb.supplier_raw_table.schema[supplier_raw_table] [OK] 0:00:00.032312\n",
              "\u001b[36mINFO\u001b[0m   | 2/2 checks PASSED: \n",
              "\u001b[36mINFO\u001b[0m   |     supplier_raw_table in duckdb\n",
              "\u001b[36mINFO\u001b[0m   |       Check the number of rows [soda/checks/sources/raw_check.yml] [PASSED]\n",
              "\u001b[36mINFO\u001b[0m   |         check_value: 38068\n",
              "\u001b[36mINFO\u001b[0m   |       Confirm that required columns are present [soda/checks/sources/raw_check.yml] [PASSED]\n",
              "\u001b[36mINFO\u001b[0m   |         schema_measured = [contract_title varchar, term_start_date varchar, term_end_date varchar, contract_type varchar, purchasing_authority varchar, department_code varchar, department varchar, prime_contractor varchar, project_team_supplier varchar, project_team_lbe_status varchar, project_team_constituent varchar, scope_of_work varchar, agreed_amt varchar, consumed_amt varchar, pmt_amt varchar, remaining_amt varchar, contract_no varchar, non_profit varchar, sole_source_flg varchar]\n",
              "\u001b[36mINFO\u001b[0m   | All is good. No failures. No warnings. No errors.\n"
            ],
            "text/html": [
              "<pre style=\"white-space:pre;overflow-x:auto;line-height:normal;font-family:Menlo,'DejaVu Sans Mono',consolas,'Courier New',monospace\">15:51:50.918 | <span style=\"color: #008080; text-decoration-color: #008080\">INFO</span>    | Task run 'Extract Supplier Contract API data-0' - <span style=\"color: #008080; text-decoration-color: #008080\">INFO</span>   | Soda Core 3.0.45\n",
              "DEBUG  | Reading SodaCL file \"soda/checks/sources/raw_check.yml\"\n",
              "DEBUG  | Scan execution starts\n",
              "DEBUG  | Query duckdb.supplier_raw_table.aggregation[0]:\n",
              "SELECT \n",
              "  COUNT(*) \n",
              "FROM supplier_raw_table\n",
              "DEBUG  | Query duckdb.supplier_raw_table.schema[supplier_raw_table]:\n",
              "SELECT column_name, lower(data_type) as data_type, is_nullable \n",
              "FROM information_schema.columns \n",
              "WHERE (table_name) = 'supplier_raw_table'\n",
              "ORDER BY ORDINAL_POSITION\n",
              "<span style=\"color: #008080; text-decoration-color: #008080\">INFO</span>   | Scan summary:\n",
              "DEBUG  | 2/2 queries OK\n",
              "DEBUG  |   duckdb.supplier_raw_table.aggregation[0] [OK] 0:00:00.000974\n",
              "DEBUG  |   duckdb.supplier_raw_table.schema[supplier_raw_table] [OK] 0:00:00.032312\n",
              "<span style=\"color: #008080; text-decoration-color: #008080\">INFO</span>   | 2/2 checks PASSED: \n",
              "<span style=\"color: #008080; text-decoration-color: #008080\">INFO</span>   |     supplier_raw_table in duckdb\n",
              "<span style=\"color: #008080; text-decoration-color: #008080\">INFO</span>   |       Check the number of rows [soda/checks/sources/raw_check.yml] [PASSED]\n",
              "<span style=\"color: #008080; text-decoration-color: #008080\">INFO</span>   |         check_value: 38068\n",
              "<span style=\"color: #008080; text-decoration-color: #008080\">INFO</span>   |       Confirm that required columns are present [soda/checks/sources/raw_check.yml] [PASSED]\n",
              "<span style=\"color: #008080; text-decoration-color: #008080\">INFO</span>   |         schema_measured = [contract_title varchar, term_start_date varchar, term_end_date varchar, contract_type varchar, purchasing_authority varchar, department_code varchar, department varchar, prime_contractor varchar, project_team_supplier varchar, project_team_lbe_status varchar, project_team_constituent varchar, scope_of_work varchar, agreed_amt varchar, consumed_amt varchar, pmt_amt varchar, remaining_amt varchar, contract_no varchar, non_profit varchar, sole_source_flg varchar]\n",
              "<span style=\"color: #008080; text-decoration-color: #008080\">INFO</span>   | All is good. No failures. No warnings. No errors.\n",
              "</pre>\n"
            ]
          },
          "metadata": {}
        },
        {
          "output_type": "display_data",
          "data": {
            "text/plain": [
              "15:51:50.978 | \u001b[36mINFO\u001b[0m    | Task run 'Extract Supplier Contract API data-0' - Finished in state \u001b[32mCompleted\u001b[0m()\n"
            ],
            "text/html": [
              "<pre style=\"white-space:pre;overflow-x:auto;line-height:normal;font-family:Menlo,'DejaVu Sans Mono',consolas,'Courier New',monospace\">15:51:50.978 | <span style=\"color: #008080; text-decoration-color: #008080\">INFO</span>    | Task run 'Extract Supplier Contract API data-0' - Finished in state <span style=\"color: #008000; text-decoration-color: #008000\">Completed</span>()\n",
              "</pre>\n"
            ]
          },
          "metadata": {}
        },
        {
          "output_type": "display_data",
          "data": {
            "text/plain": [
              "15:51:51.031 | \u001b[36mINFO\u001b[0m    | Flow run\u001b[35m 'cyan-guppy'\u001b[0m - Created task run 'Extract Supplier Contract API data-0' for task 'Extract Supplier Contract API data'\n"
            ],
            "text/html": [
              "<pre style=\"white-space:pre;overflow-x:auto;line-height:normal;font-family:Menlo,'DejaVu Sans Mono',consolas,'Courier New',monospace\">15:51:51.031 | <span style=\"color: #008080; text-decoration-color: #008080\">INFO</span>    | Flow run<span style=\"color: #800080; text-decoration-color: #800080\"> 'cyan-guppy'</span> - Created task run 'Extract Supplier Contract API data-0' for task 'Extract Supplier Contract API data'\n",
              "</pre>\n"
            ]
          },
          "metadata": {}
        },
        {
          "output_type": "display_data",
          "data": {
            "text/plain": [
              "15:51:51.034 | \u001b[36mINFO\u001b[0m    | Flow run\u001b[35m 'cyan-guppy'\u001b[0m - Executing 'Extract Supplier Contract API data-0' immediately...\n"
            ],
            "text/html": [
              "<pre style=\"white-space:pre;overflow-x:auto;line-height:normal;font-family:Menlo,'DejaVu Sans Mono',consolas,'Courier New',monospace\">15:51:51.034 | <span style=\"color: #008080; text-decoration-color: #008080\">INFO</span>    | Flow run<span style=\"color: #800080; text-decoration-color: #800080\"> 'cyan-guppy'</span> - Executing 'Extract Supplier Contract API data-0' immediately...\n",
              "</pre>\n"
            ]
          },
          "metadata": {}
        },
        {
          "output_type": "display_data",
          "data": {
            "text/plain": [
              "15:52:05.253 | \u001b[36mINFO\u001b[0m    | Task run 'Extract Supplier Contract API data-0' - Finished in state \u001b[32mCompleted\u001b[0m()\n"
            ],
            "text/html": [
              "<pre style=\"white-space:pre;overflow-x:auto;line-height:normal;font-family:Menlo,'DejaVu Sans Mono',consolas,'Courier New',monospace\">15:52:05.253 | <span style=\"color: #008080; text-decoration-color: #008080\">INFO</span>    | Task run 'Extract Supplier Contract API data-0' - Finished in state <span style=\"color: #008000; text-decoration-color: #008000\">Completed</span>()\n",
              "</pre>\n"
            ]
          },
          "metadata": {}
        },
        {
          "output_type": "display_data",
          "data": {
            "text/plain": [
              "15:52:05.332 | \u001b[36mINFO\u001b[0m    | Flow run\u001b[35m 'cyan-guppy'\u001b[0m - Created task run 'Extract Supplier Contract API data-0' for task 'Extract Supplier Contract API data'\n"
            ],
            "text/html": [
              "<pre style=\"white-space:pre;overflow-x:auto;line-height:normal;font-family:Menlo,'DejaVu Sans Mono',consolas,'Courier New',monospace\">15:52:05.332 | <span style=\"color: #008080; text-decoration-color: #008080\">INFO</span>    | Flow run<span style=\"color: #800080; text-decoration-color: #800080\"> 'cyan-guppy'</span> - Created task run 'Extract Supplier Contract API data-0' for task 'Extract Supplier Contract API data'\n",
              "</pre>\n"
            ]
          },
          "metadata": {}
        },
        {
          "output_type": "display_data",
          "data": {
            "text/plain": [
              "15:52:05.342 | \u001b[36mINFO\u001b[0m    | Flow run\u001b[35m 'cyan-guppy'\u001b[0m - Executing 'Extract Supplier Contract API data-0' immediately...\n"
            ],
            "text/html": [
              "<pre style=\"white-space:pre;overflow-x:auto;line-height:normal;font-family:Menlo,'DejaVu Sans Mono',consolas,'Courier New',monospace\">15:52:05.342 | <span style=\"color: #008080; text-decoration-color: #008080\">INFO</span>    | Flow run<span style=\"color: #800080; text-decoration-color: #800080\"> 'cyan-guppy'</span> - Executing 'Extract Supplier Contract API data-0' immediately...\n",
              "</pre>\n"
            ]
          },
          "metadata": {}
        },
        {
          "output_type": "display_data",
          "data": {
            "text/plain": [
              "15:52:05.447 | \u001b[36mINFO\u001b[0m    | Task run 'Extract Supplier Contract API data-0' - Running Soda Scan ...\n"
            ],
            "text/html": [
              "<pre style=\"white-space:pre;overflow-x:auto;line-height:normal;font-family:Menlo,'DejaVu Sans Mono',consolas,'Courier New',monospace\">15:52:05.447 | <span style=\"color: #008080; text-decoration-color: #008080\">INFO</span>    | Task run 'Extract Supplier Contract API data-0' - Running Soda Scan ...\n",
              "</pre>\n"
            ]
          },
          "metadata": {}
        },
        {
          "output_type": "display_data",
          "data": {
            "text/plain": [
              "15:52:05.755 | \u001b[36mINFO\u001b[0m    | Task run 'Extract Supplier Contract API data-0' - \u001b[36mINFO\u001b[0m   | Soda Core 3.0.45\n",
              "DEBUG  | Reading SodaCL file \"soda/checks/staging/transfom_check.yml\"\n",
              "DEBUG  | Scan execution starts\n",
              "DEBUG  | Query duckdb.supplier_transformed_table.aggregation[0]:\n",
              "SELECT \n",
              "  COUNT(*),\n",
              "  COUNT(CASE WHEN contract_number IS NULL THEN 1 END),\n",
              "  COUNT(CASE WHEN NOT (has_outstanding_orders IS NULL) AND NOT (has_outstanding_orders IN (True,False)) THEN 1 END),\n",
              "  COUNT(CASE WHEN NOT (is_sole_source IS NULL) AND NOT (is_sole_source IN (True,False)) THEN 1 END),\n",
              "  COUNT(CASE WHEN NOT (end_month IS NULL) AND NOT (end_month >= 1.0 AND end_month <= 12.0) THEN 1 END),\n",
              "  COUNT(CASE WHEN NOT (start_month IS NULL) AND NOT (start_month >= 1.0 AND start_month <= 12.0) THEN 1 END),\n",
              "  COUNT(CASE WHEN NOT (contract_awarded_amount IS NULL) AND NOT (contract_awarded_amount >= 0.0) THEN 1 END),\n",
              "  COUNT(CASE WHEN NOT (purchase_orders_outstanding IS NULL) AND NOT (purchase_orders_outstanding >= 0.0) THEN 1 END),\n",
              "  COUNT(CASE WHEN NOT (payments_made IS NULL) AND NOT (payments_made >= 0.0) THEN 1 END),\n",
              "  COUNT(CASE WHEN NOT (remaining_contract_award_amount IS NULL) AND NOT (remaining_contract_award_amount >= 0.0) THEN 1 END),\n",
              "  COUNT(CASE WHEN NOT (start_date IS NULL) AND NOT (REGEXP_MATCHES(start_date, '^ *(19|20)?\\d\\d[-\\./]([1-9]|0[1-9]|1[012])[-\\./]([1-9]|[012][0-9]|3[01]) *$')) THEN 1 END),\n",
              "  COUNT(CASE WHEN NOT (end_date IS NULL) AND NOT (REGEXP_MATCHES(end_date, '^ *(19|20)?\\d\\d[-\\./]([1-9]|0[1-9]|1[012])[-\\./]([1-9]|[012][0-9]|3[01]) *$')) THEN 1 END)\n",
              "FROM supplier_transformed_table\n",
              "DEBUG  | Query duckdb.end_date.failed_rows[invalid_count]:\n",
              "SELECT * FROM supplier_transformed_table \n",
              " WHERE NOT (end_date IS NULL) AND NOT (REGEXP_MATCHES(end_date, '^ *(19|20)?\\d\\d[-\\./]([1-9]|0[1-9]|1[012])[-\\./]([1-9]|[012][0-9]|3[01]) *$'))\n",
              " LIMIT 100\n",
              "\u001b[36mINFO\u001b[0m   | Using DefaultSampler\n",
              "DEBUG  | Query duckdb.supplier_transformed_table.contract_number.duplicate_count:\n",
              "\n",
              "WITH frequencies AS (\n",
              "    SELECT COUNT(*) AS frequency\n",
              "    FROM supplier_transformed_table\n",
              "    WHERE contract_number IS NOT NULL\n",
              "    GROUP BY contract_number)\n",
              "SELECT count(*)\n",
              "FROM frequencies\n",
              "WHERE frequency > 1\n",
              "DEBUG  | Query duckdb.supplier_transformed_table.duplicate_count[contract_number].failed_rows.aggregated:\n",
              "\n",
              "WITH frequencies AS (\n",
              "    SELECT contract_number, COUNT(*) AS frequency\n",
              "    FROM supplier_transformed_table\n",
              "    WHERE contract_number IS NOT NULL\n",
              "    GROUP BY contract_number)\n",
              "SELECT *\n",
              "FROM frequencies\n",
              "WHERE frequency > 1\n",
              "ORDER BY frequency DESC\n",
              "LIMIT 100\n",
              "DEBUG  | Query duckdb.user_defined_query[exceeds_limit = 0]:\n",
              "SELECT \n",
              "  SUM(CASE \n",
              "    WHEN payments_made + remaining_contract_award_amount > contract_awarded_amount THEN 1 \n",
              "    ELSE 0 \n",
              "  END) AS exceeds_limit\n",
              "FROM supplier_transformed_table\n",
              "DEBUG  | Query duckdb.user_defined_query[exceeds_date = 0]:\n",
              "SELECT \n",
              "  SUM(CASE  \n",
              "    WHEN start_date > end_date THEN 1\n",
              "    ELSE 0\n",
              "  END) AS exceeds_date\n",
              "FROM supplier_transformed_table\n",
              "DEBUG  | Query duckdb.supplier_transformed_table.schema[supplier_transformed_table]:\n",
              "SELECT column_name, lower(data_type) as data_type, is_nullable \n",
              "FROM information_schema.columns \n",
              "WHERE (table_name) = 'supplier_transformed_table'\n",
              "ORDER BY ORDINAL_POSITION\n",
              "\u001b[36mINFO\u001b[0m   | Scan summary:\n",
              "DEBUG  | 7/7 queries OK\n",
              "DEBUG  |   duckdb.supplier_transformed_table.aggregation[0] [OK] 0:00:00.025405\n",
              "DEBUG  |   duckdb.end_date.failed_rows[invalid_count] [OK] 0:00:00.033974\n",
              "DEBUG  |   duckdb.supplier_transformed_table.contract_number.duplicate_count [OK] 0:00:00.018007\n",
              "DEBUG  |   duckdb.supplier_transformed_table.duplicate_count[contract_number].failed_rows.aggregated [OK] 0:00:00.017174\n",
              "DEBUG  |   duckdb.user_defined_query[exceeds_limit = 0] [OK] 0:00:00.001667\n",
              "DEBUG  |   duckdb.user_defined_query[exceeds_date = 0] [OK] 0:00:00.001005\n",
              "DEBUG  |   duckdb.supplier_transformed_table.schema[supplier_transformed_table] [OK] 0:00:00.052239\n",
              "\u001b[36mINFO\u001b[0m   | 16/16 checks PASSED: \n",
              "\u001b[36mINFO\u001b[0m   |     supplier_transformed_table in duckdb\n",
              "\u001b[36mINFO\u001b[0m   |       Check the number of rows [soda/checks/staging/transfom_check.yml] [PASSED]\n",
              "\u001b[36mINFO\u001b[0m   |         check_value: 24392\n",
              "\u001b[36mINFO\u001b[0m   |       Ensure that payment made remaining amount is not higher than the contract_awarded_amount [soda/checks/staging/transfom_check.yml] [PASSED]\n",
              "\u001b[36mINFO\u001b[0m   |         check_value: 0.0\n",
              "\u001b[36mINFO\u001b[0m   |       Ensure that start date is < end date [soda/checks/staging/transfom_check.yml] [PASSED]\n",
              "\u001b[36mINFO\u001b[0m   |         check_value: 0.0\n",
              "\u001b[36mINFO\u001b[0m   |       Confirm that required columns are present [soda/checks/staging/transfom_check.yml] [PASSED]\n",
              "\u001b[36mINFO\u001b[0m   |         schema_measured = [contract_title varchar, term_start_date varchar, term_end_date varchar, contract_type varchar, purchasing_authority varchar, department_code varchar, department varchar, supplier_name_prime_contractor varchar, supplier_name varchar, project_team_lbe_status varchar, supplier_type varchar, scope_of_work varchar, contract_awarded_amount float, purchase_orders_outstanding float, payments_made float, remaining_contract_award_amount float, contract_number varchar, non_profit varchar, start_date date, end_date date, start_day integer, start_month integer, start_year integer, end_day integer, end_month integer, end_year integer, is_sole_source integer, is_non_profit integer, has_outstanding_orders integer]\n",
              "\u001b[36mINFO\u001b[0m   |       Ensure that there are no missing contract_number [soda/checks/staging/transfom_check.yml] [PASSED]\n",
              "\u001b[36mINFO\u001b[0m   |         check_value: 0\n",
              "\u001b[36mINFO\u001b[0m   |       Ensure that all rows are unique [soda/checks/staging/transfom_check.yml] [PASSED]\n",
              "\u001b[36mINFO\u001b[0m   |         check_value: 0\n",
              "\u001b[36mINFO\u001b[0m   |       Ensure has_outstanding_orders column has valid values [soda/checks/staging/transfom_check.yml] [PASSED]\n",
              "\u001b[36mINFO\u001b[0m   |         check_value: 0\n",
              "\u001b[36mINFO\u001b[0m   |       Ensure is_sole_source column has valid values [soda/checks/staging/transfom_check.yml] [PASSED]\n",
              "\u001b[36mINFO\u001b[0m   |         check_value: 0\n",
              "\u001b[36mINFO\u001b[0m   |       Ensure end_month range is between 1 to 12 [soda/checks/staging/transfom_check.yml] [PASSED]\n",
              "\u001b[36mINFO\u001b[0m   |         check_value: 0\n",
              "\u001b[36mINFO\u001b[0m   |       Ensure start_month range is between 1 to 12 [soda/checks/staging/transfom_check.yml] [PASSED]\n",
              "\u001b[36mINFO\u001b[0m   |         check_value: 0\n",
              "\u001b[36mINFO\u001b[0m   |       Ensure that the contract contract_awarded_amount is >= 0 [soda/checks/staging/transfom_check.yml] [PASSED]\n",
              "\u001b[36mINFO\u001b[0m   |         check_value: 0\n",
              "\u001b[36mINFO\u001b[0m   |       Ensure that the purchase_orders_outstanding is >= 0 [soda/checks/staging/transfom_check.yml] [PASSED]\n",
              "\u001b[36mINFO\u001b[0m   |         check_value: 0\n",
              "\u001b[36mINFO\u001b[0m   |       Ensure that the payments_made is >= 0 [soda/checks/staging/transfom_check.yml] [PASSED]\n",
              "\u001b[36mINFO\u001b[0m   |         check_value: 0\n",
              "\u001b[36mINFO\u001b[0m   |       Ensure that the remaining_contract_award_amount is >= 0 [soda/checks/staging/transfom_check.yml] [PASSED]\n",
              "\u001b[36mINFO\u001b[0m   |         check_value: 0\n",
              "\u001b[36mINFO\u001b[0m   |       Ensure start date values are formatted as (yyyy/mm/dd) [soda/checks/staging/transfom_check.yml] [PASSED]\n",
              "\u001b[36mINFO\u001b[0m   |         check_value: 0.0\n",
              "\u001b[36mINFO\u001b[0m   |         row_count: 24392\n",
              "\u001b[36mINFO\u001b[0m   |         invalid_count: 0\n",
              "\u001b[36mINFO\u001b[0m   |       Ensure end_date values are formatted as (yyyy/mm/dd) [soda/checks/staging/transfom_check.yml] [PASSED]\n",
              "\u001b[36mINFO\u001b[0m   |         check_value: 0.1\n",
              "\u001b[36mINFO\u001b[0m   |         row_count: 24392\n",
              "\u001b[36mINFO\u001b[0m   |         invalid_count: 24\n",
              "\u001b[36mINFO\u001b[0m   | All is good. No failures. No warnings. No errors.\n"
            ],
            "text/html": [
              "<pre style=\"white-space:pre;overflow-x:auto;line-height:normal;font-family:Menlo,'DejaVu Sans Mono',consolas,'Courier New',monospace\">15:52:05.755 | <span style=\"color: #008080; text-decoration-color: #008080\">INFO</span>    | Task run 'Extract Supplier Contract API data-0' - <span style=\"color: #008080; text-decoration-color: #008080\">INFO</span>   | Soda Core 3.0.45\n",
              "DEBUG  | Reading SodaCL file \"soda/checks/staging/transfom_check.yml\"\n",
              "DEBUG  | Scan execution starts\n",
              "DEBUG  | Query duckdb.supplier_transformed_table.aggregation[0]:\n",
              "SELECT \n",
              "  COUNT(*),\n",
              "  COUNT(CASE WHEN contract_number IS NULL THEN 1 END),\n",
              "  COUNT(CASE WHEN NOT (has_outstanding_orders IS NULL) AND NOT (has_outstanding_orders IN (True,False)) THEN 1 END),\n",
              "  COUNT(CASE WHEN NOT (is_sole_source IS NULL) AND NOT (is_sole_source IN (True,False)) THEN 1 END),\n",
              "  COUNT(CASE WHEN NOT (end_month IS NULL) AND NOT (end_month &gt;= 1.0 AND end_month &lt;= 12.0) THEN 1 END),\n",
              "  COUNT(CASE WHEN NOT (start_month IS NULL) AND NOT (start_month &gt;= 1.0 AND start_month &lt;= 12.0) THEN 1 END),\n",
              "  COUNT(CASE WHEN NOT (contract_awarded_amount IS NULL) AND NOT (contract_awarded_amount &gt;= 0.0) THEN 1 END),\n",
              "  COUNT(CASE WHEN NOT (purchase_orders_outstanding IS NULL) AND NOT (purchase_orders_outstanding &gt;= 0.0) THEN 1 END),\n",
              "  COUNT(CASE WHEN NOT (payments_made IS NULL) AND NOT (payments_made &gt;= 0.0) THEN 1 END),\n",
              "  COUNT(CASE WHEN NOT (remaining_contract_award_amount IS NULL) AND NOT (remaining_contract_award_amount &gt;= 0.0) THEN 1 END),\n",
              "  COUNT(CASE WHEN NOT (start_date IS NULL) AND NOT (REGEXP_MATCHES(start_date, '^ *(19|20)?\\d\\d[-\\./]([1-9]|0[1-9]|1[012])[-\\./]([1-9]|[012][0-9]|3[01]) *$')) THEN 1 END),\n",
              "  COUNT(CASE WHEN NOT (end_date IS NULL) AND NOT (REGEXP_MATCHES(end_date, '^ *(19|20)?\\d\\d[-\\./]([1-9]|0[1-9]|1[012])[-\\./]([1-9]|[012][0-9]|3[01]) *$')) THEN 1 END)\n",
              "FROM supplier_transformed_table\n",
              "DEBUG  | Query duckdb.end_date.failed_rows[invalid_count]:\n",
              "SELECT * FROM supplier_transformed_table \n",
              " WHERE NOT (end_date IS NULL) AND NOT (REGEXP_MATCHES(end_date, '^ *(19|20)?\\d\\d[-\\./]([1-9]|0[1-9]|1[012])[-\\./]([1-9]|[012][0-9]|3[01]) *$'))\n",
              " LIMIT 100\n",
              "<span style=\"color: #008080; text-decoration-color: #008080\">INFO</span>   | Using DefaultSampler\n",
              "DEBUG  | Query duckdb.supplier_transformed_table.contract_number.duplicate_count:\n",
              "\n",
              "WITH frequencies AS (\n",
              "    SELECT COUNT(*) AS frequency\n",
              "    FROM supplier_transformed_table\n",
              "    WHERE contract_number IS NOT NULL\n",
              "    GROUP BY contract_number)\n",
              "SELECT count(*)\n",
              "FROM frequencies\n",
              "WHERE frequency &gt; 1\n",
              "DEBUG  | Query duckdb.supplier_transformed_table.duplicate_count[contract_number].failed_rows.aggregated:\n",
              "\n",
              "WITH frequencies AS (\n",
              "    SELECT contract_number, COUNT(*) AS frequency\n",
              "    FROM supplier_transformed_table\n",
              "    WHERE contract_number IS NOT NULL\n",
              "    GROUP BY contract_number)\n",
              "SELECT *\n",
              "FROM frequencies\n",
              "WHERE frequency &gt; 1\n",
              "ORDER BY frequency DESC\n",
              "LIMIT 100\n",
              "DEBUG  | Query duckdb.user_defined_query[exceeds_limit = 0]:\n",
              "SELECT \n",
              "  SUM(CASE \n",
              "    WHEN payments_made + remaining_contract_award_amount &gt; contract_awarded_amount THEN 1 \n",
              "    ELSE 0 \n",
              "  END) AS exceeds_limit\n",
              "FROM supplier_transformed_table\n",
              "DEBUG  | Query duckdb.user_defined_query[exceeds_date = 0]:\n",
              "SELECT \n",
              "  SUM(CASE  \n",
              "    WHEN start_date &gt; end_date THEN 1\n",
              "    ELSE 0\n",
              "  END) AS exceeds_date\n",
              "FROM supplier_transformed_table\n",
              "DEBUG  | Query duckdb.supplier_transformed_table.schema[supplier_transformed_table]:\n",
              "SELECT column_name, lower(data_type) as data_type, is_nullable \n",
              "FROM information_schema.columns \n",
              "WHERE (table_name) = 'supplier_transformed_table'\n",
              "ORDER BY ORDINAL_POSITION\n",
              "<span style=\"color: #008080; text-decoration-color: #008080\">INFO</span>   | Scan summary:\n",
              "DEBUG  | 7/7 queries OK\n",
              "DEBUG  |   duckdb.supplier_transformed_table.aggregation[0] [OK] 0:00:00.025405\n",
              "DEBUG  |   duckdb.end_date.failed_rows[invalid_count] [OK] 0:00:00.033974\n",
              "DEBUG  |   duckdb.supplier_transformed_table.contract_number.duplicate_count [OK] 0:00:00.018007\n",
              "DEBUG  |   duckdb.supplier_transformed_table.duplicate_count[contract_number].failed_rows.aggregated [OK] 0:00:00.017174\n",
              "DEBUG  |   duckdb.user_defined_query[exceeds_limit = 0] [OK] 0:00:00.001667\n",
              "DEBUG  |   duckdb.user_defined_query[exceeds_date = 0] [OK] 0:00:00.001005\n",
              "DEBUG  |   duckdb.supplier_transformed_table.schema[supplier_transformed_table] [OK] 0:00:00.052239\n",
              "<span style=\"color: #008080; text-decoration-color: #008080\">INFO</span>   | 16/16 checks PASSED: \n",
              "<span style=\"color: #008080; text-decoration-color: #008080\">INFO</span>   |     supplier_transformed_table in duckdb\n",
              "<span style=\"color: #008080; text-decoration-color: #008080\">INFO</span>   |       Check the number of rows [soda/checks/staging/transfom_check.yml] [PASSED]\n",
              "<span style=\"color: #008080; text-decoration-color: #008080\">INFO</span>   |         check_value: 24392\n",
              "<span style=\"color: #008080; text-decoration-color: #008080\">INFO</span>   |       Ensure that payment made remaining amount is not higher than the contract_awarded_amount [soda/checks/staging/transfom_check.yml] [PASSED]\n",
              "<span style=\"color: #008080; text-decoration-color: #008080\">INFO</span>   |         check_value: 0.0\n",
              "<span style=\"color: #008080; text-decoration-color: #008080\">INFO</span>   |       Ensure that start date is &lt; end date [soda/checks/staging/transfom_check.yml] [PASSED]\n",
              "<span style=\"color: #008080; text-decoration-color: #008080\">INFO</span>   |         check_value: 0.0\n",
              "<span style=\"color: #008080; text-decoration-color: #008080\">INFO</span>   |       Confirm that required columns are present [soda/checks/staging/transfom_check.yml] [PASSED]\n",
              "<span style=\"color: #008080; text-decoration-color: #008080\">INFO</span>   |         schema_measured = [contract_title varchar, term_start_date varchar, term_end_date varchar, contract_type varchar, purchasing_authority varchar, department_code varchar, department varchar, supplier_name_prime_contractor varchar, supplier_name varchar, project_team_lbe_status varchar, supplier_type varchar, scope_of_work varchar, contract_awarded_amount float, purchase_orders_outstanding float, payments_made float, remaining_contract_award_amount float, contract_number varchar, non_profit varchar, start_date date, end_date date, start_day integer, start_month integer, start_year integer, end_day integer, end_month integer, end_year integer, is_sole_source integer, is_non_profit integer, has_outstanding_orders integer]\n",
              "<span style=\"color: #008080; text-decoration-color: #008080\">INFO</span>   |       Ensure that there are no missing contract_number [soda/checks/staging/transfom_check.yml] [PASSED]\n",
              "<span style=\"color: #008080; text-decoration-color: #008080\">INFO</span>   |         check_value: 0\n",
              "<span style=\"color: #008080; text-decoration-color: #008080\">INFO</span>   |       Ensure that all rows are unique [soda/checks/staging/transfom_check.yml] [PASSED]\n",
              "<span style=\"color: #008080; text-decoration-color: #008080\">INFO</span>   |         check_value: 0\n",
              "<span style=\"color: #008080; text-decoration-color: #008080\">INFO</span>   |       Ensure has_outstanding_orders column has valid values [soda/checks/staging/transfom_check.yml] [PASSED]\n",
              "<span style=\"color: #008080; text-decoration-color: #008080\">INFO</span>   |         check_value: 0\n",
              "<span style=\"color: #008080; text-decoration-color: #008080\">INFO</span>   |       Ensure is_sole_source column has valid values [soda/checks/staging/transfom_check.yml] [PASSED]\n",
              "<span style=\"color: #008080; text-decoration-color: #008080\">INFO</span>   |         check_value: 0\n",
              "<span style=\"color: #008080; text-decoration-color: #008080\">INFO</span>   |       Ensure end_month range is between 1 to 12 [soda/checks/staging/transfom_check.yml] [PASSED]\n",
              "<span style=\"color: #008080; text-decoration-color: #008080\">INFO</span>   |         check_value: 0\n",
              "<span style=\"color: #008080; text-decoration-color: #008080\">INFO</span>   |       Ensure start_month range is between 1 to 12 [soda/checks/staging/transfom_check.yml] [PASSED]\n",
              "<span style=\"color: #008080; text-decoration-color: #008080\">INFO</span>   |         check_value: 0\n",
              "<span style=\"color: #008080; text-decoration-color: #008080\">INFO</span>   |       Ensure that the contract contract_awarded_amount is &gt;= 0 [soda/checks/staging/transfom_check.yml] [PASSED]\n",
              "<span style=\"color: #008080; text-decoration-color: #008080\">INFO</span>   |         check_value: 0\n",
              "<span style=\"color: #008080; text-decoration-color: #008080\">INFO</span>   |       Ensure that the purchase_orders_outstanding is &gt;= 0 [soda/checks/staging/transfom_check.yml] [PASSED]\n",
              "<span style=\"color: #008080; text-decoration-color: #008080\">INFO</span>   |         check_value: 0\n",
              "<span style=\"color: #008080; text-decoration-color: #008080\">INFO</span>   |       Ensure that the payments_made is &gt;= 0 [soda/checks/staging/transfom_check.yml] [PASSED]\n",
              "<span style=\"color: #008080; text-decoration-color: #008080\">INFO</span>   |         check_value: 0\n",
              "<span style=\"color: #008080; text-decoration-color: #008080\">INFO</span>   |       Ensure that the remaining_contract_award_amount is &gt;= 0 [soda/checks/staging/transfom_check.yml] [PASSED]\n",
              "<span style=\"color: #008080; text-decoration-color: #008080\">INFO</span>   |         check_value: 0\n",
              "<span style=\"color: #008080; text-decoration-color: #008080\">INFO</span>   |       Ensure start date values are formatted as (yyyy/mm/dd) [soda/checks/staging/transfom_check.yml] [PASSED]\n",
              "<span style=\"color: #008080; text-decoration-color: #008080\">INFO</span>   |         check_value: 0.0\n",
              "<span style=\"color: #008080; text-decoration-color: #008080\">INFO</span>   |         row_count: 24392\n",
              "<span style=\"color: #008080; text-decoration-color: #008080\">INFO</span>   |         invalid_count: 0\n",
              "<span style=\"color: #008080; text-decoration-color: #008080\">INFO</span>   |       Ensure end_date values are formatted as (yyyy/mm/dd) [soda/checks/staging/transfom_check.yml] [PASSED]\n",
              "<span style=\"color: #008080; text-decoration-color: #008080\">INFO</span>   |         check_value: 0.1\n",
              "<span style=\"color: #008080; text-decoration-color: #008080\">INFO</span>   |         row_count: 24392\n",
              "<span style=\"color: #008080; text-decoration-color: #008080\">INFO</span>   |         invalid_count: 24\n",
              "<span style=\"color: #008080; text-decoration-color: #008080\">INFO</span>   | All is good. No failures. No warnings. No errors.\n",
              "</pre>\n"
            ]
          },
          "metadata": {}
        },
        {
          "output_type": "display_data",
          "data": {
            "text/plain": [
              "15:52:05.845 | \u001b[36mINFO\u001b[0m    | Task run 'Extract Supplier Contract API data-0' - Finished in state \u001b[32mCompleted\u001b[0m()\n"
            ],
            "text/html": [
              "<pre style=\"white-space:pre;overflow-x:auto;line-height:normal;font-family:Menlo,'DejaVu Sans Mono',consolas,'Courier New',monospace\">15:52:05.845 | <span style=\"color: #008080; text-decoration-color: #008080\">INFO</span>    | Task run 'Extract Supplier Contract API data-0' - Finished in state <span style=\"color: #008000; text-decoration-color: #008000\">Completed</span>()\n",
              "</pre>\n"
            ]
          },
          "metadata": {}
        },
        {
          "output_type": "display_data",
          "data": {
            "text/plain": [
              "15:52:05.891 | \u001b[36mINFO\u001b[0m    | Flow run\u001b[35m 'cyan-guppy'\u001b[0m - Created task run 'Extract Supplier Contract API data-0' for task 'Extract Supplier Contract API data'\n"
            ],
            "text/html": [
              "<pre style=\"white-space:pre;overflow-x:auto;line-height:normal;font-family:Menlo,'DejaVu Sans Mono',consolas,'Courier New',monospace\">15:52:05.891 | <span style=\"color: #008080; text-decoration-color: #008080\">INFO</span>    | Flow run<span style=\"color: #800080; text-decoration-color: #800080\"> 'cyan-guppy'</span> - Created task run 'Extract Supplier Contract API data-0' for task 'Extract Supplier Contract API data'\n",
              "</pre>\n"
            ]
          },
          "metadata": {}
        },
        {
          "output_type": "display_data",
          "data": {
            "text/plain": [
              "15:52:05.894 | \u001b[36mINFO\u001b[0m    | Flow run\u001b[35m 'cyan-guppy'\u001b[0m - Executing 'Extract Supplier Contract API data-0' immediately...\n"
            ],
            "text/html": [
              "<pre style=\"white-space:pre;overflow-x:auto;line-height:normal;font-family:Menlo,'DejaVu Sans Mono',consolas,'Courier New',monospace\">15:52:05.894 | <span style=\"color: #008080; text-decoration-color: #008080\">INFO</span>    | Flow run<span style=\"color: #800080; text-decoration-color: #800080\"> 'cyan-guppy'</span> - Executing 'Extract Supplier Contract API data-0' immediately...\n",
              "</pre>\n"
            ]
          },
          "metadata": {}
        },
        {
          "output_type": "display_data",
          "data": {
            "text/plain": [
              "15:52:08.038 | \u001b[36mINFO\u001b[0m    | Task run 'Extract Supplier Contract API data-0' - Finished in state \u001b[32mCompleted\u001b[0m()\n"
            ],
            "text/html": [
              "<pre style=\"white-space:pre;overflow-x:auto;line-height:normal;font-family:Menlo,'DejaVu Sans Mono',consolas,'Courier New',monospace\">15:52:08.038 | <span style=\"color: #008080; text-decoration-color: #008080\">INFO</span>    | Task run 'Extract Supplier Contract API data-0' - Finished in state <span style=\"color: #008000; text-decoration-color: #008000\">Completed</span>()\n",
              "</pre>\n"
            ]
          },
          "metadata": {}
        },
        {
          "output_type": "display_data",
          "data": {
            "text/plain": [
              "15:52:08.171 | \u001b[36mINFO\u001b[0m    | Flow run\u001b[35m 'cyan-guppy'\u001b[0m - Finished in state \u001b[32mCompleted\u001b[0m('All states completed.')\n"
            ],
            "text/html": [
              "<pre style=\"white-space:pre;overflow-x:auto;line-height:normal;font-family:Menlo,'DejaVu Sans Mono',consolas,'Courier New',monospace\">15:52:08.171 | <span style=\"color: #008080; text-decoration-color: #008080\">INFO</span>    | Flow run<span style=\"color: #800080; text-decoration-color: #800080\"> 'cyan-guppy'</span> - Finished in state <span style=\"color: #008000; text-decoration-color: #008000\">Completed</span>('All states completed.')\n",
              "</pre>\n"
            ]
          },
          "metadata": {}
        },
        {
          "output_type": "execute_result",
          "data": {
            "text/plain": [
              "[Completed(message=None, type=COMPLETED, result=UnpersistedResult(type='unpersisted', artifact_type='result', artifact_description='Unpersisted result of type `NoneType`')),\n",
              " Completed(message=None, type=COMPLETED, result=UnpersistedResult(type='unpersisted', artifact_type='result', artifact_description='Unpersisted result of type `NoneType`')),\n",
              " Completed(message=None, type=COMPLETED, result=UnpersistedResult(type='unpersisted', artifact_type='result', artifact_description='Unpersisted result of type `DataFrame`')),\n",
              " Completed(message=None, type=COMPLETED, result=UnpersistedResult(type='unpersisted', artifact_type='result', artifact_description='Unpersisted result of type `NoneType`')),\n",
              " Completed(message=None, type=COMPLETED, result=UnpersistedResult(type='unpersisted', artifact_type='result', artifact_description='Unpersisted result of type `NoneType`'))]"
            ]
          },
          "metadata": {},
          "execution_count": 59
        }
      ]
    },
    {
      "cell_type": "code",
      "source": [
        "with duckdb.connect(\"supplier.db\") as conn:\n",
        " print(conn.sql(\"DESCRIBE supplier_transformed_table\"))\n",
        " conn.sql(\"SELECT DISTINCT(contract_type) FROM supplier_transformed_table\").show()"
      ],
      "metadata": {
        "colab": {
          "base_uri": "https://localhost:8080/"
        },
        "id": "DGHVsNI90Dhi",
        "outputId": "5d5a8f6e-a28a-4329-ac94-8b8ed714426b"
      },
      "execution_count": 202,
      "outputs": [
        {
          "output_type": "stream",
          "name": "stdout",
          "text": [
            "┌────────────────────────────────┬─────────────┬─────────┬─────────┬─────────┬───────┐\n",
            "│          column_name           │ column_type │  null   │   key   │ default │ extra │\n",
            "│            varchar             │   varchar   │ varchar │ varchar │ varchar │ int32 │\n",
            "├────────────────────────────────┼─────────────┼─────────┼─────────┼─────────┼───────┤\n",
            "│ contract_title                 │ VARCHAR     │ YES     │ NULL    │ NULL    │  NULL │\n",
            "│ term_start_date                │ VARCHAR     │ YES     │ NULL    │ NULL    │  NULL │\n",
            "│ term_end_date                  │ VARCHAR     │ YES     │ NULL    │ NULL    │  NULL │\n",
            "│ contract_type                  │ VARCHAR     │ YES     │ NULL    │ NULL    │  NULL │\n",
            "│ purchasing_authority           │ VARCHAR     │ YES     │ NULL    │ NULL    │  NULL │\n",
            "│ department_code                │ VARCHAR     │ YES     │ NULL    │ NULL    │  NULL │\n",
            "│ department                     │ VARCHAR     │ YES     │ NULL    │ NULL    │  NULL │\n",
            "│ supplier_name_prime_contractor │ VARCHAR     │ YES     │ NULL    │ NULL    │  NULL │\n",
            "│ supplier_name                  │ VARCHAR     │ YES     │ NULL    │ NULL    │  NULL │\n",
            "│ project_team_lbe_status        │ VARCHAR     │ YES     │ NULL    │ NULL    │  NULL │\n",
            "│    ·                           │  ·          │  ·      │  ·      │  ·      │    ·  │\n",
            "│    ·                           │  ·          │  ·      │  ·      │  ·      │    ·  │\n",
            "│    ·                           │  ·          │  ·      │  ·      │  ·      │    ·  │\n",
            "│ end_date                       │ DATE        │ YES     │ NULL    │ NULL    │  NULL │\n",
            "│ start_day                      │ INTEGER     │ YES     │ NULL    │ NULL    │  NULL │\n",
            "│ start_month                    │ INTEGER     │ YES     │ NULL    │ NULL    │  NULL │\n",
            "│ start_year                     │ INTEGER     │ YES     │ NULL    │ NULL    │  NULL │\n",
            "│ end_day                        │ INTEGER     │ YES     │ NULL    │ NULL    │  NULL │\n",
            "│ end_month                      │ INTEGER     │ YES     │ NULL    │ NULL    │  NULL │\n",
            "│ end_year                       │ INTEGER     │ YES     │ NULL    │ NULL    │  NULL │\n",
            "│ is_sole_source                 │ INTEGER     │ YES     │ NULL    │ NULL    │  NULL │\n",
            "│ is_non_profit                  │ INTEGER     │ YES     │ NULL    │ NULL    │  NULL │\n",
            "│ has_outstanding_orders         │ INTEGER     │ YES     │ NULL    │ NULL    │  NULL │\n",
            "├────────────────────────────────┴─────────────┴─────────┴─────────┴─────────┴───────┤\n",
            "│ 29 rows (20 shown)                                                       6 columns │\n",
            "└────────────────────────────────────────────────────────────────────────────────────┘\n",
            "\n",
            "┌─────────────────────────────────────────────────────────────────┐\n",
            "│                          contract_type                          │\n",
            "│                             varchar                             │\n",
            "├─────────────────────────────────────────────────────────────────┤\n",
            "│ Grant Contracts (City as Grantor, previously named â€˜Grantsâ€™) │\n",
            "│ Purchasing Contract                                             │\n",
            "│ Professional Services - Chapter 6                               │\n",
            "│ Professional Services and P-Form Contracts                      │\n",
            "│ Construction Contracts                                          │\n",
            "│ Non-Purchasing Contract (Rents, etc.)                           │\n",
            "│ Professional Services and P-Form Contracts (Charter Authority)  │\n",
            "│ Construction Contracts - Unilateral                             │\n",
            "│ Purchasing Contract - Term Contract Commodities                 │\n",
            "│ Purchasing Contract - Term Contract General Services            │\n",
            "│ Supplier Contract used to track MOU Agreement                   │\n",
            "│ Purchasing Contract â€“ OCA Approval NOT Required               │\n",
            "│ Construction Contracts - Change Order                           │\n",
            "├─────────────────────────────────────────────────────────────────┤\n",
            "│                             13 rows                             │\n",
            "└─────────────────────────────────────────────────────────────────┘\n",
            "\n"
          ]
        }
      ]
    },
    {
      "cell_type": "markdown",
      "source": [
        "## **Visualizations**"
      ],
      "metadata": {
        "id": "wmIxnag7H681"
      }
    },
    {
      "cell_type": "code",
      "source": [
        "with duckdb.connect(\"supplier.db\") as conn:\n",
        "  df_pl = conn.sql(\n",
        "      \"\"\"\n",
        "      SELECT\n",
        "        contract_type,\n",
        "        COUNT(contract_type) AS total\n",
        "      FROM supplier_transformed_table\n",
        "      WHERE contract_type IS NOT NULL\n",
        "      GROUP BY contract_type\n",
        "      ORDER BY total DESC\n",
        "      LIMIT 10\n",
        "      \"\"\"\n",
        "      ).pl().sort(\"total\")\n",
        "\n",
        "\n",
        "  plt.barh(df_pl['contract_type'],\n",
        "          df_pl['total'])\n",
        "  plt.title(\"Top 10 Contracts by Contract Type\")\n",
        "  plt.xlabel(\"Total\")\n",
        "  plt.show()"
      ],
      "metadata": {
        "colab": {
          "base_uri": "https://localhost:8080/",
          "height": 462
        },
        "id": "dsBY0RT9H8WM",
        "outputId": "22bc5ce5-8a38-43c6-823a-47021544c245"
      },
      "execution_count": 281,
      "outputs": [
        {
          "output_type": "display_data",
          "data": {
            "text/plain": [
              "<Figure size 640x480 with 1 Axes>"
            ],
            "image/png": "[encoded data removed]"
          },
          "metadata": {}
        }
      ]
    },
    {
      "cell_type": "code",
      "source": [
        "with duckdb.connect(\"supplier.db\") as conn:\n",
        "  df_pl = conn.sql(\n",
        "      \"\"\"\n",
        "      SELECT\n",
        "        purchasing_authority,\n",
        "        COUNT(purchasing_authority) AS total\n",
        "      FROM supplier_transformed_table\n",
        "      WHERE purchasing_authority IS NOT NULL\n",
        "      GROUP BY purchasing_authority\n",
        "      ORDER BY total DESC\n",
        "      LIMIT 10\n",
        "      \"\"\"\n",
        "      ).pl().sort(\"total\")\n",
        "\n",
        "\n",
        "  plt.barh(df_pl['purchasing_authority'],\n",
        "          df_pl['total'])\n",
        "  plt.title(\"Top 10 Contracts by Purchasing Authority\")\n",
        "  plt.xlabel(\"Total\")\n",
        "  plt.show()"
      ],
      "metadata": {
        "colab": {
          "base_uri": "https://localhost:8080/",
          "height": 472
        },
        "id": "0e4aAI4SI8dl",
        "outputId": "83ca5efa-8662-4a8d-e051-b01befbd5112"
      },
      "execution_count": 282,
      "outputs": [
        {
          "output_type": "display_data",
          "data": {
            "text/plain": [
              "<Figure size 640x480 with 1 Axes>"
            ],
            "image/png": "[encoded data removed]"
          },
          "metadata": {}
        }
      ]
    },
    {
      "cell_type": "markdown",
      "source": [
        "## **ML monitoring with Evidentlyai**"
      ],
      "metadata": {
        "id": "5dbku51IC5T1"
      }
    },
    {
      "cell_type": "code",
      "source": [
        "from evidently.spark.engine import SparkEngine\n",
        "\n",
        "from evidently import ColumnMapping\n",
        "\n",
        "from evidently.report import Report\n",
        "from evidently.metrics import ColumnDriftMetric, DataDriftTable, DatasetDriftMetric\n",
        "from evidently.metric_preset import DataDriftPreset\n",
        "\n",
        "from evidently.test_suite import TestSuite\n",
        "from evidently.tests import TestColumnDrift, TestShareOfDriftedColumns, TestNumberOfDriftedColumns\n",
        "from evidently.test_preset import DataDriftTestPreset"
      ],
      "metadata": {
        "id": "7SCQLb2hm-I0"
      },
      "execution_count": 61,
      "outputs": []
    },
    {
      "cell_type": "code",
      "source": [
        "with duckdb.connect(\"supplier.db\") as conn:\n",
        "  df_pandas = conn.sql(\"SELECT * FROM supplier_transformed_table\").df()\n",
        "\n",
        "  df_spark = spark.createDataFrame(df_pandas)\n",
        "# Simulate current and reference data using randomSplit\n",
        "current_data, reference_data = df_spark.randomSplit(weights=[0.5,0.5], seed=200)"
      ],
      "metadata": {
        "id": "kLZS1MuIgN32"
      },
      "execution_count": 24,
      "outputs": []
    },
    {
      "cell_type": "code",
      "source": [
        "column_mapping = ColumnMapping()\n",
        "\n",
        "#column_mapping.prediction = \"prediction\"\n",
        "#column_mapping.target = \"target\"\n",
        "#column_mapping.target_names = ['churn', 'not_churn']\n",
        "column_mapping.id = \"contract_number\"\n",
        "\n",
        "column_mapping.datetime_features = ['start_date',\n",
        "                                    'end_date',\n",
        "                                    'term_start_date',\n",
        "                                    'term_end_date',]\n",
        "\n",
        "column_mapping.text_features = ['contract_title',\n",
        "                                'supplier_name',\n",
        "                                'supplier_name_prime_contractor',\n",
        "                                'department',\n",
        "                                'purchasing_authority',]\n",
        "\n",
        "column_mapping.categorical_features= ['contract_type',\n",
        "                                      'department_code',\n",
        "                                      'project_team_lbe_status',\n",
        "                                      'scope_of_work',\n",
        "                                      'non_profit',\n",
        "                                      'is_sole_source',\n",
        "                                      'has_outstanding_orders',]\n",
        "\n",
        "column_mapping.numerical_features = ['contract_awarded_amount',\n",
        "                                     'purchase_orders_outstanding',\n",
        "                                     'payments_made',\n",
        "                                     'remaining_contract_award_amount',\n",
        "                                     'start_day', 'start_month',\n",
        "                                     'start_year', 'end_day',\n",
        "                                     'end_month', 'end_year',]"
      ],
      "metadata": {
        "id": "tUZxrYN431CO"
      },
      "execution_count": 25,
      "outputs": []
    },
    {
      "cell_type": "code",
      "source": [
        "def eval_drift(reference, production, column_mapping):\n",
        "\n",
        "    data_drift_report = Report(metrics=[DataDriftPreset()])\n",
        "    data_drift_report.run(reference_data=reference, current_data=production, column_mapping=column_mapping)\n",
        "    report = data_drift_report.as_dict()\n",
        "\n",
        "    drifts = []\n",
        "\n",
        "    for feature in column_mapping.numerical_features + column_mapping.categorical_features:\n",
        "        drifts.append((feature, report[\"metrics\"][1][\"result\"][\"drift_by_columns\"][feature][\"drift_score\"]))\n",
        "\n",
        "    return drifts"
      ],
      "metadata": {
        "id": "oW1MYa_y_Z9Q"
      },
      "execution_count": 26,
      "outputs": []
    },
    {
      "cell_type": "code",
      "source": [
        "with duckdb.connect(\"supplier.db\") as conn:\n",
        "  start_date = conn.sql(\"\"\"SELECT MIN(start_date)\n",
        "              FROM supplier_transformed_table\n",
        "              \"\"\").fetchone()\n",
        "  start_date_0 = start_date[0].strftime(\"%Y-%m-%d %H:%M:%S\")\n",
        "\n",
        "  end_date = conn.sql(\"\"\"SELECT MAX(start_date) - INTERVAL 3 YEAR AS end_date\n",
        "              FROM supplier_transformed_table\n",
        "              \"\"\").fetchone()\n",
        "  end_date_0 = end_date[0].strftime(\"%Y-%m-%d %H:%M:%S\")\n",
        "\n",
        "print(start_date_0)\n",
        "print(end_date_0)\n"
      ],
      "metadata": {
        "colab": {
          "base_uri": "https://localhost:8080/"
        },
        "id": "deLs10yRH4NI",
        "outputId": "8b0b5bf8-4030-4d7d-cced-60c3cb1e66b1"
      },
      "execution_count": 145,
      "outputs": [
        {
          "output_type": "stream",
          "name": "stdout",
          "text": [
            "1991-12-03 00:00:00\n",
            "2021-01-01 00:00:00\n"
          ]
        }
      ]
    },
    {
      "cell_type": "code",
      "source": [
        "with duckdb.connect(\"supplier.db\") as conn:\n",
        " experiment_batches_sql = conn.sql(\n",
        "    f\"\"\"\n",
        "    WITH numbered_rows AS (\n",
        "        SELECT\n",
        "            start_date,\n",
        "            EXTRACT(MONTH FROM start_date) AS month,\n",
        "            RANK() OVER (ORDER BY month) AS rank\n",
        "        FROM\n",
        "            supplier_transformed_table\n",
        "        WHERE start_date > (SELECT\n",
        "            DATE_ADD(MAX(start_date) - INTERVAL 3 YEAR, INTERVAL 1 YEAR) AS max_date\n",
        "        FROM supplier_transformed_table)\n",
        "    )\n",
        "\n",
        "    SELECT\n",
        "      MIN(start_date),\n",
        "      DATE_ADD(MIN(start_date), INTERVAL 1 MONTH) AS end_date,\n",
        "    FROM\n",
        "      numbered_rows\n",
        "    GROUP BY\n",
        "      rank;\n",
        "   \"\"\"\n",
        "  )\n",
        " print(experiment_batches_sql.show())\n",
        " experiment_batches=[(start.strftime(\"%Y-%m-%d\"), end.strftime(\"%Y-%m-%d\")) for start, end in experiment_batches_sql.fetchall() ]\n"
      ],
      "metadata": {
        "colab": {
          "base_uri": "https://localhost:8080/"
        },
        "id": "TzTmrPgoMxzv",
        "outputId": "827003c7-a3c3-476e-d607-75496365c58e"
      },
      "execution_count": 262,
      "outputs": [
        {
          "output_type": "stream",
          "name": "stdout",
          "text": [
            "┌─────────────────┬────────────┐\n",
            "│ min(start_date) │  end_date  │\n",
            "│      date       │    date    │\n",
            "├─────────────────┼────────────┤\n",
            "│ 2022-01-03      │ 2022-02-03 │\n",
            "│ 2022-02-01      │ 2022-03-01 │\n",
            "│ 2022-03-01      │ 2022-04-01 │\n",
            "│ 2022-04-01      │ 2022-05-01 │\n",
            "│ 2022-05-01      │ 2022-06-01 │\n",
            "│ 2022-06-01      │ 2022-07-01 │\n",
            "│ 2022-07-01      │ 2022-08-01 │\n",
            "│ 2022-08-01      │ 2022-09-01 │\n",
            "│ 2022-09-01      │ 2022-10-01 │\n",
            "│ 2022-10-01      │ 2022-11-01 │\n",
            "│ 2022-11-01      │ 2022-12-01 │\n",
            "│ 2022-12-01      │ 2023-01-01 │\n",
            "├─────────────────┴────────────┤\n",
            "│ 12 rows            2 columns │\n",
            "└──────────────────────────────┘\n",
            "\n",
            "None\n"
          ]
        }
      ]
    },
    {
      "cell_type": "code",
      "source": [
        "with duckdb.connect(\"supplier.db\") as conn:\n",
        "  df_pandas = conn.sql(\"SELECT * FROM supplier_transformed_table\").df()\n",
        "  df_spark = spark.createDataFrame(df_pandas)\n",
        "\n",
        "  reference_data = df_spark.filter((col(\"start_date\") >= start_date_0) & (col(\"start_date\") <= end_date_0))\n",
        "print(reference_data.agg({\"start_date\": \"max\"}).show())\n",
        "print(reference_data.agg({\"start_date\": \"min\"}).show())"
      ],
      "metadata": {
        "colab": {
          "base_uri": "https://localhost:8080/"
        },
        "id": "VEm2eSsfRRDW",
        "outputId": "a906a1e4-5744-49a8-ca63-44dd72ead77d"
      },
      "execution_count": 263,
      "outputs": [
        {
          "output_type": "stream",
          "name": "stdout",
          "text": [
            "+-------------------+\n",
            "|    max(start_date)|\n",
            "+-------------------+\n",
            "|2021-01-01 00:00:00|\n",
            "+-------------------+\n",
            "\n",
            "None\n",
            "+-------------------+\n",
            "|    min(start_date)|\n",
            "+-------------------+\n",
            "|1991-12-03 00:00:00|\n",
            "+-------------------+\n",
            "\n",
            "None\n"
          ]
        }
      ]
    },
    {
      "cell_type": "code",
      "source": [
        "reference_data.show(n=3)"
      ],
      "metadata": {
        "colab": {
          "base_uri": "https://localhost:8080/"
        },
        "id": "Ei7PLu4E2Asl",
        "outputId": "98a5efd2-4399-4b63-e4f4-aa386802a2c3"
      },
      "execution_count": 264,
      "outputs": [
        {
          "output_type": "stream",
          "name": "stdout",
          "text": [
            "+--------------------+--------------------+--------------------+--------------------+--------------------+---------------+--------------------+------------------------------+--------------------+-----------------------+----------------+--------------------+-----------------------+---------------------------+-------------+-------------------------------+---------------+----------+-------------------+-------------------+---------+-----------+----------+-------+---------+--------+--------------+-------------+----------------------+\n",
            "|      contract_title|     term_start_date|       term_end_date|       contract_type|purchasing_authority|department_code|          department|supplier_name_prime_contractor|       supplier_name|project_team_lbe_status|   supplier_type|       scope_of_work|contract_awarded_amount|purchase_orders_outstanding|payments_made|remaining_contract_award_amount|contract_number|non_profit|         start_date|           end_date|start_day|start_month|start_year|end_day|end_month|end_year|is_sole_source|is_non_profit|has_outstanding_orders|\n",
            "+--------------------+--------------------+--------------------+--------------------+--------------------+---------------+--------------------+------------------------------+--------------------+-----------------------+----------------+--------------------+-----------------------+---------------------------+-------------+-------------------------------+---------------+----------+-------------------+-------------------+---------+-----------+----------+-------+---------+--------+--------------+-------------+----------------------+\n",
            "|CHF-GA-Mission YM...|2018-07-01T00:00:...|2024-06-30T00:00:...|Grant Contracts (...|AUTHORIZED BY GRA...|            CHF|CHF Children;Yout...|          YMCA OF SAN FRANC...|YMCA OF SAN FRANC...|                Non-LBE|Prime Contractor|CHF-GA-Mission YM...|              4843766.0|                   339019.8|    4019606.5|                       485139.6|     0000007996|         X|2018-07-01 00:00:00|2024-06-30 00:00:00|        1|          7|      2018|     30|        6|    2024|             1|            0|                     1|\n",
            "|ADMINISTRATIVE CH...|2016-08-03T00:00:...|2019-09-02T00:00:...| Purchasing Contract|ADMIN CODE 21.04(...|            PUC|PUC Public Utilit...|                     A P X INC|           A P X INC|                Non-LBE|Prime Contractor|ADMINISTRATIVE CH...|               576000.0|                        0.0|     400000.0|                       176000.0|     1000000002|      NULL|2016-08-03 00:00:00|2019-09-02 00:00:00|        3|          8|      2016|      2|        9|    2019|             1|            1|                     0|\n",
            "|CLP - RESOURCE AD...|2017-02-24T00:00:...|2018-06-30T00:00:...| Purchasing Contract|ADMIN CODE 21.04(...|            PUC|PUC Public Utilit...|            SONOMA CLEAN POWER|  SONOMA CLEAN POWER|                Non-LBE|Prime Contractor|CLP - RESOURCE AD...|               355300.0|                        0.0|     241300.0|                       114000.0|     1000000006|      NULL|2017-02-24 00:00:00|2018-06-30 00:00:00|       24|          2|      2017|     30|        6|    2018|             1|            1|                     0|\n",
            "+--------------------+--------------------+--------------------+--------------------+--------------------+---------------+--------------------+------------------------------+--------------------+-----------------------+----------------+--------------------+-----------------------+---------------------------+-------------+-------------------------------+---------------+----------+-------------------+-------------------+---------+-----------+----------+-------+---------+--------+--------------+-------------+----------------------+\n",
            "only showing top 3 rows\n",
            "\n"
          ]
        }
      ]
    },
    {
      "cell_type": "code",
      "source": [
        "with duckdb.connect(\"supplier.db\") as conn:\n",
        "  conn.sql(\n",
        "      \"\"\"\n",
        "      CREATE OR REPLACE TABLE reference_table AS\n",
        "      SELECT *\n",
        "      FROM supplier_transformed_table\n",
        "      WHERE start_year <= 2021\n",
        "      \"\"\")\n",
        "\n",
        "  conn.sql(\n",
        "      \"\"\"\n",
        "      CREATE OR REPLACE TABLE current_table AS\n",
        "      SELECT *\n",
        "      FROM supplier_transformed_table\n",
        "      WHERE start_year >= 2022;\n",
        "      \"\"\")"
      ],
      "metadata": {
        "id": "BUwH1evGCbBk"
      },
      "execution_count": 265,
      "outputs": []
    },
    {
      "cell_type": "code",
      "source": [
        "with duckdb.connect(\"supplier.db\") as conn:\n",
        "  reference_tbl= conn.sql(\"SELECT * FROM reference_table\")\n",
        "  reference_tbl.show()\n",
        "  reference_data = spark.createDataFrame(reference_tbl.df())"
      ],
      "metadata": {
        "colab": {
          "base_uri": "https://localhost:8080/"
        },
        "id": "jG1az0-LHp7y",
        "outputId": "3fa666e9-2d17-4208-cda4-5420794303df"
      },
      "execution_count": 266,
      "outputs": [
        {
          "output_type": "stream",
          "name": "stdout",
          "text": [
            "┌──────────────────────┬──────────────────────┬───┬────────────────┬───────────────┬──────────────────────┐\n",
            "│    contract_title    │   term_start_date    │ … │ is_sole_source │ is_non_profit │ has_outstanding_or…  │\n",
            "│       varchar        │       varchar        │   │     int32      │     int32     │        int32         │\n",
            "├──────────────────────┼──────────────────────┼───┼────────────────┼───────────────┼──────────────────────┤\n",
            "│ CHF-GA-Mission YMC…  │ 2018-07-01T00:00:0…  │ … │              1 │             0 │                    1 │\n",
            "│ ADMINISTRATIVE CHA…  │ 2016-08-03T00:00:0…  │ … │              1 │             1 │                    0 │\n",
            "│ CLP - RESOURCE ADE…  │ 2017-02-24T00:00:0…  │ … │              1 │             1 │                    0 │\n",
            "│ CLP - RESOURCE ADE…  │ 2017-02-24T00:00:0…  │ … │              1 │             1 │                    0 │\n",
            "│ ASSOCIATION OF BAY…  │ 2007-03-23T00:00:0…  │ … │              0 │             1 │                    0 │\n",
            "│ ENGINEERING POOL     │ 2007-12-06T00:00:0…  │ … │              1 │             1 │                    0 │\n",
            "│ PUC ENGINEERING POOL │ 2007-12-20T00:00:0…  │ … │              1 │             1 │                    1 │\n",
            "│ SECURITY SYSTEM DE…  │ 2008-01-11T00:00:0…  │ … │              1 │             1 │                    0 │\n",
            "│ BAY TUNNEL CONSTRU…  │ 2008-09-15T00:00:0…  │ … │              1 │             1 │                    0 │\n",
            "│ PROGRAM CONSTRUCTI…  │ 2009-03-20T00:00:0…  │ … │              1 │             1 │                    0 │\n",
            "│          ·           │          ·           │ · │              · │             · │                    · │\n",
            "│          ·           │          ·           │ · │              · │             · │                    · │\n",
            "│          ·           │          ·           │ · │              · │             · │                    · │\n",
            "│ Printing Bindery A…  │ 2015-06-28T00:00:0…  │ … │              1 │             1 │                    0 │\n",
            "│ Library Materials    │ 2015-09-01T00:00:0…  │ … │              1 │             1 │                    1 │\n",
            "│ Book And Av Materi…  │ 2015-09-01T00:00:0…  │ … │              1 │             1 │                    0 │\n",
            "│ TC97301 LIB Librar…  │ 2015-09-01T00:00:0…  │ … │              1 │             1 │                    0 │\n",
            "│ TC97301 LIB Librar…  │ 2015-09-01T00:00:0…  │ … │              1 │             1 │                    0 │\n",
            "│ Library Materials    │ 2015-09-01T00:00:0…  │ … │              1 │             1 │                    0 │\n",
            "│ TC97301 LIB Librar…  │ 2015-09-01T00:00:0…  │ … │              1 │             1 │                    0 │\n",
            "│ TC97301 LIB Librar…  │ 2015-09-01T00:00:0…  │ … │              1 │             1 │                    0 │\n",
            "│ TC97301 LIB Librar…  │ 2015-09-01T00:00:0…  │ … │              1 │             1 │                    0 │\n",
            "│ TC97301 LIB Librar…  │ 2015-09-01T00:00:0…  │ … │              1 │             1 │                    0 │\n",
            "├──────────────────────┴──────────────────────┴───┴────────────────┴───────────────┴──────────────────────┤\n",
            "│ ? rows (>9999 rows, 20 shown)                                                      29 columns (5 shown) │\n",
            "└─────────────────────────────────────────────────────────────────────────────────────────────────────────┘\n",
            "\n"
          ]
        }
      ]
    },
    {
      "cell_type": "code",
      "source": [
        "with duckdb.connect(\"supplier.db\") as conn:\n",
        "  current_tbl = conn.sql(\"SELECT * FROM current_table\")\n",
        "  current_tbl.show()\n",
        "  current_data = spark.createDataFrame(current_tbl.df())"
      ],
      "metadata": {
        "colab": {
          "base_uri": "https://localhost:8080/"
        },
        "id": "ODzsTDRGIGc2",
        "outputId": "814acdd0-39a3-4163-b6bc-2a8893fe32c0"
      },
      "execution_count": 267,
      "outputs": [
        {
          "output_type": "stream",
          "name": "stdout",
          "text": [
            "┌──────────────────────┬──────────────────────┬───┬────────────────┬───────────────┬──────────────────────┐\n",
            "│    contract_title    │   term_start_date    │ … │ is_sole_source │ is_non_profit │ has_outstanding_or…  │\n",
            "│       varchar        │       varchar        │   │     int32      │     int32     │        int32         │\n",
            "├──────────────────────┼──────────────────────┼───┼────────────────┼───────────────┼──────────────────────┤\n",
            "│ Parking at 255-12t…  │ 2022-07-01T00:00:0…  │ … │              1 │             1 │                    1 │\n",
            "│ PW Bttr Mkt St       │ 2022-05-31T00:00:0…  │ … │              1 │             1 │                    1 │\n",
            "│ PW Racial Equity C…  │ 2022-03-18T00:00:0…  │ … │              1 │             1 │                    1 │\n",
            "│ License Agreement …  │ 2022-02-01T00:00:0…  │ … │              1 │             1 │                    0 │\n",
            "│ PUC_CLP_2022 Local…  │ 2022-01-01T00:00:0…  │ … │              1 │             1 │                    0 │\n",
            "│ DPH-Finger Prick D…  │ 2022-05-01T00:00:0…  │ … │              1 │             1 │                    1 │\n",
            "│ Comcast Video Serv…  │ 2022-07-01T00:00:0…  │ … │              0 │             1 │                    1 │\n",
            "│ PW Mission Bay Fnc…  │ 2022-07-08T00:00:0…  │ … │              1 │             1 │                    1 │\n",
            "│ ADP-Gender Respons…  │ 2023-04-01T00:00:0…  │ … │              1 │             0 │                    1 │\n",
            "│ CPC / As-Needed UD…  │ 2023-03-20T00:00:0…  │ … │              1 │             1 │                    1 │\n",
            "│          ·           │          ·           │ · │              · │             · │                    · │\n",
            "│          ·           │          ·           │ · │              · │             · │                    · │\n",
            "│          ·           │          ·           │ · │              · │             · │                    · │\n",
            "│ PUC JOC-101 Gnrl E…  │ 2023-11-08T00:00:0…  │ … │              1 │             1 │                    0 │\n",
            "│ MYR 2466 38th Ave    │ 2023-11-07T00:00:0…  │ … │              1 │             1 │                    0 │\n",
            "│ MYR 566 Natoma St    │ 2023-10-26T00:00:0…  │ … │              1 │             1 │                    1 │\n",
            "│ TTX-OFE K2C CBO (F…  │ 2023-10-27T00:00:0…  │ … │              1 │             0 │                    0 │\n",
            "│ MYR-203960-23        │ 2023-07-01T00:00:0…  │ … │              1 │             0 │                    1 │\n",
            "│ MYR-212611-23        │ 2023-07-01T00:00:0…  │ … │              1 │             0 │                    1 │\n",
            "│ MYR-204089-23        │ 2023-07-01T00:00:0…  │ … │              1 │             0 │                    1 │\n",
            "│ MYR 1688 Pine St #…  │ 2023-11-15T00:00:0…  │ … │              1 │             1 │                    1 │\n",
            "│ ADMTI - DTSC Coven…  │ 2023-11-16T00:00:0…  │ … │              0 │             1 │                    0 │\n",
            "│ TC72261 Type I Amb…  │ 2022-12-21T00:00:0…  │ … │              1 │             1 │                    1 │\n",
            "├──────────────────────┴──────────────────────┴───┴────────────────┴───────────────┴──────────────────────┤\n",
            "│ 5472 rows (20 shown)                                                               29 columns (5 shown) │\n",
            "└─────────────────────────────────────────────────────────────────────────────────────────────────────────┘\n",
            "\n"
          ]
        }
      ]
    },
    {
      "cell_type": "code",
      "source": [
        "with duckdb.connect(\"supplier.db\") as conn:\n",
        "  conn.sql(\"SELECT COUNT(*) AS total_reference FROM reference_table\").show()\n",
        "  conn.sql(\"SELECT COUNT(*) AS total_current FROM current_table\").show()\n"
      ],
      "metadata": {
        "colab": {
          "base_uri": "https://localhost:8080/"
        },
        "id": "L1rpID-j0lPA",
        "outputId": "d9e85bd9-4e9f-4e89-b06c-22333e761007"
      },
      "execution_count": 268,
      "outputs": [
        {
          "output_type": "stream",
          "name": "stdout",
          "text": [
            "┌─────────────────┐\n",
            "│ total_reference │\n",
            "│      int64      │\n",
            "├─────────────────┤\n",
            "│           18920 │\n",
            "└─────────────────┘\n",
            "\n",
            "┌───────────────┐\n",
            "│ total_current │\n",
            "│     int64     │\n",
            "├───────────────┤\n",
            "│          5472 │\n",
            "└───────────────┘\n",
            "\n"
          ]
        }
      ]
    },
    {
      "cell_type": "code",
      "source": [
        "def train_and_evaluate(model, model_name):\n",
        "\n",
        "  for k, test_dates in enumerate(experiment_batches):\n",
        "\n",
        "    print(f\"Batch: {k}\")\n",
        "    print(f\"Test dates: {test_dates}\")\n",
        "\n",
        "    label_col = 'is_sole_source'\n",
        "    numeric_cols = ['contract_awarded_amount',\n",
        "                    'purchase_orders_outstanding',\n",
        "                    'payments_made',\n",
        "                    'remaining_contract_award_amount',]\n",
        "\n",
        "    categorical_cols = ['contract_type',\n",
        "                        'department_code',\n",
        "                        'project_team_lbe_status',\n",
        "                        'scope_of_work',\n",
        "                        'is_non_profit',\n",
        "                        'is_sole_source',\n",
        "                        'has_outstanding_orders',]\n",
        "\n",
        "    indexers = [StringIndexer(inputCol=col, outputCol=f\"{col}_indexed\") for col in categorical_cols]\n",
        "    encoders = [OneHotEncoder(inputCol=f\"{col}_indexed\", outputCol=f\"{col}_encoded\") for col in categorical_cols]\n",
        "\n",
        "    # Assemble Features\n",
        "    assembler = VectorAssembler(inputCols=numeric_cols, outputCol=\"features\") #numeric_cols + [f\"{col}_encoded\" for col in categorical_cols]\n",
        "\n",
        "    # Impute Missing Values for Numeric and Categorical Columns\n",
        "    imputer_numeric = Imputer(strategy=\"mean\", inputCols=numeric_cols,\n",
        "                              outputCols=[f\"{col}_imputed\" for col in numeric_cols])\n",
        "    imputer_categorical = Imputer(strategy=\"most_frequent\", inputCols=[f\"{col}_encoded\" for col in categorical_cols], outputCols=[f\"{col}_imputed\" for col in categorical_cols])\n",
        "\n",
        "    # Scaling Features\n",
        "    scaler = StandardScaler(inputCol=\"features\", outputCol=\"scaled_features\")\n",
        "\n",
        "    # Random Forest Classifier\n",
        "    rf = RandomForestClassifier(featuresCol=\"scaled_features\", labelCol=label_col)\n",
        "\n",
        "    # Create the Pipeline\n",
        "    pipeline = Pipeline(stages=[assembler, imputer_numeric, scaler, rf])#indexers + encoders +\n",
        "\n",
        "    # Fit the Pipeline on the Training Data\n",
        "    pipeline_model = pipeline.fit(reference_data)\n",
        "\n",
        "    predictions_reference = pipeline_model.transform(reference_data)\n",
        "\n",
        "    current_dataa = current_data.filter(\n",
        "            (col(\"start_date\") >= test_dates[0]) & (col(\"start_date\") <= test_dates[1]))\n",
        "\n",
        "    print(f\"Number of observations full dataset: {current_data.count()}\")\n",
        "    print(f\"Number of observations: {current_dataa.count()}\")\n",
        "\n",
        "    predictions_current = pipeline_model.transform(current_dataa)\n",
        "\n",
        "    evaluator = BinaryClassificationEvaluator(labelCol=label_col,\n",
        "                                              rawPredictionCol=\"prediction\",\n",
        "                                              metricName=\"areaUnderROC\")\n",
        "\n",
        "    auc_reference = evaluator.evaluate(predictions_reference)\n",
        "    print(f\"{model_name} AUC (reference): {auc_reference}\")\n",
        "\n",
        "    auc_current = evaluator.evaluate(predictions_current)\n",
        "    print(f\"{model_name} AUC (current): {auc_current}\")\n",
        "\n",
        "    mlflow.set_experiment_tag(\"model\", model_name)\n",
        "\n",
        "    mlflow.log_metric(f\"{model_name}_AUC_reference\", auc_reference)\n",
        "    mlflow.log_metric(f\"{model_name}_AUC_current\", auc_current)\n",
        "\n",
        "    # mlflow.spark.log_model(pipeline_model,\n",
        "    #                       artifact_path=\"spark-model\",\n",
        "    #                       registered_model_name=f\"{model_name}_Model\")\n"
      ],
      "metadata": {
        "id": "ooZ5Roe6VCcS"
      },
      "execution_count": 269,
      "outputs": []
    },
    {
      "cell_type": "code",
      "source": [
        "mlflow.set_tracking_uri(\"sqlite:///mlruns.db\") # for local experiment, change to \"http://127.0.0.1:5000\" in vscode to access MLflow UI\n",
        "\n",
        "EXPERIMENT_NAME = \"supplier_contract_experiment\"\n",
        "mlflow.set_experiment(EXPERIMENT_NAME)\n",
        "\n",
        "models = {\n",
        "    #\"Linear Regression\": LinearRegression(),\n",
        "    #\"Random Forest Regressor\": RandomForestRegressor(),\n",
        "    #\"GBT Regressor\": GBTRegressor(),\n",
        "    #\"Logistic_Regression\": LogisticRegression(),\n",
        "    \"Random_Forest_Classifier\": RandomForestClassifier(),\n",
        "    #\"GBT_Classifier\": GBTClassifier()\n",
        "\n",
        "}\n",
        "\n",
        "for model_name, model in models.items():\n",
        "  with mlflow.start_run(run_name=model_name):\n",
        "      print(f\"Training and evaluating {model_name}\")\n",
        "      train_and_evaluate(model, model_name)\n",
        "\n"
      ],
      "metadata": {
        "colab": {
          "base_uri": "https://localhost:8080/"
        },
        "id": "Hi7Wn4Ba_jj2",
        "outputId": "364611a7-4a5a-4fa4-b5f0-d716da13b236"
      },
      "execution_count": 270,
      "outputs": [
        {
          "output_type": "stream",
          "name": "stdout",
          "text": [
            "Training and evaluating Random_Forest_Classifier\n",
            "Batch: 0\n",
            "Test dates: ('2022-01-03', '2022-02-03')\n",
            "Number of observations full dataset: 5472\n",
            "Number of observations: 105\n",
            "Random_Forest_Classifier AUC (reference): 0.5\n",
            "Random_Forest_Classifier AUC (current): 0.5\n",
            "Batch: 1\n",
            "Test dates: ('2022-02-01', '2022-03-01')\n",
            "Number of observations full dataset: 5472\n",
            "Number of observations: 161\n",
            "Random_Forest_Classifier AUC (reference): 0.5\n",
            "Random_Forest_Classifier AUC (current): 0.5\n",
            "Batch: 2\n",
            "Test dates: ('2022-03-01', '2022-04-01')\n",
            "Number of observations full dataset: 5472\n",
            "Number of observations: 242\n",
            "Random_Forest_Classifier AUC (reference): 0.5\n",
            "Random_Forest_Classifier AUC (current): 0.5\n",
            "Batch: 3\n",
            "Test dates: ('2022-04-01', '2022-05-01')\n",
            "Number of observations full dataset: 5472\n",
            "Number of observations: 241\n",
            "Random_Forest_Classifier AUC (reference): 0.5\n",
            "Random_Forest_Classifier AUC (current): 0.5\n",
            "Batch: 4\n",
            "Test dates: ('2022-05-01', '2022-06-01')\n",
            "Number of observations full dataset: 5472\n",
            "Number of observations: 286\n",
            "Random_Forest_Classifier AUC (reference): 0.5\n",
            "Random_Forest_Classifier AUC (current): 0.5\n",
            "Batch: 5\n",
            "Test dates: ('2022-06-01', '2022-07-01')\n",
            "Number of observations full dataset: 5472\n",
            "Number of observations: 1305\n",
            "Random_Forest_Classifier AUC (reference): 0.5\n",
            "Random_Forest_Classifier AUC (current): 0.5\n",
            "Batch: 6\n",
            "Test dates: ('2022-07-01', '2022-08-01')\n",
            "Number of observations full dataset: 5472\n",
            "Number of observations: 1447\n",
            "Random_Forest_Classifier AUC (reference): 0.5\n",
            "Random_Forest_Classifier AUC (current): 0.5\n",
            "Batch: 7\n",
            "Test dates: ('2022-08-01', '2022-09-01')\n",
            "Number of observations full dataset: 5472\n",
            "Number of observations: 177\n",
            "Random_Forest_Classifier AUC (reference): 0.5\n",
            "Random_Forest_Classifier AUC (current): 0.5\n",
            "Batch: 8\n",
            "Test dates: ('2022-09-01', '2022-10-01')\n",
            "Number of observations full dataset: 5472\n",
            "Number of observations: 183\n",
            "Random_Forest_Classifier AUC (reference): 0.5\n",
            "Random_Forest_Classifier AUC (current): 0.5\n",
            "Batch: 9\n",
            "Test dates: ('2022-10-01', '2022-11-01')\n",
            "Number of observations full dataset: 5472\n",
            "Number of observations: 207\n",
            "Random_Forest_Classifier AUC (reference): 0.5\n",
            "Random_Forest_Classifier AUC (current): 0.5\n",
            "Batch: 10\n",
            "Test dates: ('2022-11-01', '2022-12-01')\n",
            "Number of observations full dataset: 5472\n",
            "Number of observations: 186\n",
            "Random_Forest_Classifier AUC (reference): 0.5\n",
            "Random_Forest_Classifier AUC (current): 0.5\n",
            "Batch: 11\n",
            "Test dates: ('2022-12-01', '2023-01-01')\n",
            "Number of observations full dataset: 5472\n",
            "Number of observations: 237\n",
            "Random_Forest_Classifier AUC (reference): 0.5\n",
            "Random_Forest_Classifier AUC (current): 0.5\n"
          ]
        }
      ]
    },
    {
      "cell_type": "code",
      "source": [
        "mlflow.search_runs(experiment_names=EXPERIMENT_NAME)"
      ],
      "metadata": {
        "colab": {
          "base_uri": "https://localhost:8080/",
          "height": 354
        },
        "id": "vSHXe_LK5FMv",
        "outputId": "5b81a340-2525-4b8c-c147-25e4df9d3aa3"
      },
      "execution_count": null,
      "outputs": [
        {
          "output_type": "execute_result",
          "data": {
            "text/plain": [
              "                             run_id experiment_id    status  \\\n",
              "0  c08de055cbe4438d836358dc24300830             1  FINISHED   \n",
              "1  ae41eb9f63514dc7bc88a9604c5e8ca7             1  FINISHED   \n",
              "2  a6b7b90173e4488d87625ca5a642982d             1    FAILED   \n",
              "\n",
              "                                        artifact_uri  \\\n",
              "0  /content/machine-learning-monitoring-with-evid...   \n",
              "1  /content/machine-learning-monitoring-with-evid...   \n",
              "2  /content/machine-learning-monitoring-with-evid...   \n",
              "\n",
              "                        start_time                         end_time  \\\n",
              "0 2023-11-28 22:12:36.953000+00:00 2023-11-28 22:13:23.967000+00:00   \n",
              "1 2023-11-28 22:08:32.745000+00:00 2023-11-28 22:09:11.229000+00:00   \n",
              "2 2023-11-28 22:07:15.760000+00:00 2023-11-28 22:07:23.562000+00:00   \n",
              "\n",
              "   metrics.Random Forest Classifier_AUC  \\\n",
              "0                                   0.5   \n",
              "1                                   0.5   \n",
              "2                                   0.5   \n",
              "\n",
              "                             tags.mlflow.source.name  \\\n",
              "0  /usr/local/lib/python3.10/dist-packages/colab_...   \n",
              "1  /usr/local/lib/python3.10/dist-packages/colab_...   \n",
              "2  /usr/local/lib/python3.10/dist-packages/colab_...   \n",
              "\n",
              "                       tags.mlflow.log-model.history tags.mlflow.user  \\\n",
              "0  [{\"run_id\": \"c08de055cbe4438d836358dc24300830\"...             root   \n",
              "1  [{\"run_id\": \"ae41eb9f63514dc7bc88a9604c5e8ca7\"...             root   \n",
              "2                                               None             root   \n",
              "\n",
              "        tags.mlflow.runName tags.mlflow.source.type  \n",
              "0  Random Forest Classifier                   LOCAL  \n",
              "1  Random Forest Classifier                   LOCAL  \n",
              "2  Random Forest Classifier                   LOCAL  "
            ],
            "text/html": [
              "\n",
              "  <div id=\"df-bc2b79b2-83d2-4f64-b374-58206bb48a66\" class=\"colab-df-container\">\n",
              "    <div>\n",
              "<style scoped>\n",
              "    .dataframe tbody tr th:only-of-type {\n",
              "        vertical-align: middle;\n",
              "    }\n",
              "\n",
              "    .dataframe tbody tr th {\n",
              "        vertical-align: top;\n",
              "    }\n",
              "\n",
              "    .dataframe thead th {\n",
              "        text-align: right;\n",
              "    }\n",
              "</style>\n",
              "<table border=\"1\" class=\"dataframe\">\n",
              "  <thead>\n",
              "    <tr style=\"text-align: right;\">\n",
              "      <th></th>\n",
              "      <th>run_id</th>\n",
              "      <th>experiment_id</th>\n",
              "      <th>status</th>\n",
              "      <th>artifact_uri</th>\n",
              "      <th>start_time</th>\n",
              "      <th>end_time</th>\n",
              "      <th>metrics.Random Forest Classifier_AUC</th>\n",
              "      <th>tags.mlflow.source.name</th>\n",
              "      <th>tags.mlflow.log-model.history</th>\n",
              "      <th>tags.mlflow.user</th>\n",
              "      <th>tags.mlflow.runName</th>\n",
              "      <th>tags.mlflow.source.type</th>\n",
              "    </tr>\n",
              "  </thead>\n",
              "  <tbody>\n",
              "    <tr>\n",
              "      <th>0</th>\n",
              "      <td>c08de055cbe4438d836358dc24300830</td>\n",
              "      <td>1</td>\n",
              "      <td>FINISHED</td>\n",
              "      <td>/content/machine-learning-monitoring-with-evid...</td>\n",
              "      <td>2023-11-28 22:12:36.953000+00:00</td>\n",
              "      <td>2023-11-28 22:13:23.967000+00:00</td>\n",
              "      <td>0.5</td>\n",
              "      <td>/usr/local/lib/python3.10/dist-packages/colab_...</td>\n",
              "      <td>[{\"run_id\": \"c08de055cbe4438d836358dc24300830\"...</td>\n",
              "      <td>root</td>\n",
              "      <td>Random Forest Classifier</td>\n",
              "      <td>LOCAL</td>\n",
              "    </tr>\n",
              "    <tr>\n",
              "      <th>1</th>\n",
              "      <td>ae41eb9f63514dc7bc88a9604c5e8ca7</td>\n",
              "      <td>1</td>\n",
              "      <td>FINISHED</td>\n",
              "      <td>/content/machine-learning-monitoring-with-evid...</td>\n",
              "      <td>2023-11-28 22:08:32.745000+00:00</td>\n",
              "      <td>2023-11-28 22:09:11.229000+00:00</td>\n",
              "      <td>0.5</td>\n",
              "      <td>/usr/local/lib/python3.10/dist-packages/colab_...</td>\n",
              "      <td>[{\"run_id\": \"ae41eb9f63514dc7bc88a9604c5e8ca7\"...</td>\n",
              "      <td>root</td>\n",
              "      <td>Random Forest Classifier</td>\n",
              "      <td>LOCAL</td>\n",
              "    </tr>\n",
              "    <tr>\n",
              "      <th>2</th>\n",
              "      <td>a6b7b90173e4488d87625ca5a642982d</td>\n",
              "      <td>1</td>\n",
              "      <td>FAILED</td>\n",
              "      <td>/content/machine-learning-monitoring-with-evid...</td>\n",
              "      <td>2023-11-28 22:07:15.760000+00:00</td>\n",
              "      <td>2023-11-28 22:07:23.562000+00:00</td>\n",
              "      <td>0.5</td>\n",
              "      <td>/usr/local/lib/python3.10/dist-packages/colab_...</td>\n",
              "      <td>None</td>\n",
              "      <td>root</td>\n",
              "      <td>Random Forest Classifier</td>\n",
              "      <td>LOCAL</td>\n",
              "    </tr>\n",
              "  </tbody>\n",
              "</table>\n",
              "</div>\n",
              "    <div class=\"colab-df-buttons\">\n",
              "\n",
              "  <div class=\"colab-df-container\">\n",
              "    <button class=\"colab-df-convert\" onclick=\"convertToInteractive('df-bc2b79b2-83d2-4f64-b374-58206bb48a66')\"\n",
              "            title=\"Convert this dataframe to an interactive table.\"\n",
              "            style=\"display:none;\">\n",
              "\n",
              "  <svg xmlns=\"http://www.w3.org/2000/svg\" height=\"24px\" viewBox=\"0 -960 960 960\">\n",
              "    <path d=\"M120-120v-720h720v720H120Zm60-500h600v-160H180v160Zm220 220h160v-160H400v160Zm0 220h160v-160H400v160ZM180-400h160v-160H180v160Zm440 0h160v-160H620v160ZM180-180h160v-160H180v160Zm440 0h160v-160H620v160Z\"/>\n",
              "  </svg>\n",
              "    </button>\n",
              "\n",
              "  <style>\n",
              "    .colab-df-container {\n",
              "      display:flex;\n",
              "      gap: 12px;\n",
              "    }\n",
              "\n",
              "    .colab-df-convert {\n",
              "      background-color: #E8F0FE;\n",
              "      border: none;\n",
              "      border-radius: 50%;\n",
              "      cursor: pointer;\n",
              "      display: none;\n",
              "      fill: #1967D2;\n",
              "      height: 32px;\n",
              "      padding: 0 0 0 0;\n",
              "      width: 32px;\n",
              "    }\n",
              "\n",
              "    .colab-df-convert:hover {\n",
              "      background-color: #E2EBFA;\n",
              "      box-shadow: 0px 1px 2px rgba(60, 64, 67, 0.3), 0px 1px 3px 1px rgba(60, 64, 67, 0.15);\n",
              "      fill: #174EA6;\n",
              "    }\n",
              "\n",
              "    .colab-df-buttons div {\n",
              "      margin-bottom: 4px;\n",
              "    }\n",
              "\n",
              "    [theme=dark] .colab-df-convert {\n",
              "      background-color: #3B4455;\n",
              "      fill: #D2E3FC;\n",
              "    }\n",
              "\n",
              "    [theme=dark] .colab-df-convert:hover {\n",
              "      background-color: #434B5C;\n",
              "      box-shadow: 0px 1px 3px 1px rgba(0, 0, 0, 0.15);\n",
              "      filter: drop-shadow(0px 1px 2px rgba(0, 0, 0, 0.3));\n",
              "      fill: #FFFFFF;\n",
              "    }\n",
              "  </style>\n",
              "\n",
              "    <script>\n",
              "      const buttonEl =\n",
              "        document.querySelector('#df-bc2b79b2-83d2-4f64-b374-58206bb48a66 button.colab-df-convert');\n",
              "      buttonEl.style.display =\n",
              "        google.colab.kernel.accessAllowed ? 'block' : 'none';\n",
              "\n",
              "      async function convertToInteractive(key) {\n",
              "        const element = document.querySelector('#df-bc2b79b2-83d2-4f64-b374-58206bb48a66');\n",
              "        const dataTable =\n",
              "          await google.colab.kernel.invokeFunction('convertToInteractive',\n",
              "                                                    [key], {});\n",
              "        if (!dataTable) return;\n",
              "\n",
              "        const docLinkHtml = 'Like what you see? Visit the ' +\n",
              "          '<a target=\"_blank\" href=https://colab.research.google.com/notebooks/data_table.ipynb>data table notebook</a>'\n",
              "          + ' to learn more about interactive tables.';\n",
              "        element.innerHTML = '';\n",
              "        dataTable['output_type'] = 'display_data';\n",
              "        await google.colab.output.renderOutput(dataTable, element);\n",
              "        const docLink = document.createElement('div');\n",
              "        docLink.innerHTML = docLinkHtml;\n",
              "        element.appendChild(docLink);\n",
              "      }\n",
              "    </script>\n",
              "  </div>\n",
              "\n",
              "\n",
              "<div id=\"df-d6ccf8aa-222b-47dd-80d6-43fa6fbf7d70\">\n",
              "  <button class=\"colab-df-quickchart\" onclick=\"quickchart('df-d6ccf8aa-222b-47dd-80d6-43fa6fbf7d70')\"\n",
              "            title=\"Suggest charts\"\n",
              "            style=\"display:none;\">\n",
              "\n",
              "<svg xmlns=\"http://www.w3.org/2000/svg\" height=\"24px\"viewBox=\"0 0 24 24\"\n",
              "     width=\"24px\">\n",
              "    <g>\n",
              "        <path d=\"M19 3H5c-1.1 0-2 .9-2 2v14c0 1.1.9 2 2 2h14c1.1 0 2-.9 2-2V5c0-1.1-.9-2-2-2zM9 17H7v-7h2v7zm4 0h-2V7h2v10zm4 0h-2v-4h2v4z\"/>\n",
              "    </g>\n",
              "</svg>\n",
              "  </button>\n",
              "\n",
              "<style>\n",
              "  .colab-df-quickchart {\n",
              "      --bg-color: #E8F0FE;\n",
              "      --fill-color: #1967D2;\n",
              "      --hover-bg-color: #E2EBFA;\n",
              "      --hover-fill-color: #174EA6;\n",
              "      --disabled-fill-color: #AAA;\n",
              "      --disabled-bg-color: #DDD;\n",
              "  }\n",
              "\n",
              "  [theme=dark] .colab-df-quickchart {\n",
              "      --bg-color: #3B4455;\n",
              "      --fill-color: #D2E3FC;\n",
              "      --hover-bg-color: #434B5C;\n",
              "      --hover-fill-color: #FFFFFF;\n",
              "      --disabled-bg-color: #3B4455;\n",
              "      --disabled-fill-color: #666;\n",
              "  }\n",
              "\n",
              "  .colab-df-quickchart {\n",
              "    background-color: var(--bg-color);\n",
              "    border: none;\n",
              "    border-radius: 50%;\n",
              "    cursor: pointer;\n",
              "    display: none;\n",
              "    fill: var(--fill-color);\n",
              "    height: 32px;\n",
              "    padding: 0;\n",
              "    width: 32px;\n",
              "  }\n",
              "\n",
              "  .colab-df-quickchart:hover {\n",
              "    background-color: var(--hover-bg-color);\n",
              "    box-shadow: 0 1px 2px rgba(60, 64, 67, 0.3), 0 1px 3px 1px rgba(60, 64, 67, 0.15);\n",
              "    fill: var(--button-hover-fill-color);\n",
              "  }\n",
              "\n",
              "  .colab-df-quickchart-complete:disabled,\n",
              "  .colab-df-quickchart-complete:disabled:hover {\n",
              "    background-color: var(--disabled-bg-color);\n",
              "    fill: var(--disabled-fill-color);\n",
              "    box-shadow: none;\n",
              "  }\n",
              "\n",
              "  .colab-df-spinner {\n",
              "    border: 2px solid var(--fill-color);\n",
              "    border-color: transparent;\n",
              "    border-bottom-color: var(--fill-color);\n",
              "    animation:\n",
              "      spin 1s steps(1) infinite;\n",
              "  }\n",
              "\n",
              "  @keyframes spin {\n",
              "    0% {\n",
              "      border-color: transparent;\n",
              "      border-bottom-color: var(--fill-color);\n",
              "      border-left-color: var(--fill-color);\n",
              "    }\n",
              "    20% {\n",
              "      border-color: transparent;\n",
              "      border-left-color: var(--fill-color);\n",
              "      border-top-color: var(--fill-color);\n",
              "    }\n",
              "    30% {\n",
              "      border-color: transparent;\n",
              "      border-left-color: var(--fill-color);\n",
              "      border-top-color: var(--fill-color);\n",
              "      border-right-color: var(--fill-color);\n",
              "    }\n",
              "    40% {\n",
              "      border-color: transparent;\n",
              "      border-right-color: var(--fill-color);\n",
              "      border-top-color: var(--fill-color);\n",
              "    }\n",
              "    60% {\n",
              "      border-color: transparent;\n",
              "      border-right-color: var(--fill-color);\n",
              "    }\n",
              "    80% {\n",
              "      border-color: transparent;\n",
              "      border-right-color: var(--fill-color);\n",
              "      border-bottom-color: var(--fill-color);\n",
              "    }\n",
              "    90% {\n",
              "      border-color: transparent;\n",
              "      border-bottom-color: var(--fill-color);\n",
              "    }\n",
              "  }\n",
              "</style>\n",
              "\n",
              "  <script>\n",
              "    async function quickchart(key) {\n",
              "      const quickchartButtonEl =\n",
              "        document.querySelector('#' + key + ' button');\n",
              "      quickchartButtonEl.disabled = true;  // To prevent multiple clicks.\n",
              "      quickchartButtonEl.classList.add('colab-df-spinner');\n",
              "      try {\n",
              "        const charts = await google.colab.kernel.invokeFunction(\n",
              "            'suggestCharts', [key], {});\n",
              "      } catch (error) {\n",
              "        console.error('Error during call to suggestCharts:', error);\n",
              "      }\n",
              "      quickchartButtonEl.classList.remove('colab-df-spinner');\n",
              "      quickchartButtonEl.classList.add('colab-df-quickchart-complete');\n",
              "    }\n",
              "    (() => {\n",
              "      let quickchartButtonEl =\n",
              "        document.querySelector('#df-d6ccf8aa-222b-47dd-80d6-43fa6fbf7d70 button');\n",
              "      quickchartButtonEl.style.display =\n",
              "        google.colab.kernel.accessAllowed ? 'block' : 'none';\n",
              "    })();\n",
              "  </script>\n",
              "</div>\n",
              "    </div>\n",
              "  </div>\n"
            ]
          },
          "metadata": {},
          "execution_count": 34
        }
      ]
    },
    {
      "cell_type": "code",
      "source": [
        "\n",
        "columns = ['contract_awarded_amount', 'purchase_orders_outstanding',\n",
        "           'payments_made', 'has_outstanding_orders',\n",
        "           'scope_of_work', 'contract_type']\n",
        "\n",
        "tests = TestSuite(tests=[\n",
        "    TestNumberOfDriftedColumns(columns=columns),\n",
        "    TestShareOfDriftedColumns(columns=columns),\n",
        "])\n",
        "\n",
        "tests.run(current_data=current_data,\n",
        "          reference_data=reference_data,\n",
        "          column_mapping=column_mapping,\n",
        "          engine=SparkEngine)\n",
        "tests.show(mode='inline')"
      ],
      "metadata": {
        "id": "e9DjU2wym-Lj"
      },
      "execution_count": null,
      "outputs": []
    },
    {
      "cell_type": "markdown",
      "source": [
        "## **Data Integrity**"
      ],
      "metadata": {
        "id": "kvJF5HlutCxJ"
      }
    },
    {
      "cell_type": "code",
      "source": [
        "from evidently.metrics import DatasetSummaryMetric\n",
        "\n",
        "data_integrity_report = Report(metrics=[\n",
        "    DatasetSummaryMetric()\n",
        "])\n",
        "\n",
        "data_integrity_report.run(current_data=current_data.toPandas(),\n",
        "           reference_data=reference_data.toPandas())\n",
        "data_integrity_report.show(mode=\"inline\")"
      ],
      "metadata": {
        "id": "u6kIttcGm-OK"
      },
      "execution_count": null,
      "outputs": []
    },
    {
      "cell_type": "markdown",
      "source": [
        "## **Data Quality**"
      ],
      "metadata": {
        "id": "2s7HiHxhtrJV"
      }
    },
    {
      "cell_type": "code",
      "source": [
        "from evidently.metric_preset import DataQualityPreset\n",
        "\n",
        "data_quality_report = Report(\n",
        "    metrics=[DataQualityPreset()]\n",
        ")\n",
        "\n",
        "data_quality_report.run(current_data=current_data.toPandas(),\n",
        "                        reference_data=reference_data.toPandas())\n",
        "\n",
        "data_quality_report.show(mode=\"inline\")"
      ],
      "metadata": {
        "colab": {
          "base_uri": "https://localhost:8080/"
        },
        "id": "SHWSMB0ttyP-",
        "outputId": "8f8b144a-6352-4a3c-e06d-5325891bb5a9"
      },
      "execution_count": null,
      "outputs": [
        {
          "output_type": "stream",
          "name": "stdout",
          "text": [
            "{\"version\": \"0.4.9\", \"metrics\": [{\"metric\": \"DatasetSummaryMetric\", \"result\": {\"almost_duplicated_threshold\": 0.95, \"current\": {\"target\": null, \"prediction\": null, \"date_column\": null, \"id_column\": null, \"number_of_columns\": 28, \"number_of_rows\": 43, \"number_of_missing_values\": 40, \"number_of_categorical_columns\": 16, \"number_of_numeric_columns\": 10, \"number_of_text_columns\": 0, \"number_of_datetime_columns\": 2, \"number_of_constant_columns\": 1, \"number_of_almost_constant_columns\": 2, \"number_of_duplicated_columns\": 0, \"number_of_almost_duplicated_columns\": 0, \"number_of_empty_rows\": 0, \"number_of_empty_columns\": 0, \"number_of_duplicated_rows\": 0, \"nans_by_columns\": {\"contract_title\": 0, \"term_start_date\": 0, \"term_end_date\": 0, \"contract_type\": 0, \"purchasing_authority\": 0, \"department_code\": 0, \"department\": 0, \"supplier_name_prime_contractor\": 0, \"supplier_name\": 0, \"project_team_lbe_status\": 0, \"supplier_type\": 0, \"scope_of_work\": 0, \"contract_awarded_amount\": 0, \"purchase_orders_outstanding\": 0, \"payments_made\": 0, \"remaining_contract_award_amount\": 0, \"contract_number\": 0, \"non_profit\": 40, \"start_date\": 0, \"end_date\": 0, \"start_day\": 0, \"start_month\": 0, \"start_year\": 0, \"end_day\": 0, \"end_month\": 0, \"end_year\": 0, \"is_sole_source\": 0, \"has_outstanding_orders\": 0}, \"number_uniques_by_columns\": {\"contract_title\": 39, \"term_start_date\": 38, \"term_end_date\": 30, \"contract_type\": 5, \"purchasing_authority\": 8, \"department_code\": 3, \"department\": 3, \"supplier_name_prime_contractor\": 41, \"supplier_name\": 40, \"project_team_lbe_status\": 2, \"supplier_type\": 3, \"scope_of_work\": 19, \"contract_awarded_amount\": 40, \"purchase_orders_outstanding\": 8, \"payments_made\": 17, \"remaining_contract_award_amount\": 41, \"contract_number\": 43, \"non_profit\": 1, \"start_date\": 38, \"end_date\": 30, \"start_day\": 20, \"start_month\": 12, \"start_year\": 10, \"end_day\": 16, \"end_month\": 11, \"end_year\": 9, \"is_sole_source\": 2, \"has_outstanding_orders\": 2}}, \"reference\": {\"target\": null, \"prediction\": null, \"date_column\": null, \"id_column\": null, \"number_of_columns\": 28, \"number_of_rows\": 40, \"number_of_missing_values\": 39, \"number_of_categorical_columns\": 16, \"number_of_numeric_columns\": 10, \"number_of_text_columns\": 0, \"number_of_datetime_columns\": 2, \"number_of_constant_columns\": 1, \"number_of_almost_constant_columns\": 2, \"number_of_duplicated_columns\": 0, \"number_of_almost_duplicated_columns\": 0, \"number_of_empty_rows\": 0, \"number_of_empty_columns\": 0, \"number_of_duplicated_rows\": 0, \"nans_by_columns\": {\"contract_title\": 0, \"term_start_date\": 0, \"term_end_date\": 0, \"contract_type\": 0, \"purchasing_authority\": 0, \"department_code\": 0, \"department\": 0, \"supplier_name_prime_contractor\": 0, \"supplier_name\": 0, \"project_team_lbe_status\": 0, \"supplier_type\": 0, \"scope_of_work\": 0, \"contract_awarded_amount\": 0, \"purchase_orders_outstanding\": 0, \"payments_made\": 0, \"remaining_contract_award_amount\": 0, \"contract_number\": 0, \"non_profit\": 39, \"start_date\": 0, \"end_date\": 0, \"start_day\": 0, \"start_month\": 0, \"start_year\": 0, \"end_day\": 0, \"end_month\": 0, \"end_year\": 0, \"is_sole_source\": 0, \"has_outstanding_orders\": 0}, \"number_uniques_by_columns\": {\"contract_title\": 37, \"term_start_date\": 36, \"term_end_date\": 24, \"contract_type\": 5, \"purchasing_authority\": 6, \"department_code\": 2, \"department\": 2, \"supplier_name_prime_contractor\": 34, \"supplier_name\": 36, \"project_team_lbe_status\": 2, \"supplier_type\": 2, \"scope_of_work\": 24, \"contract_awarded_amount\": 39, \"purchase_orders_outstanding\": 5, \"payments_made\": 14, \"remaining_contract_award_amount\": 39, \"contract_number\": 40, \"non_profit\": 1, \"start_date\": 36, \"end_date\": 24, \"start_day\": 17, \"start_month\": 12, \"start_year\": 11, \"end_day\": 12, \"end_month\": 10, \"end_year\": 7, \"is_sole_source\": 2, \"has_outstanding_orders\": 2}}}}, {\"metric\": \"ColumnSummaryMetric\", \"result\": {\"column_name\": \"start_month\", \"column_type\": \"num\", \"reference_characteristics\": {\"number_of_rows\": 40, \"count\": 40, \"missing\": 0, \"missing_percentage\": 0.0, \"mean\": 6.52, \"std\": 3.16, \"min\": 1.0, \"p25\": 3.0, \"p50\": 7.0, \"p75\": 9.0, \"max\": 12.0, \"unique\": 12, \"unique_percentage\": 30.0, \"infinite_count\": 0, \"infinite_percentage\": 0.0, \"most_common\": 3.0, \"most_common_percentage\": 15.0}, \"current_characteristics\": {\"number_of_rows\": 43, \"count\": 43, \"missing\": 0, \"missing_percentage\": 0.0, \"mean\": 6.86, \"std\": 3.39, \"min\": 1.0, \"p25\": 4.5, \"p50\": 7.0, \"p75\": 9.0, \"max\": 12.0, \"unique\": 12, \"unique_percentage\": 27.91, \"infinite_count\": 0, \"infinite_percentage\": 0.0, \"most_common\": 8.0, \"most_common_percentage\": 16.28}}}, {\"metric\": \"ColumnSummaryMetric\", \"result\": {\"column_name\": \"purchase_orders_outstanding\", \"column_type\": \"num\", \"reference_characteristics\": {\"number_of_rows\": 40, \"count\": 40, \"missing\": 0, \"missing_percentage\": 0.0, \"mean\": 5502.56, \"std\": 34299.96, \"min\": 0.0, \"p25\": 0.0, \"p50\": 0.0, \"p75\": 0.0, \"max\": 217000.0, \"unique\": 5, \"unique_percentage\": 12.5, \"infinite_count\": 0, \"infinite_percentage\": 0.0, \"most_common\": 0.0, \"most_common_percentage\": 90.0}, \"current_characteristics\": {\"number_of_rows\": 43, \"count\": 43, \"missing\": 0, \"missing_percentage\": 0.0, \"mean\": 9536.37, \"std\": 51849.46, \"min\": 0.0, \"p25\": 0.0, \"p50\": 0.0, \"p75\": 0.0, \"max\": 339019.8125, \"unique\": 8, \"unique_percentage\": 18.6, \"infinite_count\": 0, \"infinite_percentage\": 0.0, \"most_common\": 0.0, \"most_common_percentage\": 83.72}}}, {\"metric\": \"ColumnSummaryMetric\", \"result\": {\"column_name\": \"end_year\", \"column_type\": \"num\", \"reference_characteristics\": {\"number_of_rows\": 40, \"count\": 40, \"missing\": 0, \"missing_percentage\": 0.0, \"mean\": 2019.72, \"std\": 2.18, \"min\": 2017.0, \"p25\": 2017.0, \"p50\": 2020.0, \"p75\": 2022.0, \"max\": 2023.0, \"unique\": 7, \"unique_percentage\": 17.5, \"infinite_count\": 0, \"infinite_percentage\": 0.0, \"most_common\": 2022.0, \"most_common_percentage\": 35.0}, \"current_characteristics\": {\"number_of_rows\": 43, \"count\": 43, \"missing\": 0, \"missing_percentage\": 0.0, \"mean\": 2020.16, \"std\": 2.43, \"min\": 2017.0, \"p25\": 2018.0, \"p50\": 2020.0, \"p75\": 2022.0, \"max\": 2027.0, \"unique\": 9, \"unique_percentage\": 20.93, \"infinite_count\": 0, \"infinite_percentage\": 0.0, \"most_common\": 2018.0, \"most_common_percentage\": 25.58}}}, {\"metric\": \"ColumnSummaryMetric\", \"result\": {\"column_name\": \"end_month\", \"column_type\": \"num\", \"reference_characteristics\": {\"number_of_rows\": 40, \"count\": 40, \"missing\": 0, \"missing_percentage\": 0.0, \"mean\": 7.2, \"std\": 2.88, \"min\": 2.0, \"p25\": 6.0, \"p50\": 6.0, \"p75\": 10.0, \"max\": 12.0, \"unique\": 10, \"unique_percentage\": 25.0, \"infinite_count\": 0, \"infinite_percentage\": 0.0, \"most_common\": 6.0, \"most_common_percentage\": 40.0}, \"current_characteristics\": {\"number_of_rows\": 43, \"count\": 43, \"missing\": 0, \"missing_percentage\": 0.0, \"mean\": 6.28, \"std\": 2.73, \"min\": 1.0, \"p25\": 4.5, \"p50\": 6.0, \"p75\": 7.0, \"max\": 12.0, \"unique\": 11, \"unique_percentage\": 25.58, \"infinite_count\": 0, \"infinite_percentage\": 0.0, \"most_common\": 6.0, \"most_common_percentage\": 41.86}}}, {\"metric\": \"ColumnSummaryMetric\", \"result\": {\"column_name\": \"start_year\", \"column_type\": \"num\", \"reference_characteristics\": {\"number_of_rows\": 40, \"count\": 40, \"missing\": 0, \"missing_percentage\": 0.0, \"mean\": 2010.5, \"std\": 2.55, \"min\": 2003.0, \"p25\": 2009.0, \"p50\": 2010.5, \"p75\": 2012.0, \"max\": 2017.0, \"unique\": 11, \"unique_percentage\": 27.5, \"infinite_count\": 0, \"infinite_percentage\": 0.0, \"most_common\": 2012.0, \"most_common_percentage\": 27.5}, \"current_characteristics\": {\"number_of_rows\": 43, \"count\": 43, \"missing\": 0, \"missing_percentage\": 0.0, \"mean\": 2011.7, \"std\": 2.77, \"min\": 2006.0, \"p25\": 2010.0, \"p50\": 2011.0, \"p75\": 2012.0, \"max\": 2018.0, \"unique\": 10, \"unique_percentage\": 23.26, \"infinite_count\": 0, \"infinite_percentage\": 0.0, \"most_common\": 2012.0, \"most_common_percentage\": 32.56}}}, {\"metric\": \"ColumnSummaryMetric\", \"result\": {\"column_name\": \"payments_made\", \"column_type\": \"num\", \"reference_characteristics\": {\"number_of_rows\": 40, \"count\": 40, \"missing\": 0, \"missing_percentage\": 0.0, \"mean\": 110047.16, \"std\": 430348.97, \"min\": 0.0, \"p25\": 0.0, \"p50\": 0.0, \"p75\": 21658.75, \"max\": 2639710.5, \"unique\": 14, \"unique_percentage\": 35.0, \"infinite_count\": 0, \"infinite_percentage\": 0.0, \"most_common\": 0.0, \"most_common_percentage\": 67.5}, \"current_characteristics\": {\"number_of_rows\": 43, \"count\": 43, \"missing\": 0, \"missing_percentage\": 0.0, \"mean\": 137833.25, \"std\": 621240.44, \"min\": 0.0, \"p25\": 0.0, \"p50\": 0.0, \"p75\": 18440.01, \"max\": 4019606.5, \"unique\": 17, \"unique_percentage\": 39.53, \"infinite_count\": 0, \"infinite_percentage\": 0.0, \"most_common\": 0.0, \"most_common_percentage\": 62.79}}}, {\"metric\": \"ColumnSummaryMetric\", \"result\": {\"column_name\": \"remaining_contract_award_amount\", \"column_type\": \"num\", \"reference_characteristics\": {\"number_of_rows\": 40, \"count\": 40, \"missing\": 0, \"missing_percentage\": 0.0, \"mean\": 2194985.25, \"std\": 5065334.5, \"min\": 18000.0, \"p25\": 126184.5, \"p50\": 263968.0, \"p75\": 2537082.44, \"max\": 27951320.0, \"unique\": 39, \"unique_percentage\": 97.5, \"infinite_count\": 0, \"infinite_percentage\": 0.0, \"most_common\": 175000.0, \"most_common_percentage\": 5.0}, \"current_characteristics\": {\"number_of_rows\": 43, \"count\": 43, \"missing\": 0, \"missing_percentage\": 0.0, \"mean\": 1596632.5, \"std\": 5163557.5, \"min\": 1573.5899658203125, \"p25\": 79800.0, \"p50\": 207200.0, \"p75\": 998637.84, \"max\": 33205370.0, \"unique\": 41, \"unique_percentage\": 95.35, \"infinite_count\": 0, \"infinite_percentage\": 0.0, \"most_common\": 49000.0, \"most_common_percentage\": 4.65}}}, {\"metric\": \"ColumnSummaryMetric\", \"result\": {\"column_name\": \"contract_awarded_amount\", \"column_type\": \"num\", \"reference_characteristics\": {\"number_of_rows\": 40, \"count\": 40, \"missing\": 0, \"missing_percentage\": 0.0, \"mean\": 2310534.75, \"std\": 5438420.0, \"min\": 18000.0, \"p25\": 138750.0, \"p50\": 377650.0, \"p75\": 2707654.81, \"max\": 30808028.0, \"unique\": 39, \"unique_percentage\": 97.5, \"infinite_count\": 0, \"infinite_percentage\": 0.0, \"most_common\": 175000.0, \"most_common_percentage\": 5.0}, \"current_characteristics\": {\"number_of_rows\": 43, \"count\": 43, \"missing\": 0, \"missing_percentage\": 0.0, \"mean\": 1744002.38, \"std\": 5297607.0, \"min\": 4000.0, \"p25\": 100000.0, \"p50\": 232200.0, \"p75\": 1091102.5, \"max\": 34000000.0, \"unique\": 40, \"unique_percentage\": 93.02, \"infinite_count\": 0, \"infinite_percentage\": 0.0, \"most_common\": 49000.0, \"most_common_percentage\": 4.65}}}, {\"metric\": \"ColumnSummaryMetric\", \"result\": {\"column_name\": \"start_day\", \"column_type\": \"num\", \"reference_characteristics\": {\"number_of_rows\": 40, \"count\": 40, \"missing\": 0, \"missing_percentage\": 0.0, \"mean\": 10.78, \"std\": 10.56, \"min\": 1.0, \"p25\": 1.0, \"p50\": 8.0, \"p75\": 16.25, \"max\": 31.0, \"unique\": 17, \"unique_percentage\": 42.5, \"infinite_count\": 0, \"infinite_percentage\": 0.0, \"most_common\": 1.0, \"most_common_percentage\": 37.5}, \"current_characteristics\": {\"number_of_rows\": 43, \"count\": 43, \"missing\": 0, \"missing_percentage\": 0.0, \"mean\": 14.12, \"std\": 10.75, \"min\": 1.0, \"p25\": 1.0, \"p50\": 14.0, \"p75\": 24.0, \"max\": 31.0, \"unique\": 20, \"unique_percentage\": 46.51, \"infinite_count\": 0, \"infinite_percentage\": 0.0, \"most_common\": 1.0, \"most_common_percentage\": 27.91}}}, {\"metric\": \"ColumnSummaryMetric\", \"result\": {\"column_name\": \"end_day\", \"column_type\": \"num\", \"reference_characteristics\": {\"number_of_rows\": 40, \"count\": 40, \"missing\": 0, \"missing_percentage\": 0.0, \"mean\": 24.45, \"std\": 10.38, \"min\": 1.0, \"p25\": 25.5, \"p50\": 30.0, \"p75\": 30.0, \"max\": 31.0, \"unique\": 12, \"unique_percentage\": 30.0, \"infinite_count\": 0, \"infinite_percentage\": 0.0, \"most_common\": 30.0, \"most_common_percentage\": 42.5}, \"current_characteristics\": {\"number_of_rows\": 43, \"count\": 43, \"missing\": 0, \"missing_percentage\": 0.0, \"mean\": 24.53, \"std\": 9.27, \"min\": 1.0, \"p25\": 22.5, \"p50\": 30.0, \"p75\": 30.0, \"max\": 31.0, \"unique\": 16, \"unique_percentage\": 37.21, \"infinite_count\": 0, \"infinite_percentage\": 0.0, \"most_common\": 30.0, \"most_common_percentage\": 48.84}}}, {\"metric\": \"ColumnSummaryMetric\", \"result\": {\"column_name\": \"non_profit\", \"column_type\": \"cat\", \"reference_characteristics\": {\"number_of_rows\": 40, \"count\": 1, \"missing\": 39, \"missing_percentage\": 97.5, \"unique\": 1, \"unique_percentage\": 2.5, \"most_common\": null, \"most_common_percentage\": 97.5, \"new_in_current_values_count\": null, \"unused_in_current_values_count\": null}, \"current_characteristics\": {\"number_of_rows\": 43, \"count\": 3, \"missing\": 40, \"missing_percentage\": 93.02, \"unique\": 1, \"unique_percentage\": 2.33, \"most_common\": null, \"most_common_percentage\": 93.02, \"new_in_current_values_count\": 0, \"unused_in_current_values_count\": 0}}}, {\"metric\": \"ColumnSummaryMetric\", \"result\": {\"column_name\": \"supplier_name\", \"column_type\": \"cat\", \"reference_characteristics\": {\"number_of_rows\": 40, \"count\": 40, \"missing\": 0, \"missing_percentage\": 0.0, \"unique\": 36, \"unique_percentage\": 90.0, \"most_common\": \"U R S CORPORATION\", \"most_common_percentage\": 10.0, \"new_in_current_values_count\": null, \"unused_in_current_values_count\": null}, \"current_characteristics\": {\"number_of_rows\": 43, \"count\": 43, \"missing\": 0, \"missing_percentage\": 0.0, \"unique\": 40, \"unique_percentage\": 93.02, \"most_common\": \"A G S INC\", \"most_common_percentage\": 4.65, \"new_in_current_values_count\": 35, \"unused_in_current_values_count\": 31}}}, {\"metric\": \"ColumnSummaryMetric\", \"result\": {\"column_name\": \"contract_number\", \"column_type\": \"cat\", \"reference_characteristics\": {\"number_of_rows\": 40, \"count\": 40, \"missing\": 0, \"missing_percentage\": 0.0, \"unique\": 40, \"unique_percentage\": 100.0, \"most_common\": \"1000000034\", \"most_common_percentage\": 2.5, \"new_in_current_values_count\": null, \"unused_in_current_values_count\": null}, \"current_characteristics\": {\"number_of_rows\": 43, \"count\": 43, \"missing\": 0, \"missing_percentage\": 0.0, \"unique\": 43, \"unique_percentage\": 100.0, \"most_common\": \"1000000002\", \"most_common_percentage\": 2.33, \"new_in_current_values_count\": 43, \"unused_in_current_values_count\": 40}}}, {\"metric\": \"ColumnSummaryMetric\", \"result\": {\"column_name\": \"project_team_lbe_status\", \"column_type\": \"cat\", \"reference_characteristics\": {\"number_of_rows\": 40, \"count\": 40, \"missing\": 0, \"missing_percentage\": 0.0, \"unique\": 2, \"unique_percentage\": 5.0, \"most_common\": \"Non-LBE\", \"most_common_percentage\": 82.5, \"new_in_current_values_count\": null, \"unused_in_current_values_count\": null}, \"current_characteristics\": {\"number_of_rows\": 43, \"count\": 43, \"missing\": 0, \"missing_percentage\": 0.0, \"unique\": 2, \"unique_percentage\": 4.65, \"most_common\": \"Non-LBE\", \"most_common_percentage\": 69.77, \"new_in_current_values_count\": 0, \"unused_in_current_values_count\": 0}}}, {\"metric\": \"ColumnSummaryMetric\", \"result\": {\"column_name\": \"term_end_date\", \"column_type\": \"cat\", \"reference_characteristics\": {\"number_of_rows\": 40, \"count\": 40, \"missing\": 0, \"missing_percentage\": 0.0, \"unique\": 24, \"unique_percentage\": 60.0, \"most_common\": \"2022-06-30T00:00:00.000\", \"most_common_percentage\": 32.5, \"new_in_current_values_count\": null, \"unused_in_current_values_count\": null}, \"current_characteristics\": {\"number_of_rows\": 43, \"count\": 43, \"missing\": 0, \"missing_percentage\": 0.0, \"unique\": 30, \"unique_percentage\": 69.77, \"most_common\": \"2022-06-30T00:00:00.000\", \"most_common_percentage\": 23.26, \"new_in_current_values_count\": 24, \"unused_in_current_values_count\": 18}}}, {\"metric\": \"ColumnSummaryMetric\", \"result\": {\"column_name\": \"contract_type\", \"column_type\": \"cat\", \"reference_characteristics\": {\"number_of_rows\": 40, \"count\": 40, \"missing\": 0, \"missing_percentage\": 0.0, \"unique\": 5, \"unique_percentage\": 12.5, \"most_common\": \"Professional Services and P-Form Contracts\", \"most_common_percentage\": 40.0, \"new_in_current_values_count\": null, \"unused_in_current_values_count\": null}, \"current_characteristics\": {\"number_of_rows\": 43, \"count\": 43, \"missing\": 0, \"missing_percentage\": 0.0, \"unique\": 5, \"unique_percentage\": 11.63, \"most_common\": \"Professional Services and P-Form Contracts\", \"most_common_percentage\": 39.53, \"new_in_current_values_count\": 1, \"unused_in_current_values_count\": 1}}}, {\"metric\": \"ColumnSummaryMetric\", \"result\": {\"column_name\": \"supplier_type\", \"column_type\": \"cat\", \"reference_characteristics\": {\"number_of_rows\": 40, \"count\": 40, \"missing\": 0, \"missing_percentage\": 0.0, \"unique\": 2, \"unique_percentage\": 5.0, \"most_common\": \"Prime Contractor\", \"most_common_percentage\": 62.5, \"new_in_current_values_count\": null, \"unused_in_current_values_count\": null}, \"current_characteristics\": {\"number_of_rows\": 43, \"count\": 43, \"missing\": 0, \"missing_percentage\": 0.0, \"unique\": 3, \"unique_percentage\": 6.98, \"most_common\": \"Prime Contractor\", \"most_common_percentage\": 51.16, \"new_in_current_values_count\": 1, \"unused_in_current_values_count\": 0}}}, {\"metric\": \"ColumnSummaryMetric\", \"result\": {\"column_name\": \"term_start_date\", \"column_type\": \"cat\", \"reference_characteristics\": {\"number_of_rows\": 40, \"count\": 40, \"missing\": 0, \"missing_percentage\": 0.0, \"unique\": 36, \"unique_percentage\": 90.0, \"most_common\": \"2008-11-01T00:00:00.000\", \"most_common_percentage\": 5.0, \"new_in_current_values_count\": null, \"unused_in_current_values_count\": null}, \"current_characteristics\": {\"number_of_rows\": 43, \"count\": 43, \"missing\": 0, \"missing_percentage\": 0.0, \"unique\": 38, \"unique_percentage\": 88.37, \"most_common\": \"2017-02-24T00:00:00.000\", \"most_common_percentage\": 6.98, \"new_in_current_values_count\": 31, \"unused_in_current_values_count\": 29}}}, {\"metric\": \"ColumnSummaryMetric\", \"result\": {\"column_name\": \"department_code\", \"column_type\": \"cat\", \"reference_characteristics\": {\"number_of_rows\": 40, \"count\": 40, \"missing\": 0, \"missing_percentage\": 0.0, \"unique\": 2, \"unique_percentage\": 5.0, \"most_common\": \"PUC\", \"most_common_percentage\": 97.5, \"new_in_current_values_count\": null, \"unused_in_current_values_count\": null}, \"current_characteristics\": {\"number_of_rows\": 43, \"count\": 43, \"missing\": 0, \"missing_percentage\": 0.0, \"unique\": 3, \"unique_percentage\": 6.98, \"most_common\": \"PUC\", \"most_common_percentage\": 95.35, \"new_in_current_values_count\": 2, \"unused_in_current_values_count\": 1}}}, {\"metric\": \"ColumnSummaryMetric\", \"result\": {\"column_name\": \"purchasing_authority\", \"column_type\": \"cat\", \"reference_characteristics\": {\"number_of_rows\": 40, \"count\": 40, \"missing\": 0, \"missing_percentage\": 0.0, \"unique\": 6, \"unique_percentage\": 15.0, \"most_common\": \"TERM CONTRACT PROFSERV-BID, ENVIRONMENTAL CONSULTING\", \"most_common_percentage\": 70.0, \"new_in_current_values_count\": null, \"unused_in_current_values_count\": null}, \"current_characteristics\": {\"number_of_rows\": 43, \"count\": 43, \"missing\": 0, \"missing_percentage\": 0.0, \"unique\": 8, \"unique_percentage\": 18.6, \"most_common\": \"TERM CONTRACT PROFSERV-BID, ENVIRONMENTAL CONSULTING\", \"most_common_percentage\": 55.81, \"new_in_current_values_count\": 3, \"unused_in_current_values_count\": 1}}}, {\"metric\": \"ColumnSummaryMetric\", \"result\": {\"column_name\": \"department\", \"column_type\": \"cat\", \"reference_characteristics\": {\"number_of_rows\": 40, \"count\": 40, \"missing\": 0, \"missing_percentage\": 0.0, \"unique\": 2, \"unique_percentage\": 5.0, \"most_common\": \"PUC Public Utilities Commsn\", \"most_common_percentage\": 97.5, \"new_in_current_values_count\": null, \"unused_in_current_values_count\": null}, \"current_characteristics\": {\"number_of_rows\": 43, \"count\": 43, \"missing\": 0, \"missing_percentage\": 0.0, \"unique\": 3, \"unique_percentage\": 6.98, \"most_common\": \"PUC Public Utilities Commsn\", \"most_common_percentage\": 95.35, \"new_in_current_values_count\": 2, \"unused_in_current_values_count\": 1}}}, {\"metric\": \"ColumnSummaryMetric\", \"result\": {\"column_name\": \"is_sole_source\", \"column_type\": \"cat\", \"reference_characteristics\": {\"number_of_rows\": 40, \"count\": 40, \"missing\": 0, \"missing_percentage\": 0.0, \"unique\": 2, \"unique_percentage\": 5.0, \"most_common\": true, \"most_common_percentage\": 90.0, \"new_in_current_values_count\": null, \"unused_in_current_values_count\": null}, \"current_characteristics\": {\"number_of_rows\": 43, \"count\": 43, \"missing\": 0, \"missing_percentage\": 0.0, \"unique\": 2, \"unique_percentage\": 4.65, \"most_common\": true, \"most_common_percentage\": 81.4, \"new_in_current_values_count\": 0, \"unused_in_current_values_count\": 0}}}, {\"metric\": \"ColumnSummaryMetric\", \"result\": {\"column_name\": \"scope_of_work\", \"column_type\": \"cat\", \"reference_characteristics\": {\"number_of_rows\": 40, \"count\": 40, \"missing\": 0, \"missing_percentage\": 0.0, \"unique\": 24, \"unique_percentage\": 60.0, \"most_common\": \"Unspecified\", \"most_common_percentage\": 37.5, \"new_in_current_values_count\": null, \"unused_in_current_values_count\": null}, \"current_characteristics\": {\"number_of_rows\": 43, \"count\": 43, \"missing\": 0, \"missing_percentage\": 0.0, \"unique\": 19, \"unique_percentage\": 44.19, \"most_common\": \"Unspecified\", \"most_common_percentage\": 51.16, \"new_in_current_values_count\": 17, \"unused_in_current_values_count\": 22}}}, {\"metric\": \"ColumnSummaryMetric\", \"result\": {\"column_name\": \"has_outstanding_orders\", \"column_type\": \"cat\", \"reference_characteristics\": {\"number_of_rows\": 40, \"count\": 40, \"missing\": 0, \"missing_percentage\": 0.0, \"unique\": 2, \"unique_percentage\": 5.0, \"most_common\": false, \"most_common_percentage\": 90.0, \"new_in_current_values_count\": null, \"unused_in_current_values_count\": null}, \"current_characteristics\": {\"number_of_rows\": 43, \"count\": 43, \"missing\": 0, \"missing_percentage\": 0.0, \"unique\": 2, \"unique_percentage\": 4.65, \"most_common\": false, \"most_common_percentage\": 83.72, \"new_in_current_values_count\": 0, \"unused_in_current_values_count\": 0}}}, {\"metric\": \"ColumnSummaryMetric\", \"result\": {\"column_name\": \"contract_title\", \"column_type\": \"cat\", \"reference_characteristics\": {\"number_of_rows\": 40, \"count\": 40, \"missing\": 0, \"missing_percentage\": 0.0, \"unique\": 37, \"unique_percentage\": 92.5, \"most_common\": \"TECHNICAL ADVISORY PANEL\", \"most_common_percentage\": 7.5, \"new_in_current_values_count\": null, \"unused_in_current_values_count\": null}, \"current_characteristics\": {\"number_of_rows\": 43, \"count\": 43, \"missing\": 0, \"missing_percentage\": 0.0, \"unique\": 39, \"unique_percentage\": 90.7, \"most_common\": \"CLP - RESOURCE ADEQUACY CAPACI\", \"most_common_percentage\": 6.98, \"new_in_current_values_count\": 35, \"unused_in_current_values_count\": 33}}}, {\"metric\": \"ColumnSummaryMetric\", \"result\": {\"column_name\": \"supplier_name_prime_contractor\", \"column_type\": \"cat\", \"reference_characteristics\": {\"number_of_rows\": 40, \"count\": 40, \"missing\": 0, \"missing_percentage\": 0.0, \"unique\": 34, \"unique_percentage\": 85.0, \"most_common\": \"U R S CORPORATION\", \"most_common_percentage\": 15.0, \"new_in_current_values_count\": null, \"unused_in_current_values_count\": null}, \"current_characteristics\": {\"number_of_rows\": 43, \"count\": 43, \"missing\": 0, \"missing_percentage\": 0.0, \"unique\": 41, \"unique_percentage\": 95.35, \"most_common\": \"U R S CORPORATION\", \"most_common_percentage\": 6.98, \"new_in_current_values_count\": 35, \"unused_in_current_values_count\": 28}}}, {\"metric\": \"ColumnSummaryMetric\", \"result\": {\"column_name\": \"end_date\", \"column_type\": \"datetime\", \"reference_characteristics\": {\"number_of_rows\": 40, \"count\": 40, \"missing\": 0, \"missing_percentage\": 0.0, \"unique\": 24, \"unique_percentage\": 60.0, \"most_common\": \"2022-06-30 00:00:00\", \"most_common_percentage\": 32.5, \"first\": \"2017-07-26 00:00:00\", \"last\": \"2023-04-24 00:00:00\"}, \"current_characteristics\": {\"number_of_rows\": 43, \"count\": 43, \"missing\": 0, \"missing_percentage\": 0.0, \"unique\": 30, \"unique_percentage\": 69.77, \"most_common\": \"2022-06-30 00:00:00\", \"most_common_percentage\": 23.26, \"first\": \"2017-09-13 00:00:00\", \"last\": \"2027-02-05 00:00:00\"}}}, {\"metric\": \"ColumnSummaryMetric\", \"result\": {\"column_name\": \"start_date\", \"column_type\": \"datetime\", \"reference_characteristics\": {\"number_of_rows\": 40, \"count\": 40, \"missing\": 0, \"missing_percentage\": 0.0, \"unique\": 36, \"unique_percentage\": 90.0, \"most_common\": \"2008-11-01 00:00:00\", \"most_common_percentage\": 5.0, \"first\": \"2003-09-11 00:00:00\", \"last\": \"2017-02-24 00:00:00\"}, \"current_characteristics\": {\"number_of_rows\": 43, \"count\": 43, \"missing\": 0, \"missing_percentage\": 0.0, \"unique\": 38, \"unique_percentage\": 88.37, \"most_common\": \"2017-02-24 00:00:00\", \"most_common_percentage\": 6.98, \"first\": \"2006-06-27 00:00:00\", \"last\": \"2018-12-01 00:00:00\"}}}, {\"metric\": \"DatasetMissingValuesMetric\", \"result\": {\"current\": {\"different_missing_values\": {\"\": 0, \"-Infinity\": 0, \"null\": 40, \"Infinity\": 0}, \"number_of_different_missing_values\": 1, \"different_missing_values_by_column\": {\"contract_title\": {\"\": 0, \"-Infinity\": 0, \"null\": 0, \"Infinity\": 0}, \"term_start_date\": {\"\": 0, \"-Infinity\": 0, \"null\": 0, \"Infinity\": 0}, \"term_end_date\": {\"\": 0, \"-Infinity\": 0, \"null\": 0, \"Infinity\": 0}, \"contract_type\": {\"\": 0, \"-Infinity\": 0, \"null\": 0, \"Infinity\": 0}, \"purchasing_authority\": {\"\": 0, \"-Infinity\": 0, \"null\": 0, \"Infinity\": 0}, \"department_code\": {\"\": 0, \"-Infinity\": 0, \"null\": 0, \"Infinity\": 0}, \"department\": {\"\": 0, \"-Infinity\": 0, \"null\": 0, \"Infinity\": 0}, \"supplier_name_prime_contractor\": {\"\": 0, \"-Infinity\": 0, \"null\": 0, \"Infinity\": 0}, \"supplier_name\": {\"\": 0, \"-Infinity\": 0, \"null\": 0, \"Infinity\": 0}, \"project_team_lbe_status\": {\"\": 0, \"-Infinity\": 0, \"null\": 0, \"Infinity\": 0}, \"supplier_type\": {\"\": 0, \"-Infinity\": 0, \"null\": 0, \"Infinity\": 0}, \"scope_of_work\": {\"\": 0, \"-Infinity\": 0, \"null\": 0, \"Infinity\": 0}, \"contract_awarded_amount\": {\"\": 0, \"-Infinity\": 0, \"null\": 0, \"Infinity\": 0}, \"purchase_orders_outstanding\": {\"\": 0, \"-Infinity\": 0, \"null\": 0, \"Infinity\": 0}, \"payments_made\": {\"\": 0, \"-Infinity\": 0, \"null\": 0, \"Infinity\": 0}, \"remaining_contract_award_amount\": {\"\": 0, \"-Infinity\": 0, \"null\": 0, \"Infinity\": 0}, \"contract_number\": {\"\": 0, \"-Infinity\": 0, \"null\": 0, \"Infinity\": 0}, \"non_profit\": {\"\": 0, \"-Infinity\": 0, \"null\": 40, \"Infinity\": 0}, \"start_date\": {\"\": 0, \"-Infinity\": 0, \"null\": 0, \"Infinity\": 0}, \"end_date\": {\"\": 0, \"-Infinity\": 0, \"null\": 0, \"Infinity\": 0}, \"start_day\": {\"\": 0, \"-Infinity\": 0, \"null\": 0, \"Infinity\": 0}, \"start_month\": {\"\": 0, \"-Infinity\": 0, \"null\": 0, \"Infinity\": 0}, \"start_year\": {\"\": 0, \"-Infinity\": 0, \"null\": 0, \"Infinity\": 0}, \"end_day\": {\"\": 0, \"-Infinity\": 0, \"null\": 0, \"Infinity\": 0}, \"end_month\": {\"\": 0, \"-Infinity\": 0, \"null\": 0, \"Infinity\": 0}, \"end_year\": {\"\": 0, \"-Infinity\": 0, \"null\": 0, \"Infinity\": 0}, \"is_sole_source\": {\"\": 0, \"-Infinity\": 0, \"null\": 0, \"Infinity\": 0}, \"has_outstanding_orders\": {\"\": 0, \"-Infinity\": 0, \"null\": 0, \"Infinity\": 0}}, \"number_of_different_missing_values_by_column\": {\"contract_title\": 0, \"term_start_date\": 0, \"term_end_date\": 0, \"contract_type\": 0, \"purchasing_authority\": 0, \"department_code\": 0, \"department\": 0, \"supplier_name_prime_contractor\": 0, \"supplier_name\": 0, \"project_team_lbe_status\": 0, \"supplier_type\": 0, \"scope_of_work\": 0, \"contract_awarded_amount\": 0, \"purchase_orders_outstanding\": 0, \"payments_made\": 0, \"remaining_contract_award_amount\": 0, \"contract_number\": 0, \"non_profit\": 1, \"start_date\": 0, \"end_date\": 0, \"start_day\": 0, \"start_month\": 0, \"start_year\": 0, \"end_day\": 0, \"end_month\": 0, \"end_year\": 0, \"is_sole_source\": 0, \"has_outstanding_orders\": 0}, \"number_of_missing_values\": 40, \"share_of_missing_values\": 0.03322259136212625, \"number_of_missing_values_by_column\": {\"contract_title\": 0, \"term_start_date\": 0, \"term_end_date\": 0, \"contract_type\": 0, \"purchasing_authority\": 0, \"department_code\": 0, \"department\": 0, \"supplier_name_prime_contractor\": 0, \"supplier_name\": 0, \"project_team_lbe_status\": 0, \"supplier_type\": 0, \"scope_of_work\": 0, \"contract_awarded_amount\": 0, \"purchase_orders_outstanding\": 0, \"payments_made\": 0, \"remaining_contract_award_amount\": 0, \"contract_number\": 0, \"non_profit\": 40, \"start_date\": 0, \"end_date\": 0, \"start_day\": 0, \"start_month\": 0, \"start_year\": 0, \"end_day\": 0, \"end_month\": 0, \"end_year\": 0, \"is_sole_source\": 0, \"has_outstanding_orders\": 0}, \"share_of_missing_values_by_column\": {\"contract_title\": 0.0, \"term_start_date\": 0.0, \"term_end_date\": 0.0, \"contract_type\": 0.0, \"purchasing_authority\": 0.0, \"department_code\": 0.0, \"department\": 0.0, \"supplier_name_prime_contractor\": 0.0, \"supplier_name\": 0.0, \"project_team_lbe_status\": 0.0, \"supplier_type\": 0.0, \"scope_of_work\": 0.0, \"contract_awarded_amount\": 0.0, \"purchase_orders_outstanding\": 0.0, \"payments_made\": 0.0, \"remaining_contract_award_amount\": 0.0, \"contract_number\": 0.0, \"non_profit\": 0.9302325581395349, \"start_date\": 0.0, \"end_date\": 0.0, \"start_day\": 0.0, \"start_month\": 0.0, \"start_year\": 0.0, \"end_day\": 0.0, \"end_month\": 0.0, \"end_year\": 0.0, \"is_sole_source\": 0.0, \"has_outstanding_orders\": 0.0}, \"number_of_rows\": 43, \"number_of_rows_with_missing_values\": 40, \"share_of_rows_with_missing_values\": 0.9302325581395349, \"number_of_columns\": 28, \"columns_with_missing_values\": [\"non_profit\"], \"number_of_columns_with_missing_values\": 1, \"share_of_columns_with_missing_values\": 0.03571428571428571}, \"reference\": {\"different_missing_values\": {\"\": 0, \"-Infinity\": 0, \"null\": 39, \"Infinity\": 0}, \"number_of_different_missing_values\": 1, \"different_missing_values_by_column\": {\"contract_title\": {\"\": 0, \"-Infinity\": 0, \"null\": 0, \"Infinity\": 0}, \"term_start_date\": {\"\": 0, \"-Infinity\": 0, \"null\": 0, \"Infinity\": 0}, \"term_end_date\": {\"\": 0, \"-Infinity\": 0, \"null\": 0, \"Infinity\": 0}, \"contract_type\": {\"\": 0, \"-Infinity\": 0, \"null\": 0, \"Infinity\": 0}, \"purchasing_authority\": {\"\": 0, \"-Infinity\": 0, \"null\": 0, \"Infinity\": 0}, \"department_code\": {\"\": 0, \"-Infinity\": 0, \"null\": 0, \"Infinity\": 0}, \"department\": {\"\": 0, \"-Infinity\": 0, \"null\": 0, \"Infinity\": 0}, \"supplier_name_prime_contractor\": {\"\": 0, \"-Infinity\": 0, \"null\": 0, \"Infinity\": 0}, \"supplier_name\": {\"\": 0, \"-Infinity\": 0, \"null\": 0, \"Infinity\": 0}, \"project_team_lbe_status\": {\"\": 0, \"-Infinity\": 0, \"null\": 0, \"Infinity\": 0}, \"supplier_type\": {\"\": 0, \"-Infinity\": 0, \"null\": 0, \"Infinity\": 0}, \"scope_of_work\": {\"\": 0, \"-Infinity\": 0, \"null\": 0, \"Infinity\": 0}, \"contract_awarded_amount\": {\"\": 0, \"-Infinity\": 0, \"null\": 0, \"Infinity\": 0}, \"purchase_orders_outstanding\": {\"\": 0, \"-Infinity\": 0, \"null\": 0, \"Infinity\": 0}, \"payments_made\": {\"\": 0, \"-Infinity\": 0, \"null\": 0, \"Infinity\": 0}, \"remaining_contract_award_amount\": {\"\": 0, \"-Infinity\": 0, \"null\": 0, \"Infinity\": 0}, \"contract_number\": {\"\": 0, \"-Infinity\": 0, \"null\": 0, \"Infinity\": 0}, \"non_profit\": {\"\": 0, \"-Infinity\": 0, \"null\": 39, \"Infinity\": 0}, \"start_date\": {\"\": 0, \"-Infinity\": 0, \"null\": 0, \"Infinity\": 0}, \"end_date\": {\"\": 0, \"-Infinity\": 0, \"null\": 0, \"Infinity\": 0}, \"start_day\": {\"\": 0, \"-Infinity\": 0, \"null\": 0, \"Infinity\": 0}, \"start_month\": {\"\": 0, \"-Infinity\": 0, \"null\": 0, \"Infinity\": 0}, \"start_year\": {\"\": 0, \"-Infinity\": 0, \"null\": 0, \"Infinity\": 0}, \"end_day\": {\"\": 0, \"-Infinity\": 0, \"null\": 0, \"Infinity\": 0}, \"end_month\": {\"\": 0, \"-Infinity\": 0, \"null\": 0, \"Infinity\": 0}, \"end_year\": {\"\": 0, \"-Infinity\": 0, \"null\": 0, \"Infinity\": 0}, \"is_sole_source\": {\"\": 0, \"-Infinity\": 0, \"null\": 0, \"Infinity\": 0}, \"has_outstanding_orders\": {\"\": 0, \"-Infinity\": 0, \"null\": 0, \"Infinity\": 0}}, \"number_of_different_missing_values_by_column\": {\"contract_title\": 0, \"term_start_date\": 0, \"term_end_date\": 0, \"contract_type\": 0, \"purchasing_authority\": 0, \"department_code\": 0, \"department\": 0, \"supplier_name_prime_contractor\": 0, \"supplier_name\": 0, \"project_team_lbe_status\": 0, \"supplier_type\": 0, \"scope_of_work\": 0, \"contract_awarded_amount\": 0, \"purchase_orders_outstanding\": 0, \"payments_made\": 0, \"remaining_contract_award_amount\": 0, \"contract_number\": 0, \"non_profit\": 1, \"start_date\": 0, \"end_date\": 0, \"start_day\": 0, \"start_month\": 0, \"start_year\": 0, \"end_day\": 0, \"end_month\": 0, \"end_year\": 0, \"is_sole_source\": 0, \"has_outstanding_orders\": 0}, \"number_of_missing_values\": 39, \"share_of_missing_values\": 0.03482142857142857, \"number_of_missing_values_by_column\": {\"contract_title\": 0, \"term_start_date\": 0, \"term_end_date\": 0, \"contract_type\": 0, \"purchasing_authority\": 0, \"department_code\": 0, \"department\": 0, \"supplier_name_prime_contractor\": 0, \"supplier_name\": 0, \"project_team_lbe_status\": 0, \"supplier_type\": 0, \"scope_of_work\": 0, \"contract_awarded_amount\": 0, \"purchase_orders_outstanding\": 0, \"payments_made\": 0, \"remaining_contract_award_amount\": 0, \"contract_number\": 0, \"non_profit\": 39, \"start_date\": 0, \"end_date\": 0, \"start_day\": 0, \"start_month\": 0, \"start_year\": 0, \"end_day\": 0, \"end_month\": 0, \"end_year\": 0, \"is_sole_source\": 0, \"has_outstanding_orders\": 0}, \"share_of_missing_values_by_column\": {\"contract_title\": 0.0, \"term_start_date\": 0.0, \"term_end_date\": 0.0, \"contract_type\": 0.0, \"purchasing_authority\": 0.0, \"department_code\": 0.0, \"department\": 0.0, \"supplier_name_prime_contractor\": 0.0, \"supplier_name\": 0.0, \"project_team_lbe_status\": 0.0, \"supplier_type\": 0.0, \"scope_of_work\": 0.0, \"contract_awarded_amount\": 0.0, \"purchase_orders_outstanding\": 0.0, \"payments_made\": 0.0, \"remaining_contract_award_amount\": 0.0, \"contract_number\": 0.0, \"non_profit\": 0.975, \"start_date\": 0.0, \"end_date\": 0.0, \"start_day\": 0.0, \"start_month\": 0.0, \"start_year\": 0.0, \"end_day\": 0.0, \"end_month\": 0.0, \"end_year\": 0.0, \"is_sole_source\": 0.0, \"has_outstanding_orders\": 0.0}, \"number_of_rows\": 40, \"number_of_rows_with_missing_values\": 39, \"share_of_rows_with_missing_values\": 0.975, \"number_of_columns\": 28, \"columns_with_missing_values\": [\"non_profit\"], \"number_of_columns_with_missing_values\": 1, \"share_of_columns_with_missing_values\": 0.03571428571428571}}}, {\"metric\": \"DatasetCorrelationsMetric\", \"result\": {\"current\": {\"stats\": {\"pearson\": {\"target_prediction_correlation\": null, \"abs_max_target_features_correlation\": null, \"abs_max_prediction_features_correlation\": null, \"abs_max_correlation\": 0.9920879738535792, \"abs_max_features_correlation\": 0.9920879738535792}, \"spearman\": {\"target_prediction_correlation\": null, \"abs_max_target_features_correlation\": null, \"abs_max_prediction_features_correlation\": null, \"abs_max_correlation\": 0.947249179393728, \"abs_max_features_correlation\": 0.947249179393728}, \"kendall\": {\"target_prediction_correlation\": null, \"abs_max_target_features_correlation\": null, \"abs_max_prediction_features_correlation\": null, \"abs_max_correlation\": 0.8639645973664245, \"abs_max_features_correlation\": 0.8639645973664245}, \"cramer_v\": {\"target_prediction_correlation\": null, \"abs_max_target_features_correlation\": null, \"abs_max_prediction_features_correlation\": null, \"abs_max_correlation\": 1.0, \"abs_max_features_correlation\": 1.0}}}, \"reference\": {\"stats\": {\"pearson\": {\"target_prediction_correlation\": null, \"abs_max_target_features_correlation\": null, \"abs_max_prediction_features_correlation\": null, \"abs_max_correlation\": 0.9986329621704327, \"abs_max_features_correlation\": 0.9986329621704327}, \"spearman\": {\"target_prediction_correlation\": null, \"abs_max_target_features_correlation\": null, \"abs_max_prediction_features_correlation\": null, \"abs_max_correlation\": 0.9802983394314664, \"abs_max_features_correlation\": 0.9802983394314664}, \"kendall\": {\"target_prediction_correlation\": null, \"abs_max_target_features_correlation\": null, \"abs_max_prediction_features_correlation\": null, \"abs_max_correlation\": 0.9383825417201539, \"abs_max_features_correlation\": 0.9383825417201539}, \"cramer_v\": {\"target_prediction_correlation\": null, \"abs_max_target_features_correlation\": null, \"abs_max_prediction_features_correlation\": null, \"abs_max_correlation\": 1.0000000000000002, \"abs_max_features_correlation\": 1.0000000000000002}}}}}], \"timestamp\": \"2023-11-28 17:31:25.235690\"}\n"
          ]
        }
      ]
    },
    {
      "cell_type": "markdown",
      "source": [
        "GitHub"
      ],
      "metadata": {
        "id": "r2BTkuQWm_Yd"
      }
    },
    {
      "cell_type": "code",
      "source": [
        "# create a new ssh key\n",
        "! ssh-keygen -t rsa -b 4096\n",
        "# add github.com to our known hosts\n",
        "! ssh-keyscan -t rsa github.com >> ~/.ssh/known_hosts\n",
        "# restrict the key permissions, or else SSH will complain.\n",
        "! chmod go-rwx /root/.ssh/rsa"
      ],
      "metadata": {
        "id": "FeakGBBgC-_w"
      },
      "execution_count": null,
      "outputs": []
    },
    {
      "cell_type": "code",
      "source": [
        "# copy the output and add it to Github\n",
        "!cat /root/.ssh/id_rsa.pub"
      ],
      "metadata": {
        "id": "DTzFVYj4h56e"
      },
      "execution_count": null,
      "outputs": []
    },
    {
      "cell_type": "code",
      "source": [
        "# replace with your email and user name that you uses in your Github account\n",
        "!git config --global user.email \"\"\n",
        "!git config --global user.name \"\""
      ],
      "metadata": {
        "id": "RX5vmgHNh7kF"
      },
      "execution_count": null,
      "outputs": []
    },
    {
      "cell_type": "code",
      "source": [
        "# test your authentication\n",
        "!ssh -T git@github.com"
      ],
      "metadata": {
        "id": "w28QiUqHh9-t"
      },
      "execution_count": null,
      "outputs": []
    },
    {
      "cell_type": "code",
      "source": [
        "!git status"
      ],
      "metadata": {
        "id": "zAB2iCKRiKug"
      },
      "execution_count": null,
      "outputs": []
    },
    {
      "cell_type": "code",
      "source": [
        "!git push origin main"
      ],
      "metadata": {
        "id": "lianRxsJjOq5"
      },
      "execution_count": null,
      "outputs": []
    }
  ]
}