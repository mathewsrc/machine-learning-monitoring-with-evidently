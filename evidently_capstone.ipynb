{
  "nbformat": 4,
  "nbformat_minor": 0,
  "metadata": {
    "colab": {
      "provenance": [],
      "authorship_tag": "ABX9TyNTr4n5qmtnBvT89mxKthM8",
      "include_colab_link": true
    },
    "kernelspec": {
      "name": "python3",
      "display_name": "Python 3"
    },
    "language_info": {
      "name": "python"
    }
  },
  "cells": [
    {
      "cell_type": "markdown",
      "metadata": {
        "id": "view-in-github",
        "colab_type": "text"
      },
      "source": [
        "<a href=\"https://colab.research.google.com/github/mathewsrc/machine-learning-monitoring-with-evidently/blob/main/evidently_capstone.ipynb\" target=\"_parent\"><img src=\"https://colab.research.google.com/assets/colab-badge.svg\" alt=\"Open In Colab\"/></a>"
      ]
    },
    {
      "cell_type": "code",
      "execution_count": 1,
      "metadata": {
        "colab": {
          "base_uri": "https://localhost:8080/"
        },
        "id": "BhyTfngl3xq3",
        "outputId": "26ace11d-d088-40f2-8f27-2d82273a4988"
      },
      "outputs": [
        {
          "output_type": "stream",
          "name": "stdout",
          "text": [
            "Requirement already satisfied: kaleido in /usr/local/lib/python3.10/dist-packages (0.2.1)\n",
            "Requirement already satisfied: python-multipart in /usr/local/lib/python3.10/dist-packages (0.0.6)\n"
          ]
        }
      ],
      "source": [
        "!pip install -q pyspark==3.5.0\n",
        "!pip install -q duckdb==0.8\n",
        "!pip install -q prefect\n",
        "!pip install -q mlflow==2.8.1\n",
        "!pip install -q evidently==0.4.9\n",
        "!pip install -q soda-core-duckdb==3.0.45\n",
        "!pip install -q polars\n",
        "\n",
        "!pip install kaleido\n",
        "!pip install python-multipart"
      ]
    },
    {
      "cell_type": "code",
      "source": [
        "import certifi\n",
        "import json\n",
        "import pandas as pd\n",
        "import numpy as np\n",
        "import matplotlib.pyplot as plt\n",
        "import sqlite3\n",
        "import urllib3\n",
        "from urllib3 import request\n",
        "from unicodedata import normalize\n",
        "from datetime import timedelta\n",
        "import asyncio\n",
        "\n",
        "import duckdb\n",
        "\n",
        "from prefect import task, flow\n",
        "\n",
        "import pyspark\n",
        "from pyspark.sql import SparkSession\n",
        "from pyspark.sql.functions import (when, col, to_date, unix_timestamp,\n",
        "                                   to_timestamp, year, month, day, dayofweek,\n",
        "                                   regexp_like)\n",
        "from pyspark.sql.types import (StructType, StructField, StringType,\n",
        "                               IntegerType, FloatType, TimestampType, BooleanType)\n",
        "\n",
        "# Pyspark Machine Learning\n",
        "from pyspark.ml.feature import VectorAssembler, Imputer, StandardScaler\n",
        "from pyspark.ml import Pipeline\n",
        "from pyspark.ml.regression import LinearRegression, RandomForestRegressor, GBTRegressor\n",
        "from pyspark.ml.classification import LogisticRegression, RandomForestClassifier, GBTClassifier\n",
        "from pyspark.ml.evaluation import RegressionEvaluator, BinaryClassificationEvaluator\n",
        "from pyspark.ml.feature import StringIndexer, OneHotEncoder\n",
        "\n",
        "# MLflow\n",
        "import mlflow\n",
        "import mlflow.spark\n",
        "from mlflow import MlflowClient\n"
      ],
      "metadata": {
        "id": "ed7DACd238fV"
      },
      "execution_count": 121,
      "outputs": []
    },
    {
      "cell_type": "code",
      "source": [
        "import warnings\n",
        "warnings.filterwarnings('ignore')\n",
        "warnings.simplefilter('ignore')"
      ],
      "metadata": {
        "id": "9G-35CGVo0Qr"
      },
      "execution_count": 3,
      "outputs": []
    },
    {
      "cell_type": "code",
      "source": [
        "!git clone https://github.com/mathewsrc/machine-learning-monitoring-with-evidently.git"
      ],
      "metadata": {
        "colab": {
          "base_uri": "https://localhost:8080/"
        },
        "id": "56R_KDggKuZU",
        "outputId": "8bdab498-e0d4-4477-fc51-8fbe0c7784cc"
      },
      "execution_count": 17,
      "outputs": [
        {
          "output_type": "stream",
          "name": "stdout",
          "text": [
            "fatal: destination path 'machine-learning-monitoring-with-evidently' already exists and is not an empty directory.\n",
            "/content\n"
          ]
        }
      ]
    },
    {
      "cell_type": "code",
      "source": [
        "%cd /content/machine-learning-monitoring-with-evidently\n",
        "%ls"
      ],
      "metadata": {
        "colab": {
          "base_uri": "https://localhost:8080/"
        },
        "id": "bF5gZSdmLDh3",
        "outputId": "3788feb3-759c-4f77-92b5-4e6b661a26df"
      },
      "execution_count": 4,
      "outputs": [
        {
          "output_type": "stream",
          "name": "stdout",
          "text": [
            "/content/machine-learning-monitoring-with-evidently\n",
            "evidently_capstone.ipynb  LICENSE  README.md  \u001b[0m\u001b[01;34msoda\u001b[0m/  supplier.db\n"
          ]
        }
      ]
    },
    {
      "cell_type": "markdown",
      "source": [
        "## **Supplier Contracts: Extract, Transform, Load from API**"
      ],
      "metadata": {
        "id": "U3KRBXR8DEmd"
      }
    },
    {
      "cell_type": "code",
      "source": [
        "!mkdir soda\n",
        "!mkdir soda/checks\n",
        "!touch soda/checks/sources/raw_check.yml\n",
        "!touch soda/checks/staging/transfom_check.yml"
      ],
      "metadata": {
        "id": "rTKQ5y9Yk-pV",
        "colab": {
          "base_uri": "https://localhost:8080/"
        },
        "outputId": "00d33d52-bd78-4be0-cdd1-b1cb9e52f679"
      },
      "execution_count": 4,
      "outputs": [
        {
          "output_type": "stream",
          "name": "stdout",
          "text": [
            "touch: cannot touch 'soda/checks/sources/raw_check.yml': No such file or directory\n",
            "touch: cannot touch 'soda/checks/staging/transfom_check.yml': No such file or directory\n"
          ]
        }
      ]
    },
    {
      "cell_type": "code",
      "source": [
        "#%%writefile soda/check_function.py\n",
        "def check(scan_name, duckdb_conn, data_source, checks_subpath=None):\n",
        "    from soda.scan import Scan\n",
        "\n",
        "    print('Running Soda Scan ...')\n",
        "    checks_path = f'soda/checks'\n",
        "\n",
        "    if checks_subpath:\n",
        "        checks_path += f'/{checks_subpath}'\n",
        "\n",
        "    scan = Scan()\n",
        "    scan.set_verbose()\n",
        "    scan.add_duckdb_connection(duckdb_conn)\n",
        "    scan.set_data_source_name(data_source)\n",
        "    scan.add_sodacl_yaml_files(checks_path)\n",
        "    scan.set_scan_definition_name(scan_name)\n",
        "    result = scan.execute()\n",
        "    print(scan.get_logs_text())\n",
        "\n",
        "    if result != 0:\n",
        "        raise ValueError('Soda Scan failed')\n",
        "\n",
        "    return result"
      ],
      "metadata": {
        "id": "HWrLF1T5ntkK"
      },
      "execution_count": 5,
      "outputs": []
    },
    {
      "cell_type": "code",
      "source": [
        "spark = SparkSession.builder.appName(\"spark\").getOrCreate()\n",
        "# Enable Arrow-based columnar data transfers\n",
        "spark.conf.set(\"spark.sql.execution.arrow.pyspark.enabled\", \"true\")"
      ],
      "metadata": {
        "id": "oYsvhhJ45U29"
      },
      "execution_count": 6,
      "outputs": []
    },
    {
      "cell_type": "code",
      "source": [
        "@task(name=\"Extract Supplier Contract API data\",\n",
        "      description=\"Get API data from URL and read it as Spark DataFrame\" ,\n",
        "      tags=['supplier','vendor','contract'],\n",
        "      cache_expiration=timedelta(days=1),\n",
        "      retries=3,\n",
        "      retry_delay_seconds=5)\n",
        "def extract():\n",
        "  # get api data from url\n",
        "  #url = 'https://data.cityofnewyork.us/resource/h9gi-nx95.json?$limit=500'\n",
        "  url = 'https://data.sfgov.org/resource/cqi5-hm2d.json?$limit=800'\n",
        "\n",
        "  # Check if API is available to retrive the\n",
        "  http = urllib3.PoolManager(cert_reqs='CERT_REQUIRED',ca_certs=certifi.where())\n",
        "  apt_status = http.request('GET', url).status\n",
        "  print(apt_status)\n",
        "  if apt_status == 200:\n",
        "      # Sometimes we get certificate error . We shoul never silence this error as this may cause a securirty threat.\n",
        "      # Create a Pool manager that can be used to read the API response\n",
        "      data = json.loads(http.request('GET', url).data.decode('utf-8'))\n",
        "      df_api = pd.json_normalize(data)\n",
        "      with duckdb.connect(\"supplier.db\") as conn:\n",
        "        conn.sql(\"\"\"CREATE OR REPLACE TABLE supplier_raw_table AS\n",
        "                        SELECT * FROM df_api\"\"\")\n",
        "        conn.sql(\"SELECT COUNT(*) FROM supplier_raw_table\").show()\n",
        "  else:\n",
        "      raise Exception('Error to extract data from API!')\n"
      ],
      "metadata": {
        "id": "SNrxbTbG34VW"
      },
      "execution_count": 164,
      "outputs": []
    },
    {
      "cell_type": "code",
      "source": [
        "@task(name=\"Extract Supplier Contract API data\",\n",
        "      description=\"Get API data from URL and read it as Spark DataFrame\" ,\n",
        "      tags=['supplier','vendor','contract'],\n",
        "      cache_expiration=timedelta(days=1),\n",
        "      retries=3,\n",
        "      retry_delay_seconds=5)\n",
        "def check_raw():\n",
        "  with duckdb.connect(\"supplier.db\") as conn:\n",
        "    check(scan_name=\"raw_check\", duckdb_conn=conn, data_source=\"duckdb\", checks_subpath=\"sources\")"
      ],
      "metadata": {
        "id": "eOmhmgAtpFYi"
      },
      "execution_count": 8,
      "outputs": []
    },
    {
      "cell_type": "code",
      "source": [
        "@task(name=\"Extract Supplier Contract API data\",\n",
        "      description=\"Get API data from URL and read it as Spark DataFrame\" ,\n",
        "      tags=['supplier','vendor','contract'],\n",
        "      cache_expiration=timedelta(days=1),\n",
        "      retries=3,\n",
        "      retry_delay_seconds=5)\n",
        "def transform():\n",
        "\n",
        "  with duckdb.connect(\"supplier.db\") as conn:\n",
        "    df_pandas = conn.sql(\"SELECT * FROM supplier_raw_table\").df()\n",
        "\n",
        "    df_spark = spark.createDataFrame(df_pandas)\n",
        "\n",
        "    df_spark = (\n",
        "        df_spark\n",
        "          .withColumnRenamed(\"contract_no\", \"contract_number\")\n",
        "          .withColumnRenamed(\"consumed_amt\", \"purchase_orders_outstanding\")\n",
        "          .withColumnRenamed(\"agreed_amt\", \"contract_awarded_amount\")\n",
        "          .withColumnRenamed(\"pmt_amt\", \"payments_made\")\n",
        "          .withColumnRenamed(\"remaining_amt\", \"remaining_contract_award_amount\")\n",
        "          .withColumnRenamed(\"project_team_constituent\", \"supplier_type\")\n",
        "          .withColumnRenamed(\"project_team_supplier\", \"supplier_name\")\n",
        "          .withColumnRenamed(\"prime_contractor\", \"supplier_name_prime_contractor\")\n",
        "    )\n",
        "\n",
        "    df_spark = df_spark.dropDuplicates(subset=['contract_number'])\n",
        "\n",
        "\n",
        "    df_spark = df_spark.na.drop(subset=[\"contract_number\"])\n",
        "\n",
        "    df_spark = (\n",
        "      df_spark\n",
        "        .withColumn(\"purchase_orders_outstanding\", col(\"purchase_orders_outstanding\").cast(\"float\"))\n",
        "        .withColumn(\"contract_awarded_amount\", col(\"contract_awarded_amount\").cast(\"float\"))\n",
        "        .withColumn(\"payments_made\", col(\"payments_made\").cast(\"float\"))\n",
        "        .withColumn(\"remaining_contract_award_amount\", col(\"remaining_contract_award_amount\").cast(\"float\"))\n",
        "    )\n",
        "\n",
        "    df_spark = df_spark.withColumn(\"start_date\",\n",
        "                              to_date(\n",
        "                                  unix_timestamp(\n",
        "                                      \"term_start_date\",\n",
        "                                      \"yyyy-MM-dd'T'HH:mm:ss.SSS\").cast(\"timestamp\"), \"yyyy/mm/dd\"))\\\n",
        "      .withColumn(\"end_date\", to_date(\n",
        "                                  unix_timestamp(\n",
        "                                      \"term_end_date\",\n",
        "                                      \"yyyy-MM-dd'T'HH:mm:ss.SSS\").cast(\"timestamp\"), \"yyyy/mm/dd\"))\n",
        "\n",
        "\n",
        "\n",
        "    df_spark.createOrReplaceTempView(\"supplier_contracts\")\n",
        "\n",
        "    df_spark = spark.sql(\"\"\"\n",
        "          SELECT\n",
        "              *,\n",
        "              EXTRACT(DAY FROM start_date) AS start_day,\n",
        "              EXTRACT(MONTH FROM start_date) AS start_month,\n",
        "              EXTRACT(YEAR FROM start_date) AS start_year,\n",
        "              EXTRACT(DAY FROM end_date) AS end_day,\n",
        "              EXTRACT(MONTH FROM end_date) AS end_month,\n",
        "              EXTRACT(YEAR FROM end_date) AS end_year\n",
        "          FROM supplier_contracts\n",
        "          WHERE (start_date IS NOT NULL) AND (end_date IS NOT NULL)\n",
        "          \"\"\")\n",
        "\n",
        "    df_spark.createOrReplaceTempView(\"supplier_contracts\")\n",
        "\n",
        "    df_spark = spark.sql(\"\"\"\n",
        "              SELECT *,\n",
        "                  CASE WHEN sole_source_flg IS NULL THEN 1\n",
        "                  ELSE 0 END AS is_sole_source\n",
        "              FROM supplier_contracts\n",
        "                \"\"\")\n",
        "\n",
        "    df_spark = df_spark.drop(\"sole_source_flg\")\n",
        "\n",
        "    df_spark.createOrReplaceTempView(\"supplier_contracts\")\n",
        "\n",
        "    df_spark = spark.sql(\"\"\"\n",
        "                         SELECT *,\n",
        "                            CASE WHEN non_profit IS NULL THEN 1\n",
        "                            ELSE 0 END AS is_non_profit\n",
        "                         FROM supplier_contracts\n",
        "                         \"\"\")\n",
        "\n",
        "    df_spark = df_spark.withColumn(\"has_outstanding_orders\",\n",
        "                                   when(\n",
        "                                      col('purchase_orders_outstanding') > 0,\n",
        "                                      1).otherwise(0))\n",
        "\n",
        "\n",
        "\n",
        "    df_spark = df_spark.filter(\"payments_made >= 0\")\n",
        "    df_spark = df_spark.filter(\"payments_made <= contract_awarded_amount\")\n",
        "    df_spark = df_spark.filter(\"remaining_contract_award_amount >= 0\")\n",
        "    df_spark = df_spark.filter(\"contract_awarded_amount >= 0\")\n",
        "    df_spark = df_spark.filter(\"remaining_contract_award_amount <= contract_awarded_amount\")\n",
        "    #df_spark = df_spark.filter(\"payments_made + remaining_contract_award_amount <= contract_awarded_amount\")\n",
        "    #df_spark - df_spark.filter(\"purchase_orders_outstanding >= 0\")\n",
        "\n",
        "\n",
        "\n",
        "    df_pandas = df_spark.toPandas()\n",
        "\n",
        "    conn.sql(\"\"\"CREATE OR REPLACE TABLE supplier_transformed_table AS\n",
        "                    SELECT * FROM df_pandas\"\"\")\n",
        "    return df_spark"
      ],
      "metadata": {
        "id": "sYmqjAZXAdxL"
      },
      "execution_count": 165,
      "outputs": []
    },
    {
      "cell_type": "code",
      "source": [
        "@task(name=\"Extract Supplier Contract API data\",\n",
        "      description=\"Get API data from URL and read it as Spark DataFrame\" ,\n",
        "      tags=['supplier','vendor','contract'],\n",
        "      cache_expiration=timedelta(days=1),\n",
        "      retries=3,\n",
        "      retry_delay_seconds=5)\n",
        "def check_staging():\n",
        "  with duckdb.connect(\"supplier.db\") as conn:\n",
        "    check(scan_name=\"transformation_check\", duckdb_conn=conn, data_source=\"duckdb\", checks_subpath=\"staging\")"
      ],
      "metadata": {
        "id": "_fo3UYaRBeUX"
      },
      "execution_count": 10,
      "outputs": []
    },
    {
      "cell_type": "code",
      "source": [
        "@task(name=\"Extract Supplier Contract API data\",\n",
        "      description=\"Get API data from URL and read it as Spark DataFrame\" ,\n",
        "      tags=['supplier','vendor','contract'],\n",
        "      cache_expiration=timedelta(days=1),\n",
        "      retries=3,\n",
        "      retry_delay_seconds=5)\n",
        "def load(df_spark):\n",
        "  with duckdb.connect(\"supplier.db\") as conn:\n",
        "    df_pandas = df_spark.toPandas()\n",
        "    conn.sql(\"CREATE OR REPLACE TABLE supplier_transformed_table AS SELECT * FROM df_pandas\")"
      ],
      "metadata": {
        "id": "OWnlFGGxIeG9"
      },
      "execution_count": 11,
      "outputs": []
    },
    {
      "cell_type": "code",
      "source": [
        "@flow(name=\"ETL Supplier Contract API\", log_prints=True)\n",
        "def etl():\n",
        "  extract()\n",
        "  check_raw()\n",
        "  df_spark = transform()\n",
        "  check_staging()\n",
        "  load(df_spark)"
      ],
      "metadata": {
        "id": "0T3jzv4D83mt"
      },
      "execution_count": 12,
      "outputs": []
    },
    {
      "cell_type": "code",
      "source": [
        "etl()"
      ],
      "metadata": {
        "id": "QxnMS9DHDWWL"
      },
      "execution_count": null,
      "outputs": []
    },
    {
      "cell_type": "code",
      "source": [
        "with duckdb.connect(\"supplier.db\") as conn:\n",
        " print(conn.sql(\"\"\"SELECT\n",
        "                    COUNT(*),\n",
        "                    EXTRACT(YEAR FROM start_date) as year\n",
        "                   FROM supplier_transformed_table GROUP BY year\"\"\").df().head(20))\n",
        " print(conn.sql(\"DESCRIBE supplier_transformed_table\"))\n",
        " print(conn.sql(\"SELECT * FROM supplier_transformed_table\").pl().columns)"
      ],
      "metadata": {
        "colab": {
          "base_uri": "https://localhost:8080/"
        },
        "id": "DGHVsNI90Dhi",
        "outputId": "8de2855f-9a28-4fb2-f12b-50d312e21be2"
      },
      "execution_count": 14,
      "outputs": [
        {
          "output_type": "stream",
          "name": "stdout",
          "text": [
            "    count_star()  year\n",
            "0              1  2003\n",
            "1              1  2006\n",
            "2              4  2007\n",
            "3              5  2008\n",
            "4              9  2009\n",
            "5             12  2010\n",
            "6             15  2011\n",
            "7             25  2012\n",
            "8              1  2013\n",
            "9              1  2015\n",
            "10             3  2016\n",
            "11             4  2017\n",
            "12             2  2018\n",
            "┌────────────────────────────────┬─────────────┬─────────┬─────────┬─────────┬───────┐\n",
            "│          column_name           │ column_type │  null   │   key   │ default │ extra │\n",
            "│            varchar             │   varchar   │ varchar │ varchar │ varchar │ int32 │\n",
            "├────────────────────────────────┼─────────────┼─────────┼─────────┼─────────┼───────┤\n",
            "│ contract_title                 │ VARCHAR     │ YES     │ NULL    │ NULL    │  NULL │\n",
            "│ term_start_date                │ VARCHAR     │ YES     │ NULL    │ NULL    │  NULL │\n",
            "│ term_end_date                  │ VARCHAR     │ YES     │ NULL    │ NULL    │  NULL │\n",
            "│ contract_type                  │ VARCHAR     │ YES     │ NULL    │ NULL    │  NULL │\n",
            "│ purchasing_authority           │ VARCHAR     │ YES     │ NULL    │ NULL    │  NULL │\n",
            "│ department_code                │ VARCHAR     │ YES     │ NULL    │ NULL    │  NULL │\n",
            "│ department                     │ VARCHAR     │ YES     │ NULL    │ NULL    │  NULL │\n",
            "│ supplier_name_prime_contractor │ VARCHAR     │ YES     │ NULL    │ NULL    │  NULL │\n",
            "│ supplier_name                  │ VARCHAR     │ YES     │ NULL    │ NULL    │  NULL │\n",
            "│ project_team_lbe_status        │ VARCHAR     │ YES     │ NULL    │ NULL    │  NULL │\n",
            "│    ·                           │  ·          │  ·      │  ·      │  ·      │    ·  │\n",
            "│    ·                           │  ·          │  ·      │  ·      │  ·      │    ·  │\n",
            "│    ·                           │  ·          │  ·      │  ·      │  ·      │    ·  │\n",
            "│ end_date                       │ DATE        │ YES     │ NULL    │ NULL    │  NULL │\n",
            "│ start_day                      │ INTEGER     │ YES     │ NULL    │ NULL    │  NULL │\n",
            "│ start_month                    │ INTEGER     │ YES     │ NULL    │ NULL    │  NULL │\n",
            "│ start_year                     │ INTEGER     │ YES     │ NULL    │ NULL    │  NULL │\n",
            "│ end_day                        │ INTEGER     │ YES     │ NULL    │ NULL    │  NULL │\n",
            "│ end_month                      │ INTEGER     │ YES     │ NULL    │ NULL    │  NULL │\n",
            "│ end_year                       │ INTEGER     │ YES     │ NULL    │ NULL    │  NULL │\n",
            "│ is_sole_source                 │ INTEGER     │ YES     │ NULL    │ NULL    │  NULL │\n",
            "│ is_non_profit                  │ INTEGER     │ YES     │ NULL    │ NULL    │  NULL │\n",
            "│ has_outstanding_orders         │ INTEGER     │ YES     │ NULL    │ NULL    │  NULL │\n",
            "├────────────────────────────────┴─────────────┴─────────┴─────────┴─────────┴───────┤\n",
            "│ 29 rows (20 shown)                                                       6 columns │\n",
            "└────────────────────────────────────────────────────────────────────────────────────┘\n",
            "\n",
            "['contract_title', 'term_start_date', 'term_end_date', 'contract_type', 'purchasing_authority', 'department_code', 'department', 'supplier_name_prime_contractor', 'supplier_name', 'project_team_lbe_status', 'supplier_type', 'scope_of_work', 'contract_awarded_amount', 'purchase_orders_outstanding', 'payments_made', 'remaining_contract_award_amount', 'contract_number', 'non_profit', 'start_date', 'end_date', 'start_day', 'start_month', 'start_year', 'end_day', 'end_month', 'end_year', 'is_sole_source', 'is_non_profit', 'has_outstanding_orders']\n"
          ]
        }
      ]
    },
    {
      "cell_type": "markdown",
      "source": [
        "## **ML monitoring with Evidentlyai**"
      ],
      "metadata": {
        "id": "5dbku51IC5T1"
      }
    },
    {
      "cell_type": "code",
      "source": [
        "from evidently.spark.engine import SparkEngine\n",
        "\n",
        "from evidently import ColumnMapping\n",
        "\n",
        "from evidently.report import Report\n",
        "from evidently.metrics import ColumnDriftMetric, DataDriftTable, DatasetDriftMetric\n",
        "from evidently.metric_preset import DataDriftPreset\n",
        "\n",
        "from evidently.test_suite import TestSuite\n",
        "from evidently.tests import TestColumnDrift, TestShareOfDriftedColumns, TestNumberOfDriftedColumns\n",
        "from evidently.test_preset import DataDriftTestPreset"
      ],
      "metadata": {
        "id": "7SCQLb2hm-I0"
      },
      "execution_count": 15,
      "outputs": []
    },
    {
      "cell_type": "code",
      "source": [
        "with duckdb.connect(\"supplier.db\") as conn:\n",
        "  df_pandas = conn.sql(\"SELECT * FROM supplier_transformed_table\").df()\n",
        "\n",
        "  df_spark = spark.createDataFrame(df_pandas)\n",
        "# Simulate current and reference data using randomSplit\n",
        "current_data, reference_data = df_spark.randomSplit(weights=[0.5,0.5], seed=200)"
      ],
      "metadata": {
        "id": "kLZS1MuIgN32"
      },
      "execution_count": 16,
      "outputs": []
    },
    {
      "cell_type": "code",
      "source": [
        "column_mapping = ColumnMapping()\n",
        "\n",
        "#column_mapping.prediction = \"prediction\"\n",
        "#column_mapping.target = \"target\"\n",
        "#column_mapping.target_names = ['churn', 'not_churn']\n",
        "column_mapping.id = \"contract_number\"\n",
        "\n",
        "column_mapping.datetime_features = ['start_date',\n",
        "                                    'end_date',\n",
        "                                    'term_start_date',\n",
        "                                    'term_end_date',]\n",
        "\n",
        "column_mapping.text_features = ['contract_title',\n",
        "                                'supplier_name',\n",
        "                                'supplier_name_prime_contractor',\n",
        "                                'department',\n",
        "                                'purchasing_authority',]\n",
        "\n",
        "column_mapping.categorical_features= ['contract_type',\n",
        "                                      'department_code',\n",
        "                                      'project_team_lbe_status',\n",
        "                                      'scope_of_work',\n",
        "                                      'non_profit',\n",
        "                                      'is_sole_source',\n",
        "                                      'has_outstanding_orders',]\n",
        "\n",
        "column_mapping.numerical_features = ['contract_awarded_amount',\n",
        "                                     'purchase_orders_outstanding',\n",
        "                                     'payments_made',\n",
        "                                     'remaining_contract_award_amount',\n",
        "                                     'start_day', 'start_month',\n",
        "                                     'start_year', 'end_day',\n",
        "                                     'end_month', 'end_year',]"
      ],
      "metadata": {
        "id": "tUZxrYN431CO"
      },
      "execution_count": 17,
      "outputs": []
    },
    {
      "cell_type": "code",
      "source": [
        "def eval_drift(reference, production, column_mapping):\n",
        "\n",
        "    data_drift_report = Report(metrics=[DataDriftPreset()])\n",
        "    data_drift_report.run(reference_data=reference, current_data=production, column_mapping=column_mapping)\n",
        "    report = data_drift_report.as_dict()\n",
        "\n",
        "    drifts = []\n",
        "\n",
        "    for feature in column_mapping.numerical_features + column_mapping.categorical_features:\n",
        "        drifts.append((feature, report[\"metrics\"][1][\"result\"][\"drift_by_columns\"][feature][\"drift_score\"]))\n",
        "\n",
        "    return drifts"
      ],
      "metadata": {
        "id": "oW1MYa_y_Z9Q"
      },
      "execution_count": 18,
      "outputs": []
    },
    {
      "cell_type": "code",
      "source": [
        "with duckdb.connect(\"supplier.db\") as conn:\n",
        "  start_date = conn.sql(\"\"\"SELECT MIN(start_date)\n",
        "              FROM supplier_transformed_table\n",
        "              \"\"\").fetchone()\n",
        "  start_date_0 = start_date[0].strftime(\"%Y-%m-%d %H:%M:%S\")\n",
        "\n",
        "  end_date = conn.sql(\"\"\"SELECT DATE_ADD(MIN(start_date), INTERVAL 5 YEAR) AS end_date\n",
        "              FROM supplier_transformed_table\n",
        "              \"\"\").fetchone()\n",
        "  end_date_0 = end_date[0].strftime(\"%Y-%m-%d %H:%M:%S\")\n",
        "\n",
        "print(start_date_0)\n",
        "print(end_date_0)\n"
      ],
      "metadata": {
        "colab": {
          "base_uri": "https://localhost:8080/"
        },
        "id": "deLs10yRH4NI",
        "outputId": "42f9fca1-4dd6-47df-9b16-684cc1079706"
      },
      "execution_count": 19,
      "outputs": [
        {
          "output_type": "stream",
          "name": "stdout",
          "text": [
            "2003-09-11 00:00:00\n",
            "2008-09-11 00:00:00\n"
          ]
        }
      ]
    },
    {
      "cell_type": "code",
      "source": [
        "with duckdb.connect(\"supplier.db\") as conn:\n",
        " experiment_batches_sql = conn.sql(\n",
        "    \"\"\"\n",
        "    WITH numbered_rows AS (\n",
        "        SELECT\n",
        "            start_date,\n",
        "            ROW_NUMBER() OVER (ORDER BY start_date) AS row_num\n",
        "        FROM\n",
        "            supplier_transformed_table\n",
        "        WHERE EXTRACT(YEAR FROM start_date) > 2008\n",
        "    )\n",
        "\n",
        "    SELECT\n",
        "      MIN(start_date) AS start_date,\n",
        "      MAX(start_date) + 30 AS end_date\n",
        "    FROM\n",
        "      numbered_rows\n",
        "    WHERE\n",
        "      row_num BETWEEN 1 AND 6\n",
        "    GROUP BY\n",
        "      CASE\n",
        "        WHEN row_num BETWEEN 1 AND 1 THEN 1\n",
        "        WHEN row_num BETWEEN 2 AND 2 THEN 2\n",
        "        WHEN row_num BETWEEN 3 AND 3 THEN 3\n",
        "        WHEN row_num BETWEEN 4 AND 4 THEN 4\n",
        "        WHEN row_num BETWEEN 5 AND 5 THEN 5\n",
        "        WHEN row_num BETWEEN 6 AND 6 THEN 6\n",
        "    END\n",
        "    ORDER BY\n",
        "      start_date;\n",
        "   \"\"\"\n",
        "  )\n",
        " print(experiment_batches_sql.show())\n",
        " experiment_batches=[(start.strftime(\"%Y-%m-%d\"), end.strftime(\"%Y-%m-%d\")) for start, end in experiment_batches_sql.fetchall() ]\n"
      ],
      "metadata": {
        "colab": {
          "base_uri": "https://localhost:8080/"
        },
        "id": "TzTmrPgoMxzv",
        "outputId": "a7989d11-d4d5-4593-b542-87b92ef18258"
      },
      "execution_count": 94,
      "outputs": [
        {
          "output_type": "stream",
          "name": "stdout",
          "text": [
            "┌────────────┬────────────┐\n",
            "│ start_date │  end_date  │\n",
            "│    date    │    date    │\n",
            "├────────────┼────────────┤\n",
            "│ 2009-02-17 │ 2009-03-19 │\n",
            "│ 2009-03-20 │ 2009-04-19 │\n",
            "│ 2009-03-25 │ 2009-04-24 │\n",
            "│ 2009-04-10 │ 2009-05-10 │\n",
            "│ 2009-05-04 │ 2009-06-03 │\n",
            "│ 2009-05-29 │ 2009-06-28 │\n",
            "└────────────┴────────────┘\n",
            "\n",
            "None\n"
          ]
        }
      ]
    },
    {
      "cell_type": "code",
      "source": [
        "with duckdb.connect(\"supplier.db\") as conn:\n",
        "  df_pandas = conn.sql(\"SELECT * FROM supplier_transformed_table\").df()\n",
        "  df_spark = spark.createDataFrame(df_pandas)\n",
        "\n",
        "  reference_data = df_spark.filter((col(\"start_date\") >= start_date_0) & (col(\"start_date\") <= end_date_0))\n",
        "print(reference_data.agg({\"start_date\": \"max\"}).show())\n",
        "print(reference_data.agg({\"start_date\": \"min\"}).show())"
      ],
      "metadata": {
        "colab": {
          "base_uri": "https://localhost:8080/"
        },
        "id": "VEm2eSsfRRDW",
        "outputId": "746f8395-87da-4f90-a4ba-aee047c04e82"
      },
      "execution_count": 21,
      "outputs": [
        {
          "output_type": "stream",
          "name": "stdout",
          "text": [
            "+-------------------+\n",
            "|    max(start_date)|\n",
            "+-------------------+\n",
            "|2008-01-11 00:00:00|\n",
            "+-------------------+\n",
            "\n",
            "None\n",
            "+-------------------+\n",
            "|    min(start_date)|\n",
            "+-------------------+\n",
            "|2003-09-11 00:00:00|\n",
            "+-------------------+\n",
            "\n",
            "None\n"
          ]
        }
      ]
    },
    {
      "cell_type": "code",
      "source": [
        "reference_data.show()"
      ],
      "metadata": {
        "colab": {
          "base_uri": "https://localhost:8080/"
        },
        "id": "Ei7PLu4E2Asl",
        "outputId": "25b7c2f0-1fc9-4e8d-df0b-e337e2cfb7e6"
      },
      "execution_count": 22,
      "outputs": [
        {
          "output_type": "stream",
          "name": "stdout",
          "text": [
            "+--------------------+--------------------+--------------------+--------------------+--------------------+---------------+--------------------+------------------------------+--------------------+-----------------------+----------------+--------------------+-----------------------+---------------------------+-------------+-------------------------------+---------------+----------+-------------------+-------------------+---------+-----------+----------+-------+---------+--------+--------------+-------------+----------------------+\n",
            "|      contract_title|     term_start_date|       term_end_date|       contract_type|purchasing_authority|department_code|          department|supplier_name_prime_contractor|       supplier_name|project_team_lbe_status|   supplier_type|       scope_of_work|contract_awarded_amount|purchase_orders_outstanding|payments_made|remaining_contract_award_amount|contract_number|non_profit|         start_date|           end_date|start_day|start_month|start_year|end_day|end_month|end_year|is_sole_source|is_non_profit|has_outstanding_orders|\n",
            "+--------------------+--------------------+--------------------+--------------------+--------------------+---------------+--------------------+------------------------------+--------------------+-----------------------+----------------+--------------------+-----------------------+---------------------------+-------------+-------------------------------+---------------+----------+-------------------+-------------------+---------+-----------+----------+-------+---------+--------+--------------+-------------+----------------------+\n",
            "|PUC DESIGN FOR CA...|2003-09-11T00:00:...|2020-06-30T00:00:...|Professional Serv...|TERM CONTRACT PRO...|            PUC|PUC Public Utilit...|             U R S CORPORATION|   U R S CORPORATION|                Non-LBE|Prime Contractor|PUC DESIGN FOR CA...|            3.0808028E7|                   217000.0|    2639710.5|                    2.7951318E7|     1000000009|      NULL|2003-09-11 00:00:00|2020-06-30 00:00:00|       11|          9|      2003|     30|        6|    2020|             1|            1|                     1|\n",
            "|DESIGN FOR NEW IR...|2006-06-27T00:00:...|2018-03-31T00:00:...|Professional Serv...|TERM CONTRACT PRO...|            PUC|PUC Public Utilit...|             U R S CORPORATION|           A G S INC|                    LBE|   Subcontractor|         Unspecified|              317471.22|                        0.0|          0.0|                      317471.22|     1000000010|      NULL|2006-06-27 00:00:00|2018-03-31 00:00:00|       27|          6|      2006|     31|        3|    2018|             1|            1|                     0|\n",
            "|ASSOCIATION OF BA...|2007-03-23T00:00:...|2022-06-30T00:00:...|Professional Serv...|FOR PROFESSIONAL ...|            PUC|PUC Public Utilit...|          ASSOCIATION OF BA...|ASSOCIATION OF BA...|                Non-LBE|Prime Contractor|ASSOCIATION OF BA...|               935098.0|                        0.0|          0.0|                       935098.0|     1000000011|      NULL|2007-03-23 00:00:00|2022-06-30 00:00:00|       23|          3|      2007|     30|        6|    2022|             0|            1|                     0|\n",
            "|ENGINEERING SERVI...|2007-10-03T00:00:...|2022-06-30T00:00:...|Professional Serv...|TERM CONTRACT PRO...|            PUC|PUC Public Utilit...|          URS/SOHA JOINT VE...|       LIN+MEINHARDT|                Non-LBE|   Subcontractor|         Unspecified|               57096.67|                   2117.984|          0.0|                      54978.688|     1000000012|      NULL|2007-10-03 00:00:00|2022-06-30 00:00:00|        3|         10|      2007|     30|        6|    2022|             1|            1|                     1|\n",
            "|    ENGINEERING POOL|2007-12-06T00:00:...|2022-06-30T00:00:...|Professional Serv...|TERM CONTRACT PRO...|            PUC|PUC Public Utilit...|             U R S CORPORATION|   U R S CORPORATION|                Non-LBE|Prime Contractor|    ENGINEERING POOL|                  1.5E7|                        0.0|     41274.96|                    1.4958725E7|     1000000013|      NULL|2007-12-06 00:00:00|2022-06-30 00:00:00|        6|         12|      2007|     30|        6|    2022|             1|            1|                     0|\n",
            "|PUC ENGINEERING POOL|2007-12-20T00:00:...|2027-02-05T00:00:...|Professional Serv...|TERM CONTRACT PRO...|            PUC|PUC Public Utilit...|          KENNEDY/JENKS CON...|              CADNET|                    LBE|   Subcontractor|         Unspecified|               193600.0|                   7887.902|          0.0|                       185712.1|     1000000014|      NULL|2007-12-20 00:00:00|2027-02-05 00:00:00|       20|         12|      2007|      5|        2|    2027|             1|            1|                     1|\n",
            "|SECURITY SYSTEM D...|2008-01-11T00:00:...|2022-06-30T00:00:...|Professional Serv...|TERM CONTRACT PRO...|            PUC|PUC Public Utilit...|          CATALYST CONSULTI...|CATALYST CONSULTI...|                Non-LBE|Prime Contractor|SECURITY SYSTEM D...|              4000000.0|                        0.0|          0.0|                      4000000.0|     1000000015|      NULL|2008-01-11 00:00:00|2022-06-30 00:00:00|       11|          1|      2008|     30|        6|    2022|             1|            1|                     0|\n",
            "+--------------------+--------------------+--------------------+--------------------+--------------------+---------------+--------------------+------------------------------+--------------------+-----------------------+----------------+--------------------+-----------------------+---------------------------+-------------+-------------------------------+---------------+----------+-------------------+-------------------+---------+-----------+----------+-------+---------+--------+--------------+-------------+----------------------+\n",
            "\n"
          ]
        }
      ]
    },
    {
      "cell_type": "code",
      "source": [
        "with duckdb.connect(\"supplier.db\") as conn:\n",
        "  conn.sql(\n",
        "      \"\"\"\n",
        "      CREATE OR REPLACE TABLE reference_table AS\n",
        "      SELECT *\n",
        "      FROM supplier_transformed_table\n",
        "      WHERE start_year BETWEEN 2003 AND 2008\n",
        "      \"\"\")\n",
        "\n",
        "  conn.sql(\n",
        "      \"\"\"\n",
        "      CREATE OR REPLACE TABLE current_table AS\n",
        "      SELECT *\n",
        "      FROM supplier_transformed_table\n",
        "      WHERE start_year > 2008;\n",
        "      \"\"\")"
      ],
      "metadata": {
        "id": "BUwH1evGCbBk"
      },
      "execution_count": 73,
      "outputs": []
    },
    {
      "cell_type": "code",
      "source": [
        "with duckdb.connect(\"supplier.db\") as conn:\n",
        "  reference_data = conn.sql(\"SELECT * FROM reference_table\")\n",
        "  reference_data.show()\n",
        "  reference_data = spark.createDataFrame(reference_data.df())"
      ],
      "metadata": {
        "colab": {
          "base_uri": "https://localhost:8080/"
        },
        "id": "jG1az0-LHp7y",
        "outputId": "17c95ef3-2149-4b23-a629-22eb5473b051"
      },
      "execution_count": 79,
      "outputs": [
        {
          "output_type": "stream",
          "name": "stdout",
          "text": [
            "┌──────────────────────┬──────────────────────┬───┬────────────────┬───────────────┬──────────────────────┐\n",
            "│    contract_title    │   term_start_date    │ … │ is_sole_source │ is_non_profit │ has_outstanding_or…  │\n",
            "│       varchar        │       varchar        │   │     int32      │     int32     │        int32         │\n",
            "├──────────────────────┼──────────────────────┼───┼────────────────┼───────────────┼──────────────────────┤\n",
            "│ PUC DESIGN FOR CAL…  │ 2003-09-11T00:00:0…  │ … │              1 │             1 │                    1 │\n",
            "│ DESIGN FOR NEW IRV…  │ 2006-06-27T00:00:0…  │ … │              1 │             1 │                    0 │\n",
            "│ ASSOCIATION OF BAY…  │ 2007-03-23T00:00:0…  │ … │              0 │             1 │                    0 │\n",
            "│ ENGINEERING SERVIC…  │ 2007-10-03T00:00:0…  │ … │              1 │             1 │                    1 │\n",
            "│ ENGINEERING POOL     │ 2007-12-06T00:00:0…  │ … │              1 │             1 │                    0 │\n",
            "│ PUC ENGINEERING POOL │ 2007-12-20T00:00:0…  │ … │              1 │             1 │                    1 │\n",
            "│ SECURITY SYSTEM DE…  │ 2008-01-11T00:00:0…  │ … │              1 │             1 │                    0 │\n",
            "│ BAY TUNNEL CONSTRU…  │ 2008-09-15T00:00:0…  │ … │              1 │             1 │                    0 │\n",
            "│ SPECIALIZED PROGRA…  │ 2008-11-01T00:00:0…  │ … │              1 │             1 │                    0 │\n",
            "│ SPECIALIZED PROGRA…  │ 2008-11-01T00:00:0…  │ … │              1 │             1 │                    0 │\n",
            "│ BAY DIVISION REGIO…  │ 2008-12-01T00:00:0…  │ … │              1 │             1 │                    0 │\n",
            "├──────────────────────┴──────────────────────┴───┴────────────────┴───────────────┴──────────────────────┤\n",
            "│ 11 rows                                                                            29 columns (5 shown) │\n",
            "└─────────────────────────────────────────────────────────────────────────────────────────────────────────┘\n",
            "\n"
          ]
        }
      ]
    },
    {
      "cell_type": "code",
      "source": [
        "with duckdb.connect(\"supplier.db\") as conn:\n",
        "  current_data = conn.sql(\"SELECT * FROM current_table\")\n",
        "  current_data.show()\n",
        "  current_data = spark.createDataFrame(current_data.df())"
      ],
      "metadata": {
        "colab": {
          "base_uri": "https://localhost:8080/"
        },
        "id": "ODzsTDRGIGc2",
        "outputId": "38012437-959a-4b8c-90cb-98ed87d7cae6"
      },
      "execution_count": 104,
      "outputs": [
        {
          "output_type": "stream",
          "name": "stdout",
          "text": [
            "┌──────────────────────┬──────────────────────┬───┬────────────────┬───────────────┬──────────────────────┐\n",
            "│    contract_title    │   term_start_date    │ … │ is_sole_source │ is_non_profit │ has_outstanding_or…  │\n",
            "│       varchar        │       varchar        │   │     int32      │     int32     │        int32         │\n",
            "├──────────────────────┼──────────────────────┼───┼────────────────┼───────────────┼──────────────────────┤\n",
            "│ CHF-GA-Mission YMC…  │ 2018-07-01T00:00:0…  │ … │              1 │             0 │                    1 │\n",
            "│ FEES FOR ENERGY TR…  │ 2016-08-01T00:00:0…  │ … │              0 │             1 │                    0 │\n",
            "│ ADMINISTRATIVE CHA…  │ 2016-08-03T00:00:0…  │ … │              1 │             1 │                    0 │\n",
            "│ ELECTRIC ENERGY AN…  │ 2016-08-17T00:00:0…  │ … │              1 │             1 │                    0 │\n",
            "│ CLP - RESOURCE ADE…  │ 2017-02-24T00:00:0…  │ … │              1 │             1 │                    0 │\n",
            "│ CLP - RESOURCE ADE…  │ 2017-02-24T00:00:0…  │ … │              1 │             1 │                    0 │\n",
            "│ CLP - RESOURCE ADE…  │ 2017-02-24T00:00:0…  │ … │              1 │             1 │                    0 │\n",
            "│ CLP - RESOURCE ADE…  │ 2017-02-24T00:00:0…  │ … │              1 │             1 │                    0 │\n",
            "│ AUTOMATIC BILL PYM…  │ 2009-02-17T00:00:0…  │ … │              1 │             1 │                    0 │\n",
            "│ PROGRAM CONSTRUCTI…  │ 2009-03-20T00:00:0…  │ … │              1 │             1 │                    0 │\n",
            "│          ·           │          ·           │ · │              · │             · │                    · │\n",
            "│          ·           │          ·           │ · │              · │             · │                    · │\n",
            "│          ·           │          ·           │ · │              · │             · │                    · │\n",
            "│ INNOVYZE SOFTWARE …  │ 2012-10-12T00:00:0…  │ … │              1 │             1 │                    0 │\n",
            "│ PUC MKTG OUTREACH …  │ 2012-10-10T00:00:0…  │ … │              1 │             1 │                    0 │\n",
            "│ JOC-41 GENERAL ENG…  │ 2012-11-21T00:00:0…  │ … │              1 │             1 │                    0 │\n",
            "│ OCEAN BEACH MASTER…  │ 2012-08-13T00:00:0…  │ … │              0 │             0 │                    0 │\n",
            "│ PUC SPECIALIZED AN…  │ 2012-10-15T00:00:0…  │ … │              1 │             1 │                    0 │\n",
            "│ JOC-42 A LICENSE M…  │ 2012-12-10T00:00:0…  │ … │              1 │             1 │                    0 │\n",
            "│ SPECIALIZED AND TE…  │ 2012-10-15T00:00:0…  │ … │              1 │             1 │                    0 │\n",
            "│ PUC SPEC AND TECHN…  │ 2012-10-15T00:00:0…  │ … │              1 │             1 │                    0 │\n",
            "│ Nash & Associates,…  │ 2018-12-01T00:00:0…  │ … │              1 │             1 │                    0 │\n",
            "│ AIR-BPAC16000234-K…  │ 2015-07-01T00:00:0…  │ … │              1 │             1 │                    0 │\n",
            "├──────────────────────┴──────────────────────┴───┴────────────────┴───────────────┴──────────────────────┤\n",
            "│ 72 rows (20 shown)                                                                 29 columns (5 shown) │\n",
            "└─────────────────────────────────────────────────────────────────────────────────────────────────────────┘\n",
            "\n"
          ]
        }
      ]
    },
    {
      "cell_type": "code",
      "source": [
        "def train_and_evaluate(model, model_name):\n",
        "\n",
        "  for k, test_dates in enumerate(experiment_batches):\n",
        "\n",
        "    print(f\"Batch: {k}\")\n",
        "    print(f\"Test dates: {test_dates}\")\n",
        "\n",
        "    label_col = 'has_outstanding_orders'\n",
        "    numeric_cols = ['contract_awarded_amount',\n",
        "                    'purchase_orders_outstanding',\n",
        "                    'payments_made',\n",
        "                    'remaining_contract_award_amount',]\n",
        "\n",
        "    categorical_cols = ['contract_type',\n",
        "                        'department_code',\n",
        "                        'project_team_lbe_status',\n",
        "                        'scope_of_work',\n",
        "                        'is_non_profit',\n",
        "                        'is_sole_source',\n",
        "                        'has_outstanding_orders',]\n",
        "\n",
        "    indexers = [StringIndexer(inputCol=col, outputCol=f\"{col}_indexed\") for col in categorical_cols]\n",
        "    encoders = [OneHotEncoder(inputCol=f\"{col}_indexed\", outputCol=f\"{col}_encoded\") for col in categorical_cols]\n",
        "\n",
        "    # Assemble Features\n",
        "    assembler = VectorAssembler(inputCols=numeric_cols, outputCol=\"features\") #numeric_cols + [f\"{col}_encoded\" for col in categorical_cols]\n",
        "\n",
        "    # Impute Missing Values for Numeric and Categorical Columns\n",
        "    imputer_numeric = Imputer(strategy=\"mean\", inputCols=numeric_cols,\n",
        "                              outputCols=[f\"{col}_imputed\" for col in numeric_cols])\n",
        "    imputer_categorical = Imputer(strategy=\"most_frequent\", inputCols=[f\"{col}_encoded\" for col in categorical_cols], outputCols=[f\"{col}_imputed\" for col in categorical_cols])\n",
        "\n",
        "    # Scaling Features\n",
        "    scaler = StandardScaler(inputCol=\"features\", outputCol=\"scaled_features\")\n",
        "\n",
        "    # Random Forest Classifier\n",
        "    rf = RandomForestClassifier(featuresCol=\"scaled_features\", labelCol=label_col)\n",
        "\n",
        "    # Create the Pipeline\n",
        "    pipeline = Pipeline(stages=[assembler, imputer_numeric, scaler, rf])#indexers + encoders +\n",
        "\n",
        "    # Fit the Pipeline on the Training Data\n",
        "    pipeline_model = pipeline.fit(reference_data)\n",
        "\n",
        "    predictions_reference = pipeline_model.transform(reference_data)\n",
        "\n",
        "    current_dataa = current_data.filter(\n",
        "            (col(\"start_date\") >= test_dates[0]) & (col(\"start_date\") <= test_dates[1]))\n",
        "\n",
        "    print(f\"Number of observations: {current_dataa.count()}\")\n",
        "\n",
        "    predictions_current = pipeline_model.transform(current_dataa)\n",
        "\n",
        "    evaluator = BinaryClassificationEvaluator(labelCol=label_col,\n",
        "                                              rawPredictionCol=\"prediction\",\n",
        "                                              metricName=\"areaUnderROC\")\n",
        "\n",
        "    auc_reference = evaluator.evaluate(predictions_reference)\n",
        "    print(f\"{model_name} AUC (reference): {auc_reference}\")\n",
        "\n",
        "    auc_current = evaluator.evaluate(predictions_current)\n",
        "    print(f\"{model_name} AUC (current): {auc_current}\")\n",
        "\n",
        "    mlflow.set_experiment_tag(\"model\", model_name)\n",
        "\n",
        "    mlflow.log_metric(f\"{model_name}_AUC_reference\", auc_reference)\n",
        "    mlflow.log_metric(f\"{model_name}_AUC_current\", auc_current)\n",
        "\n",
        "    mlflow.spark.log_model(pipeline_model,\n",
        "                          artifact_path=\"spark-model\",\n",
        "                          registered_model_name=f\"{model_name}_Model\")\n"
      ],
      "metadata": {
        "id": "ooZ5Roe6VCcS"
      },
      "execution_count": 115,
      "outputs": []
    },
    {
      "cell_type": "code",
      "source": [
        "mlflow.set_tracking_uri(\"sqlite:///mlruns.db\") # for local experiment, change to \"http://127.0.0.1:5000\" in vscode to access MLflow UI\n",
        "\n",
        "EXPERIMENT_NAME = \"supplier_contract_experiment\"\n",
        "mlflow.set_experiment(EXPERIMENT_NAME)\n",
        "\n",
        "models = {\n",
        "    #\"Linear Regression\": LinearRegression(),\n",
        "    #\"Random Forest Regressor\": RandomForestRegressor(),\n",
        "    #\"GBT Regressor\": GBTRegressor(),\n",
        "    \"Logistic_Regression\": LogisticRegression(),\n",
        "    \"Random_Forest_Classifier\": RandomForestClassifier(),\n",
        "    \"GBT_Classifier\": GBTClassifier()\n",
        "\n",
        "}\n",
        "\n",
        "for model_name, model in models.items():\n",
        "  with mlflow.start_run(run_name=model_name):\n",
        "      print(f\"Training and evaluating {model_name}\")\n",
        "      train_and_evaluate(model, model_name)\n",
        "\n"
      ],
      "metadata": {
        "colab": {
          "base_uri": "https://localhost:8080/",
          "height": 477
        },
        "id": "Hi7Wn4Ba_jj2",
        "outputId": "8fbdb68d-e837-4f5c-fca1-4be5e7878691"
      },
      "execution_count": 116,
      "outputs": [
        {
          "output_type": "stream",
          "name": "stdout",
          "text": [
            "Training and evaluating Logistic_Regression\n",
            "Batch: 0\n",
            "Test dates: ('2009-02-17', '2009-03-19')\n",
            "Number of observations: 1\n",
            "Logistic_Regression AUC (reference): 0.8333333333333333\n",
            "Logistic_Regression AUC (current): 0.0\n"
          ]
        },
        {
          "output_type": "error",
          "ename": "KeyboardInterrupt",
          "evalue": "ignored",
          "traceback": [
            "\u001b[0;31m---------------------------------------------------------------------------\u001b[0m",
            "\u001b[0;31mKeyboardInterrupt\u001b[0m                         Traceback (most recent call last)",
            "\u001b[0;32m<ipython-input-116-06fbc8a49441>\u001b[0m in \u001b[0;36m<cell line: 16>\u001b[0;34m()\u001b[0m\n\u001b[1;32m     17\u001b[0m   \u001b[0;32mwith\u001b[0m \u001b[0mmlflow\u001b[0m\u001b[0;34m.\u001b[0m\u001b[0mstart_run\u001b[0m\u001b[0;34m(\u001b[0m\u001b[0mrun_name\u001b[0m\u001b[0;34m=\u001b[0m\u001b[0mmodel_name\u001b[0m\u001b[0;34m)\u001b[0m\u001b[0;34m:\u001b[0m\u001b[0;34m\u001b[0m\u001b[0;34m\u001b[0m\u001b[0m\n\u001b[1;32m     18\u001b[0m       \u001b[0mprint\u001b[0m\u001b[0;34m(\u001b[0m\u001b[0;34mf\"Training and evaluating {model_name}\"\u001b[0m\u001b[0;34m)\u001b[0m\u001b[0;34m\u001b[0m\u001b[0;34m\u001b[0m\u001b[0m\n\u001b[0;32m---> 19\u001b[0;31m       \u001b[0mtrain_and_evaluate\u001b[0m\u001b[0;34m(\u001b[0m\u001b[0mmodel\u001b[0m\u001b[0;34m,\u001b[0m \u001b[0mmodel_name\u001b[0m\u001b[0;34m)\u001b[0m\u001b[0;34m\u001b[0m\u001b[0;34m\u001b[0m\u001b[0m\n\u001b[0m\u001b[1;32m     20\u001b[0m \u001b[0;34m\u001b[0m\u001b[0m\n",
            "\u001b[0;32m<ipython-input-115-48a36049ec9c>\u001b[0m in \u001b[0;36mtrain_and_evaluate\u001b[0;34m(model, model_name)\u001b[0m\n\u001b[1;32m     67\u001b[0m     \u001b[0mmlflow\u001b[0m\u001b[0;34m.\u001b[0m\u001b[0mlog_metric\u001b[0m\u001b[0;34m(\u001b[0m\u001b[0;34mf\"{model_name}_AUC_current\"\u001b[0m\u001b[0;34m,\u001b[0m \u001b[0mauc_current\u001b[0m\u001b[0;34m)\u001b[0m\u001b[0;34m\u001b[0m\u001b[0;34m\u001b[0m\u001b[0m\n\u001b[1;32m     68\u001b[0m \u001b[0;34m\u001b[0m\u001b[0m\n\u001b[0;32m---> 69\u001b[0;31m     mlflow.spark.log_model(pipeline_model,\n\u001b[0m\u001b[1;32m     70\u001b[0m                           \u001b[0martifact_path\u001b[0m\u001b[0;34m=\u001b[0m\u001b[0;34m\"spark-model\"\u001b[0m\u001b[0;34m,\u001b[0m\u001b[0;34m\u001b[0m\u001b[0;34m\u001b[0m\u001b[0m\n\u001b[1;32m     71\u001b[0m                           registered_model_name=f\"{model_name}_Model\")\n",
            "\u001b[0;32m/usr/local/lib/python3.10/dist-packages/mlflow/spark/__init__.py\u001b[0m in \u001b[0;36mlog_model\u001b[0;34m(spark_model, artifact_path, conda_env, code_paths, dfs_tmpdir, sample_input, registered_model_name, signature, input_example, await_registration_for, pip_requirements, extra_pip_requirements, metadata)\u001b[0m\n\u001b[1;32m    278\u001b[0m         \u001b[0mappend_to_uri_path\u001b[0m\u001b[0;34m(\u001b[0m\u001b[0mrun_root_artifact_uri\u001b[0m\u001b[0;34m,\u001b[0m \u001b[0martifact_path\u001b[0m\u001b[0;34m)\u001b[0m\u001b[0;34m,\u001b[0m\u001b[0;34m\u001b[0m\u001b[0;34m\u001b[0m\u001b[0m\n\u001b[1;32m    279\u001b[0m     ):\n\u001b[0;32m--> 280\u001b[0;31m         return Model.log(\n\u001b[0m\u001b[1;32m    281\u001b[0m             \u001b[0martifact_path\u001b[0m\u001b[0;34m=\u001b[0m\u001b[0martifact_path\u001b[0m\u001b[0;34m,\u001b[0m\u001b[0;34m\u001b[0m\u001b[0;34m\u001b[0m\u001b[0m\n\u001b[1;32m    282\u001b[0m             \u001b[0mflavor\u001b[0m\u001b[0;34m=\u001b[0m\u001b[0mmlflow\u001b[0m\u001b[0;34m.\u001b[0m\u001b[0mspark\u001b[0m\u001b[0;34m,\u001b[0m\u001b[0;34m\u001b[0m\u001b[0;34m\u001b[0m\u001b[0m\n",
            "\u001b[0;32m/usr/local/lib/python3.10/dist-packages/mlflow/models/model.py\u001b[0m in \u001b[0;36mlog\u001b[0;34m(cls, artifact_path, flavor, registered_model_name, await_registration_for, metadata, **kwargs)\u001b[0m\n\u001b[1;32m    617\u001b[0m             ):\n\u001b[1;32m    618\u001b[0m                 \u001b[0m_logger\u001b[0m\u001b[0;34m.\u001b[0m\u001b[0mwarning\u001b[0m\u001b[0;34m(\u001b[0m\u001b[0m_LOG_MODEL_MISSING_SIGNATURE_WARNING\u001b[0m\u001b[0;34m)\u001b[0m\u001b[0;34m\u001b[0m\u001b[0;34m\u001b[0m\u001b[0m\n\u001b[0;32m--> 619\u001b[0;31m             \u001b[0mflavor\u001b[0m\u001b[0;34m.\u001b[0m\u001b[0msave_model\u001b[0m\u001b[0;34m(\u001b[0m\u001b[0mpath\u001b[0m\u001b[0;34m=\u001b[0m\u001b[0mlocal_path\u001b[0m\u001b[0;34m,\u001b[0m \u001b[0mmlflow_model\u001b[0m\u001b[0;34m=\u001b[0m\u001b[0mmlflow_model\u001b[0m\u001b[0;34m,\u001b[0m \u001b[0;34m**\u001b[0m\u001b[0mkwargs\u001b[0m\u001b[0;34m)\u001b[0m\u001b[0;34m\u001b[0m\u001b[0;34m\u001b[0m\u001b[0m\n\u001b[0m\u001b[1;32m    620\u001b[0m             \u001b[0mmlflow\u001b[0m\u001b[0;34m.\u001b[0m\u001b[0mtracking\u001b[0m\u001b[0;34m.\u001b[0m\u001b[0mfluent\u001b[0m\u001b[0;34m.\u001b[0m\u001b[0mlog_artifacts\u001b[0m\u001b[0;34m(\u001b[0m\u001b[0mlocal_path\u001b[0m\u001b[0;34m,\u001b[0m \u001b[0mmlflow_model\u001b[0m\u001b[0;34m.\u001b[0m\u001b[0martifact_path\u001b[0m\u001b[0;34m)\u001b[0m\u001b[0;34m\u001b[0m\u001b[0;34m\u001b[0m\u001b[0m\n\u001b[1;32m    621\u001b[0m             \u001b[0;32mtry\u001b[0m\u001b[0;34m:\u001b[0m\u001b[0;34m\u001b[0m\u001b[0;34m\u001b[0m\u001b[0m\n",
            "\u001b[0;32m/usr/local/lib/python3.10/dist-packages/mlflow/spark/__init__.py\u001b[0m in \u001b[0;36msave_model\u001b[0;34m(spark_model, path, mlflow_model, conda_env, code_paths, dfs_tmpdir, sample_input, signature, input_example, pip_requirements, extra_pip_requirements, metadata)\u001b[0m\n\u001b[1;32m    768\u001b[0m             \u001b[0m_HadoopFileSystem\u001b[0m\u001b[0;34m.\u001b[0m\u001b[0mcopy_to_local_file\u001b[0m\u001b[0;34m(\u001b[0m\u001b[0mtmp_path\u001b[0m\u001b[0;34m,\u001b[0m \u001b[0msparkml_data_path\u001b[0m\u001b[0;34m,\u001b[0m \u001b[0mremove_src\u001b[0m\u001b[0;34m=\u001b[0m\u001b[0;32mTrue\u001b[0m\u001b[0;34m)\u001b[0m\u001b[0;34m\u001b[0m\u001b[0;34m\u001b[0m\u001b[0m\n\u001b[1;32m    769\u001b[0m \u001b[0;34m\u001b[0m\u001b[0m\n\u001b[0;32m--> 770\u001b[0;31m     _save_model_metadata(\n\u001b[0m\u001b[1;32m    771\u001b[0m         \u001b[0mdst_dir\u001b[0m\u001b[0;34m=\u001b[0m\u001b[0mpath\u001b[0m\u001b[0;34m,\u001b[0m\u001b[0;34m\u001b[0m\u001b[0;34m\u001b[0m\u001b[0m\n\u001b[1;32m    772\u001b[0m         \u001b[0mspark_model\u001b[0m\u001b[0;34m=\u001b[0m\u001b[0mspark_model\u001b[0m\u001b[0;34m,\u001b[0m\u001b[0;34m\u001b[0m\u001b[0;34m\u001b[0m\u001b[0m\n",
            "\u001b[0;32m/usr/local/lib/python3.10/dist-packages/mlflow/spark/__init__.py\u001b[0m in \u001b[0;36m_save_model_metadata\u001b[0;34m(dst_dir, spark_model, mlflow_model, sample_input, conda_env, code_paths, signature, input_example, pip_requirements, extra_pip_requirements, remote_model_path)\u001b[0m\n\u001b[1;32m    569\u001b[0m             \u001b[0;31m# To ensure `_load_pyfunc` can successfully load the model during the dependency\u001b[0m\u001b[0;34m\u001b[0m\u001b[0;34m\u001b[0m\u001b[0m\n\u001b[1;32m    570\u001b[0m             \u001b[0;31m# inference, `mlflow_model.save` must be called beforehand to save an MLmodel file.\u001b[0m\u001b[0;34m\u001b[0m\u001b[0;34m\u001b[0m\u001b[0m\n\u001b[0;32m--> 571\u001b[0;31m             inferred_reqs = mlflow.models.infer_pip_requirements(\n\u001b[0m\u001b[1;32m    572\u001b[0m                 \u001b[0mremote_model_path\u001b[0m \u001b[0;32mor\u001b[0m \u001b[0mdst_dir\u001b[0m\u001b[0;34m,\u001b[0m\u001b[0;34m\u001b[0m\u001b[0;34m\u001b[0m\u001b[0m\n\u001b[1;32m    573\u001b[0m                 \u001b[0mFLAVOR_NAME\u001b[0m\u001b[0;34m,\u001b[0m\u001b[0;34m\u001b[0m\u001b[0;34m\u001b[0m\u001b[0m\n",
            "\u001b[0;32m/usr/local/lib/python3.10/dist-packages/mlflow/utils/environment.py\u001b[0m in \u001b[0;36minfer_pip_requirements\u001b[0;34m(model_uri, flavor, fallback)\u001b[0m\n\u001b[1;32m    393\u001b[0m     \"\"\"\n\u001b[1;32m    394\u001b[0m     \u001b[0;32mtry\u001b[0m\u001b[0;34m:\u001b[0m\u001b[0;34m\u001b[0m\u001b[0;34m\u001b[0m\u001b[0m\n\u001b[0;32m--> 395\u001b[0;31m         \u001b[0;32mreturn\u001b[0m \u001b[0m_infer_requirements\u001b[0m\u001b[0;34m(\u001b[0m\u001b[0mmodel_uri\u001b[0m\u001b[0;34m,\u001b[0m \u001b[0mflavor\u001b[0m\u001b[0;34m)\u001b[0m\u001b[0;34m\u001b[0m\u001b[0;34m\u001b[0m\u001b[0m\n\u001b[0m\u001b[1;32m    396\u001b[0m     \u001b[0;32mexcept\u001b[0m \u001b[0mException\u001b[0m\u001b[0;34m:\u001b[0m\u001b[0;34m\u001b[0m\u001b[0;34m\u001b[0m\u001b[0m\n\u001b[1;32m    397\u001b[0m         \u001b[0;32mif\u001b[0m \u001b[0mfallback\u001b[0m \u001b[0;32mis\u001b[0m \u001b[0;32mnot\u001b[0m \u001b[0;32mNone\u001b[0m\u001b[0;34m:\u001b[0m\u001b[0;34m\u001b[0m\u001b[0;34m\u001b[0m\u001b[0m\n",
            "\u001b[0;32m/usr/local/lib/python3.10/dist-packages/mlflow/utils/requirements_utils.py\u001b[0m in \u001b[0;36m_infer_requirements\u001b[0;34m(model_uri, flavor)\u001b[0m\n\u001b[1;32m    408\u001b[0m         \u001b[0m_PYPI_PACKAGE_INDEX\u001b[0m \u001b[0;34m=\u001b[0m \u001b[0m_load_pypi_package_index\u001b[0m\u001b[0;34m(\u001b[0m\u001b[0;34m)\u001b[0m\u001b[0;34m\u001b[0m\u001b[0;34m\u001b[0m\u001b[0m\n\u001b[1;32m    409\u001b[0m \u001b[0;34m\u001b[0m\u001b[0m\n\u001b[0;32m--> 410\u001b[0;31m     \u001b[0mmodules\u001b[0m \u001b[0;34m=\u001b[0m \u001b[0m_capture_imported_modules\u001b[0m\u001b[0;34m(\u001b[0m\u001b[0mmodel_uri\u001b[0m\u001b[0;34m,\u001b[0m \u001b[0mflavor\u001b[0m\u001b[0;34m)\u001b[0m\u001b[0;34m\u001b[0m\u001b[0;34m\u001b[0m\u001b[0m\n\u001b[0m\u001b[1;32m    411\u001b[0m     \u001b[0mpackages\u001b[0m \u001b[0;34m=\u001b[0m \u001b[0m_flatten\u001b[0m\u001b[0;34m(\u001b[0m\u001b[0;34m[\u001b[0m\u001b[0m_MODULES_TO_PACKAGES\u001b[0m\u001b[0;34m.\u001b[0m\u001b[0mget\u001b[0m\u001b[0;34m(\u001b[0m\u001b[0mmodule\u001b[0m\u001b[0;34m,\u001b[0m \u001b[0;34m[\u001b[0m\u001b[0;34m]\u001b[0m\u001b[0;34m)\u001b[0m \u001b[0;32mfor\u001b[0m \u001b[0mmodule\u001b[0m \u001b[0;32min\u001b[0m \u001b[0mmodules\u001b[0m\u001b[0;34m]\u001b[0m\u001b[0;34m)\u001b[0m\u001b[0;34m\u001b[0m\u001b[0;34m\u001b[0m\u001b[0m\n\u001b[1;32m    412\u001b[0m     \u001b[0mpackages\u001b[0m \u001b[0;34m=\u001b[0m \u001b[0mmap\u001b[0m\u001b[0;34m(\u001b[0m\u001b[0m_normalize_package_name\u001b[0m\u001b[0;34m,\u001b[0m \u001b[0mpackages\u001b[0m\u001b[0;34m)\u001b[0m\u001b[0;34m\u001b[0m\u001b[0;34m\u001b[0m\u001b[0m\n",
            "\u001b[0;32m/usr/local/lib/python3.10/dist-packages/mlflow/utils/requirements_utils.py\u001b[0m in \u001b[0;36m_capture_imported_modules\u001b[0;34m(model_uri, flavor)\u001b[0m\n\u001b[1;32m    305\u001b[0m         \u001b[0;32mfrom\u001b[0m \u001b[0mmlflow\u001b[0m\u001b[0;34m.\u001b[0m\u001b[0mutils\u001b[0m \u001b[0;32mimport\u001b[0m \u001b[0m_capture_modules\u001b[0m\u001b[0;34m\u001b[0m\u001b[0;34m\u001b[0m\u001b[0m\n\u001b[1;32m    306\u001b[0m \u001b[0;34m\u001b[0m\u001b[0m\n\u001b[0;32m--> 307\u001b[0;31m         _run_command(\n\u001b[0m\u001b[1;32m    308\u001b[0m             [\n\u001b[1;32m    309\u001b[0m                 \u001b[0msys\u001b[0m\u001b[0;34m.\u001b[0m\u001b[0mexecutable\u001b[0m\u001b[0;34m,\u001b[0m\u001b[0;34m\u001b[0m\u001b[0;34m\u001b[0m\u001b[0m\n",
            "\u001b[0;32m/usr/local/lib/python3.10/dist-packages/mlflow/utils/requirements_utils.py\u001b[0m in \u001b[0;36m_run_command\u001b[0;34m(cmd, timeout_seconds, env)\u001b[0m\n\u001b[1;32m    201\u001b[0m     \u001b[0;32mtry\u001b[0m\u001b[0;34m:\u001b[0m\u001b[0;34m\u001b[0m\u001b[0;34m\u001b[0m\u001b[0m\n\u001b[1;32m    202\u001b[0m         \u001b[0mtimer\u001b[0m\u001b[0;34m.\u001b[0m\u001b[0mstart\u001b[0m\u001b[0;34m(\u001b[0m\u001b[0;34m)\u001b[0m\u001b[0;34m\u001b[0m\u001b[0;34m\u001b[0m\u001b[0m\n\u001b[0;32m--> 203\u001b[0;31m         \u001b[0mstdout\u001b[0m\u001b[0;34m,\u001b[0m \u001b[0mstderr\u001b[0m \u001b[0;34m=\u001b[0m \u001b[0mproc\u001b[0m\u001b[0;34m.\u001b[0m\u001b[0mcommunicate\u001b[0m\u001b[0;34m(\u001b[0m\u001b[0;34m)\u001b[0m\u001b[0;34m\u001b[0m\u001b[0;34m\u001b[0m\u001b[0m\n\u001b[0m\u001b[1;32m    204\u001b[0m         \u001b[0mstdout\u001b[0m \u001b[0;34m=\u001b[0m \u001b[0mstdout\u001b[0m\u001b[0;34m.\u001b[0m\u001b[0mdecode\u001b[0m\u001b[0;34m(\u001b[0m\u001b[0;34m\"utf-8\"\u001b[0m\u001b[0;34m)\u001b[0m\u001b[0;34m\u001b[0m\u001b[0;34m\u001b[0m\u001b[0m\n\u001b[1;32m    205\u001b[0m         \u001b[0mstderr\u001b[0m \u001b[0;34m=\u001b[0m \u001b[0mstderr\u001b[0m\u001b[0;34m.\u001b[0m\u001b[0mdecode\u001b[0m\u001b[0;34m(\u001b[0m\u001b[0;34m\"utf-8\"\u001b[0m\u001b[0;34m)\u001b[0m\u001b[0;34m\u001b[0m\u001b[0;34m\u001b[0m\u001b[0m\n",
            "\u001b[0;32m/usr/lib/python3.10/subprocess.py\u001b[0m in \u001b[0;36mcommunicate\u001b[0;34m(self, input, timeout)\u001b[0m\n\u001b[1;32m   1152\u001b[0m \u001b[0;34m\u001b[0m\u001b[0m\n\u001b[1;32m   1153\u001b[0m             \u001b[0;32mtry\u001b[0m\u001b[0;34m:\u001b[0m\u001b[0;34m\u001b[0m\u001b[0;34m\u001b[0m\u001b[0m\n\u001b[0;32m-> 1154\u001b[0;31m                 \u001b[0mstdout\u001b[0m\u001b[0;34m,\u001b[0m \u001b[0mstderr\u001b[0m \u001b[0;34m=\u001b[0m \u001b[0mself\u001b[0m\u001b[0;34m.\u001b[0m\u001b[0m_communicate\u001b[0m\u001b[0;34m(\u001b[0m\u001b[0minput\u001b[0m\u001b[0;34m,\u001b[0m \u001b[0mendtime\u001b[0m\u001b[0;34m,\u001b[0m \u001b[0mtimeout\u001b[0m\u001b[0;34m)\u001b[0m\u001b[0;34m\u001b[0m\u001b[0;34m\u001b[0m\u001b[0m\n\u001b[0m\u001b[1;32m   1155\u001b[0m             \u001b[0;32mexcept\u001b[0m \u001b[0mKeyboardInterrupt\u001b[0m\u001b[0;34m:\u001b[0m\u001b[0;34m\u001b[0m\u001b[0;34m\u001b[0m\u001b[0m\n\u001b[1;32m   1156\u001b[0m                 \u001b[0;31m# https://bugs.python.org/issue25942\u001b[0m\u001b[0;34m\u001b[0m\u001b[0;34m\u001b[0m\u001b[0m\n",
            "\u001b[0;32m/usr/lib/python3.10/subprocess.py\u001b[0m in \u001b[0;36m_communicate\u001b[0;34m(self, input, endtime, orig_timeout)\u001b[0m\n\u001b[1;32m   2019\u001b[0m                             'failed to raise TimeoutExpired.')\n\u001b[1;32m   2020\u001b[0m \u001b[0;34m\u001b[0m\u001b[0m\n\u001b[0;32m-> 2021\u001b[0;31m                     \u001b[0mready\u001b[0m \u001b[0;34m=\u001b[0m \u001b[0mselector\u001b[0m\u001b[0;34m.\u001b[0m\u001b[0mselect\u001b[0m\u001b[0;34m(\u001b[0m\u001b[0mtimeout\u001b[0m\u001b[0;34m)\u001b[0m\u001b[0;34m\u001b[0m\u001b[0;34m\u001b[0m\u001b[0m\n\u001b[0m\u001b[1;32m   2022\u001b[0m                     \u001b[0mself\u001b[0m\u001b[0;34m.\u001b[0m\u001b[0m_check_timeout\u001b[0m\u001b[0;34m(\u001b[0m\u001b[0mendtime\u001b[0m\u001b[0;34m,\u001b[0m \u001b[0morig_timeout\u001b[0m\u001b[0;34m,\u001b[0m \u001b[0mstdout\u001b[0m\u001b[0;34m,\u001b[0m \u001b[0mstderr\u001b[0m\u001b[0;34m)\u001b[0m\u001b[0;34m\u001b[0m\u001b[0;34m\u001b[0m\u001b[0m\n\u001b[1;32m   2023\u001b[0m \u001b[0;34m\u001b[0m\u001b[0m\n",
            "\u001b[0;32m/usr/lib/python3.10/selectors.py\u001b[0m in \u001b[0;36mselect\u001b[0;34m(self, timeout)\u001b[0m\n\u001b[1;32m    414\u001b[0m         \u001b[0mready\u001b[0m \u001b[0;34m=\u001b[0m \u001b[0;34m[\u001b[0m\u001b[0;34m]\u001b[0m\u001b[0;34m\u001b[0m\u001b[0;34m\u001b[0m\u001b[0m\n\u001b[1;32m    415\u001b[0m         \u001b[0;32mtry\u001b[0m\u001b[0;34m:\u001b[0m\u001b[0;34m\u001b[0m\u001b[0;34m\u001b[0m\u001b[0m\n\u001b[0;32m--> 416\u001b[0;31m             \u001b[0mfd_event_list\u001b[0m \u001b[0;34m=\u001b[0m \u001b[0mself\u001b[0m\u001b[0;34m.\u001b[0m\u001b[0m_selector\u001b[0m\u001b[0;34m.\u001b[0m\u001b[0mpoll\u001b[0m\u001b[0;34m(\u001b[0m\u001b[0mtimeout\u001b[0m\u001b[0;34m)\u001b[0m\u001b[0;34m\u001b[0m\u001b[0;34m\u001b[0m\u001b[0m\n\u001b[0m\u001b[1;32m    417\u001b[0m         \u001b[0;32mexcept\u001b[0m \u001b[0mInterruptedError\u001b[0m\u001b[0;34m:\u001b[0m\u001b[0;34m\u001b[0m\u001b[0;34m\u001b[0m\u001b[0m\n\u001b[1;32m    418\u001b[0m             \u001b[0;32mreturn\u001b[0m \u001b[0mready\u001b[0m\u001b[0;34m\u001b[0m\u001b[0;34m\u001b[0m\u001b[0m\n",
            "\u001b[0;31mKeyboardInterrupt\u001b[0m: "
          ]
        }
      ]
    },
    {
      "cell_type": "code",
      "source": [
        "mlflow.search_runs(experiment_names=EXPERIMENT_NAME)"
      ],
      "metadata": {
        "colab": {
          "base_uri": "https://localhost:8080/",
          "height": 354
        },
        "id": "vSHXe_LK5FMv",
        "outputId": "5b81a340-2525-4b8c-c147-25e4df9d3aa3"
      },
      "execution_count": 34,
      "outputs": [
        {
          "output_type": "execute_result",
          "data": {
            "text/plain": [
              "                             run_id experiment_id    status  \\\n",
              "0  c08de055cbe4438d836358dc24300830             1  FINISHED   \n",
              "1  ae41eb9f63514dc7bc88a9604c5e8ca7             1  FINISHED   \n",
              "2  a6b7b90173e4488d87625ca5a642982d             1    FAILED   \n",
              "\n",
              "                                        artifact_uri  \\\n",
              "0  /content/machine-learning-monitoring-with-evid...   \n",
              "1  /content/machine-learning-monitoring-with-evid...   \n",
              "2  /content/machine-learning-monitoring-with-evid...   \n",
              "\n",
              "                        start_time                         end_time  \\\n",
              "0 2023-11-28 22:12:36.953000+00:00 2023-11-28 22:13:23.967000+00:00   \n",
              "1 2023-11-28 22:08:32.745000+00:00 2023-11-28 22:09:11.229000+00:00   \n",
              "2 2023-11-28 22:07:15.760000+00:00 2023-11-28 22:07:23.562000+00:00   \n",
              "\n",
              "   metrics.Random Forest Classifier_AUC  \\\n",
              "0                                   0.5   \n",
              "1                                   0.5   \n",
              "2                                   0.5   \n",
              "\n",
              "                             tags.mlflow.source.name  \\\n",
              "0  /usr/local/lib/python3.10/dist-packages/colab_...   \n",
              "1  /usr/local/lib/python3.10/dist-packages/colab_...   \n",
              "2  /usr/local/lib/python3.10/dist-packages/colab_...   \n",
              "\n",
              "                       tags.mlflow.log-model.history tags.mlflow.user  \\\n",
              "0  [{\"run_id\": \"c08de055cbe4438d836358dc24300830\"...             root   \n",
              "1  [{\"run_id\": \"ae41eb9f63514dc7bc88a9604c5e8ca7\"...             root   \n",
              "2                                               None             root   \n",
              "\n",
              "        tags.mlflow.runName tags.mlflow.source.type  \n",
              "0  Random Forest Classifier                   LOCAL  \n",
              "1  Random Forest Classifier                   LOCAL  \n",
              "2  Random Forest Classifier                   LOCAL  "
            ],
            "text/html": [
              "\n",
              "  <div id=\"df-bc2b79b2-83d2-4f64-b374-58206bb48a66\" class=\"colab-df-container\">\n",
              "    <div>\n",
              "<style scoped>\n",
              "    .dataframe tbody tr th:only-of-type {\n",
              "        vertical-align: middle;\n",
              "    }\n",
              "\n",
              "    .dataframe tbody tr th {\n",
              "        vertical-align: top;\n",
              "    }\n",
              "\n",
              "    .dataframe thead th {\n",
              "        text-align: right;\n",
              "    }\n",
              "</style>\n",
              "<table border=\"1\" class=\"dataframe\">\n",
              "  <thead>\n",
              "    <tr style=\"text-align: right;\">\n",
              "      <th></th>\n",
              "      <th>run_id</th>\n",
              "      <th>experiment_id</th>\n",
              "      <th>status</th>\n",
              "      <th>artifact_uri</th>\n",
              "      <th>start_time</th>\n",
              "      <th>end_time</th>\n",
              "      <th>metrics.Random Forest Classifier_AUC</th>\n",
              "      <th>tags.mlflow.source.name</th>\n",
              "      <th>tags.mlflow.log-model.history</th>\n",
              "      <th>tags.mlflow.user</th>\n",
              "      <th>tags.mlflow.runName</th>\n",
              "      <th>tags.mlflow.source.type</th>\n",
              "    </tr>\n",
              "  </thead>\n",
              "  <tbody>\n",
              "    <tr>\n",
              "      <th>0</th>\n",
              "      <td>c08de055cbe4438d836358dc24300830</td>\n",
              "      <td>1</td>\n",
              "      <td>FINISHED</td>\n",
              "      <td>/content/machine-learning-monitoring-with-evid...</td>\n",
              "      <td>2023-11-28 22:12:36.953000+00:00</td>\n",
              "      <td>2023-11-28 22:13:23.967000+00:00</td>\n",
              "      <td>0.5</td>\n",
              "      <td>/usr/local/lib/python3.10/dist-packages/colab_...</td>\n",
              "      <td>[{\"run_id\": \"c08de055cbe4438d836358dc24300830\"...</td>\n",
              "      <td>root</td>\n",
              "      <td>Random Forest Classifier</td>\n",
              "      <td>LOCAL</td>\n",
              "    </tr>\n",
              "    <tr>\n",
              "      <th>1</th>\n",
              "      <td>ae41eb9f63514dc7bc88a9604c5e8ca7</td>\n",
              "      <td>1</td>\n",
              "      <td>FINISHED</td>\n",
              "      <td>/content/machine-learning-monitoring-with-evid...</td>\n",
              "      <td>2023-11-28 22:08:32.745000+00:00</td>\n",
              "      <td>2023-11-28 22:09:11.229000+00:00</td>\n",
              "      <td>0.5</td>\n",
              "      <td>/usr/local/lib/python3.10/dist-packages/colab_...</td>\n",
              "      <td>[{\"run_id\": \"ae41eb9f63514dc7bc88a9604c5e8ca7\"...</td>\n",
              "      <td>root</td>\n",
              "      <td>Random Forest Classifier</td>\n",
              "      <td>LOCAL</td>\n",
              "    </tr>\n",
              "    <tr>\n",
              "      <th>2</th>\n",
              "      <td>a6b7b90173e4488d87625ca5a642982d</td>\n",
              "      <td>1</td>\n",
              "      <td>FAILED</td>\n",
              "      <td>/content/machine-learning-monitoring-with-evid...</td>\n",
              "      <td>2023-11-28 22:07:15.760000+00:00</td>\n",
              "      <td>2023-11-28 22:07:23.562000+00:00</td>\n",
              "      <td>0.5</td>\n",
              "      <td>/usr/local/lib/python3.10/dist-packages/colab_...</td>\n",
              "      <td>None</td>\n",
              "      <td>root</td>\n",
              "      <td>Random Forest Classifier</td>\n",
              "      <td>LOCAL</td>\n",
              "    </tr>\n",
              "  </tbody>\n",
              "</table>\n",
              "</div>\n",
              "    <div class=\"colab-df-buttons\">\n",
              "\n",
              "  <div class=\"colab-df-container\">\n",
              "    <button class=\"colab-df-convert\" onclick=\"convertToInteractive('df-bc2b79b2-83d2-4f64-b374-58206bb48a66')\"\n",
              "            title=\"Convert this dataframe to an interactive table.\"\n",
              "            style=\"display:none;\">\n",
              "\n",
              "  <svg xmlns=\"http://www.w3.org/2000/svg\" height=\"24px\" viewBox=\"0 -960 960 960\">\n",
              "    <path d=\"M120-120v-720h720v720H120Zm60-500h600v-160H180v160Zm220 220h160v-160H400v160Zm0 220h160v-160H400v160ZM180-400h160v-160H180v160Zm440 0h160v-160H620v160ZM180-180h160v-160H180v160Zm440 0h160v-160H620v160Z\"/>\n",
              "  </svg>\n",
              "    </button>\n",
              "\n",
              "  <style>\n",
              "    .colab-df-container {\n",
              "      display:flex;\n",
              "      gap: 12px;\n",
              "    }\n",
              "\n",
              "    .colab-df-convert {\n",
              "      background-color: #E8F0FE;\n",
              "      border: none;\n",
              "      border-radius: 50%;\n",
              "      cursor: pointer;\n",
              "      display: none;\n",
              "      fill: #1967D2;\n",
              "      height: 32px;\n",
              "      padding: 0 0 0 0;\n",
              "      width: 32px;\n",
              "    }\n",
              "\n",
              "    .colab-df-convert:hover {\n",
              "      background-color: #E2EBFA;\n",
              "      box-shadow: 0px 1px 2px rgba(60, 64, 67, 0.3), 0px 1px 3px 1px rgba(60, 64, 67, 0.15);\n",
              "      fill: #174EA6;\n",
              "    }\n",
              "\n",
              "    .colab-df-buttons div {\n",
              "      margin-bottom: 4px;\n",
              "    }\n",
              "\n",
              "    [theme=dark] .colab-df-convert {\n",
              "      background-color: #3B4455;\n",
              "      fill: #D2E3FC;\n",
              "    }\n",
              "\n",
              "    [theme=dark] .colab-df-convert:hover {\n",
              "      background-color: #434B5C;\n",
              "      box-shadow: 0px 1px 3px 1px rgba(0, 0, 0, 0.15);\n",
              "      filter: drop-shadow(0px 1px 2px rgba(0, 0, 0, 0.3));\n",
              "      fill: #FFFFFF;\n",
              "    }\n",
              "  </style>\n",
              "\n",
              "    <script>\n",
              "      const buttonEl =\n",
              "        document.querySelector('#df-bc2b79b2-83d2-4f64-b374-58206bb48a66 button.colab-df-convert');\n",
              "      buttonEl.style.display =\n",
              "        google.colab.kernel.accessAllowed ? 'block' : 'none';\n",
              "\n",
              "      async function convertToInteractive(key) {\n",
              "        const element = document.querySelector('#df-bc2b79b2-83d2-4f64-b374-58206bb48a66');\n",
              "        const dataTable =\n",
              "          await google.colab.kernel.invokeFunction('convertToInteractive',\n",
              "                                                    [key], {});\n",
              "        if (!dataTable) return;\n",
              "\n",
              "        const docLinkHtml = 'Like what you see? Visit the ' +\n",
              "          '<a target=\"_blank\" href=https://colab.research.google.com/notebooks/data_table.ipynb>data table notebook</a>'\n",
              "          + ' to learn more about interactive tables.';\n",
              "        element.innerHTML = '';\n",
              "        dataTable['output_type'] = 'display_data';\n",
              "        await google.colab.output.renderOutput(dataTable, element);\n",
              "        const docLink = document.createElement('div');\n",
              "        docLink.innerHTML = docLinkHtml;\n",
              "        element.appendChild(docLink);\n",
              "      }\n",
              "    </script>\n",
              "  </div>\n",
              "\n",
              "\n",
              "<div id=\"df-d6ccf8aa-222b-47dd-80d6-43fa6fbf7d70\">\n",
              "  <button class=\"colab-df-quickchart\" onclick=\"quickchart('df-d6ccf8aa-222b-47dd-80d6-43fa6fbf7d70')\"\n",
              "            title=\"Suggest charts\"\n",
              "            style=\"display:none;\">\n",
              "\n",
              "<svg xmlns=\"http://www.w3.org/2000/svg\" height=\"24px\"viewBox=\"0 0 24 24\"\n",
              "     width=\"24px\">\n",
              "    <g>\n",
              "        <path d=\"M19 3H5c-1.1 0-2 .9-2 2v14c0 1.1.9 2 2 2h14c1.1 0 2-.9 2-2V5c0-1.1-.9-2-2-2zM9 17H7v-7h2v7zm4 0h-2V7h2v10zm4 0h-2v-4h2v4z\"/>\n",
              "    </g>\n",
              "</svg>\n",
              "  </button>\n",
              "\n",
              "<style>\n",
              "  .colab-df-quickchart {\n",
              "      --bg-color: #E8F0FE;\n",
              "      --fill-color: #1967D2;\n",
              "      --hover-bg-color: #E2EBFA;\n",
              "      --hover-fill-color: #174EA6;\n",
              "      --disabled-fill-color: #AAA;\n",
              "      --disabled-bg-color: #DDD;\n",
              "  }\n",
              "\n",
              "  [theme=dark] .colab-df-quickchart {\n",
              "      --bg-color: #3B4455;\n",
              "      --fill-color: #D2E3FC;\n",
              "      --hover-bg-color: #434B5C;\n",
              "      --hover-fill-color: #FFFFFF;\n",
              "      --disabled-bg-color: #3B4455;\n",
              "      --disabled-fill-color: #666;\n",
              "  }\n",
              "\n",
              "  .colab-df-quickchart {\n",
              "    background-color: var(--bg-color);\n",
              "    border: none;\n",
              "    border-radius: 50%;\n",
              "    cursor: pointer;\n",
              "    display: none;\n",
              "    fill: var(--fill-color);\n",
              "    height: 32px;\n",
              "    padding: 0;\n",
              "    width: 32px;\n",
              "  }\n",
              "\n",
              "  .colab-df-quickchart:hover {\n",
              "    background-color: var(--hover-bg-color);\n",
              "    box-shadow: 0 1px 2px rgba(60, 64, 67, 0.3), 0 1px 3px 1px rgba(60, 64, 67, 0.15);\n",
              "    fill: var(--button-hover-fill-color);\n",
              "  }\n",
              "\n",
              "  .colab-df-quickchart-complete:disabled,\n",
              "  .colab-df-quickchart-complete:disabled:hover {\n",
              "    background-color: var(--disabled-bg-color);\n",
              "    fill: var(--disabled-fill-color);\n",
              "    box-shadow: none;\n",
              "  }\n",
              "\n",
              "  .colab-df-spinner {\n",
              "    border: 2px solid var(--fill-color);\n",
              "    border-color: transparent;\n",
              "    border-bottom-color: var(--fill-color);\n",
              "    animation:\n",
              "      spin 1s steps(1) infinite;\n",
              "  }\n",
              "\n",
              "  @keyframes spin {\n",
              "    0% {\n",
              "      border-color: transparent;\n",
              "      border-bottom-color: var(--fill-color);\n",
              "      border-left-color: var(--fill-color);\n",
              "    }\n",
              "    20% {\n",
              "      border-color: transparent;\n",
              "      border-left-color: var(--fill-color);\n",
              "      border-top-color: var(--fill-color);\n",
              "    }\n",
              "    30% {\n",
              "      border-color: transparent;\n",
              "      border-left-color: var(--fill-color);\n",
              "      border-top-color: var(--fill-color);\n",
              "      border-right-color: var(--fill-color);\n",
              "    }\n",
              "    40% {\n",
              "      border-color: transparent;\n",
              "      border-right-color: var(--fill-color);\n",
              "      border-top-color: var(--fill-color);\n",
              "    }\n",
              "    60% {\n",
              "      border-color: transparent;\n",
              "      border-right-color: var(--fill-color);\n",
              "    }\n",
              "    80% {\n",
              "      border-color: transparent;\n",
              "      border-right-color: var(--fill-color);\n",
              "      border-bottom-color: var(--fill-color);\n",
              "    }\n",
              "    90% {\n",
              "      border-color: transparent;\n",
              "      border-bottom-color: var(--fill-color);\n",
              "    }\n",
              "  }\n",
              "</style>\n",
              "\n",
              "  <script>\n",
              "    async function quickchart(key) {\n",
              "      const quickchartButtonEl =\n",
              "        document.querySelector('#' + key + ' button');\n",
              "      quickchartButtonEl.disabled = true;  // To prevent multiple clicks.\n",
              "      quickchartButtonEl.classList.add('colab-df-spinner');\n",
              "      try {\n",
              "        const charts = await google.colab.kernel.invokeFunction(\n",
              "            'suggestCharts', [key], {});\n",
              "      } catch (error) {\n",
              "        console.error('Error during call to suggestCharts:', error);\n",
              "      }\n",
              "      quickchartButtonEl.classList.remove('colab-df-spinner');\n",
              "      quickchartButtonEl.classList.add('colab-df-quickchart-complete');\n",
              "    }\n",
              "    (() => {\n",
              "      let quickchartButtonEl =\n",
              "        document.querySelector('#df-d6ccf8aa-222b-47dd-80d6-43fa6fbf7d70 button');\n",
              "      quickchartButtonEl.style.display =\n",
              "        google.colab.kernel.accessAllowed ? 'block' : 'none';\n",
              "    })();\n",
              "  </script>\n",
              "</div>\n",
              "    </div>\n",
              "  </div>\n"
            ]
          },
          "metadata": {},
          "execution_count": 34
        }
      ]
    },
    {
      "cell_type": "code",
      "source": [
        "\n",
        "columns = ['contract_awarded_amount', 'purchase_orders_outstanding',\n",
        "           'payments_made', 'has_outstanding_orders',\n",
        "           'scope_of_work', 'contract_type']\n",
        "\n",
        "tests = TestSuite(tests=[\n",
        "    TestNumberOfDriftedColumns(columns=columns),\n",
        "    TestShareOfDriftedColumns(columns=columns),\n",
        "])\n",
        "\n",
        "tests.run(current_data=current_data,\n",
        "          reference_data=reference_data,\n",
        "          column_mapping=column_mapping,\n",
        "          engine=SparkEngine)\n",
        "tests.show(mode='inline')"
      ],
      "metadata": {
        "id": "e9DjU2wym-Lj"
      },
      "execution_count": null,
      "outputs": []
    },
    {
      "cell_type": "markdown",
      "source": [
        "## **Data Integrity**"
      ],
      "metadata": {
        "id": "kvJF5HlutCxJ"
      }
    },
    {
      "cell_type": "code",
      "source": [
        "from evidently.metrics import DatasetSummaryMetric\n",
        "\n",
        "data_integrity_report = Report(metrics=[\n",
        "    DatasetSummaryMetric()\n",
        "])\n",
        "\n",
        "data_integrity_report.run(current_data=current_data.toPandas(),\n",
        "           reference_data=reference_data.toPandas())\n",
        "data_integrity_report.show(mode=\"inline\")"
      ],
      "metadata": {
        "id": "u6kIttcGm-OK"
      },
      "execution_count": null,
      "outputs": []
    },
    {
      "cell_type": "markdown",
      "source": [
        "## **Data Quality**"
      ],
      "metadata": {
        "id": "2s7HiHxhtrJV"
      }
    },
    {
      "cell_type": "code",
      "source": [
        "from evidently.metric_preset import DataQualityPreset\n",
        "\n",
        "data_quality_report = Report(\n",
        "    metrics=[DataQualityPreset()]\n",
        ")\n",
        "\n",
        "data_quality_report.run(current_data=current_data.toPandas(),\n",
        "                        reference_data=reference_data.toPandas())\n",
        "\n",
        "data_quality_report.show(mode=\"inline\")"
      ],
      "metadata": {
        "colab": {
          "base_uri": "https://localhost:8080/"
        },
        "id": "SHWSMB0ttyP-",
        "outputId": "8f8b144a-6352-4a3c-e06d-5325891bb5a9"
      },
      "execution_count": 161,
      "outputs": [
        {
          "output_type": "stream",
          "name": "stdout",
          "text": [
            "{\"version\": \"0.4.9\", \"metrics\": [{\"metric\": \"DatasetSummaryMetric\", \"result\": {\"almost_duplicated_threshold\": 0.95, \"current\": {\"target\": null, \"prediction\": null, \"date_column\": null, \"id_column\": null, \"number_of_columns\": 28, \"number_of_rows\": 43, \"number_of_missing_values\": 40, \"number_of_categorical_columns\": 16, \"number_of_numeric_columns\": 10, \"number_of_text_columns\": 0, \"number_of_datetime_columns\": 2, \"number_of_constant_columns\": 1, \"number_of_almost_constant_columns\": 2, \"number_of_duplicated_columns\": 0, \"number_of_almost_duplicated_columns\": 0, \"number_of_empty_rows\": 0, \"number_of_empty_columns\": 0, \"number_of_duplicated_rows\": 0, \"nans_by_columns\": {\"contract_title\": 0, \"term_start_date\": 0, \"term_end_date\": 0, \"contract_type\": 0, \"purchasing_authority\": 0, \"department_code\": 0, \"department\": 0, \"supplier_name_prime_contractor\": 0, \"supplier_name\": 0, \"project_team_lbe_status\": 0, \"supplier_type\": 0, \"scope_of_work\": 0, \"contract_awarded_amount\": 0, \"purchase_orders_outstanding\": 0, \"payments_made\": 0, \"remaining_contract_award_amount\": 0, \"contract_number\": 0, \"non_profit\": 40, \"start_date\": 0, \"end_date\": 0, \"start_day\": 0, \"start_month\": 0, \"start_year\": 0, \"end_day\": 0, \"end_month\": 0, \"end_year\": 0, \"is_sole_source\": 0, \"has_outstanding_orders\": 0}, \"number_uniques_by_columns\": {\"contract_title\": 39, \"term_start_date\": 38, \"term_end_date\": 30, \"contract_type\": 5, \"purchasing_authority\": 8, \"department_code\": 3, \"department\": 3, \"supplier_name_prime_contractor\": 41, \"supplier_name\": 40, \"project_team_lbe_status\": 2, \"supplier_type\": 3, \"scope_of_work\": 19, \"contract_awarded_amount\": 40, \"purchase_orders_outstanding\": 8, \"payments_made\": 17, \"remaining_contract_award_amount\": 41, \"contract_number\": 43, \"non_profit\": 1, \"start_date\": 38, \"end_date\": 30, \"start_day\": 20, \"start_month\": 12, \"start_year\": 10, \"end_day\": 16, \"end_month\": 11, \"end_year\": 9, \"is_sole_source\": 2, \"has_outstanding_orders\": 2}}, \"reference\": {\"target\": null, \"prediction\": null, \"date_column\": null, \"id_column\": null, \"number_of_columns\": 28, \"number_of_rows\": 40, \"number_of_missing_values\": 39, \"number_of_categorical_columns\": 16, \"number_of_numeric_columns\": 10, \"number_of_text_columns\": 0, \"number_of_datetime_columns\": 2, \"number_of_constant_columns\": 1, \"number_of_almost_constant_columns\": 2, \"number_of_duplicated_columns\": 0, \"number_of_almost_duplicated_columns\": 0, \"number_of_empty_rows\": 0, \"number_of_empty_columns\": 0, \"number_of_duplicated_rows\": 0, \"nans_by_columns\": {\"contract_title\": 0, \"term_start_date\": 0, \"term_end_date\": 0, \"contract_type\": 0, \"purchasing_authority\": 0, \"department_code\": 0, \"department\": 0, \"supplier_name_prime_contractor\": 0, \"supplier_name\": 0, \"project_team_lbe_status\": 0, \"supplier_type\": 0, \"scope_of_work\": 0, \"contract_awarded_amount\": 0, \"purchase_orders_outstanding\": 0, \"payments_made\": 0, \"remaining_contract_award_amount\": 0, \"contract_number\": 0, \"non_profit\": 39, \"start_date\": 0, \"end_date\": 0, \"start_day\": 0, \"start_month\": 0, \"start_year\": 0, \"end_day\": 0, \"end_month\": 0, \"end_year\": 0, \"is_sole_source\": 0, \"has_outstanding_orders\": 0}, \"number_uniques_by_columns\": {\"contract_title\": 37, \"term_start_date\": 36, \"term_end_date\": 24, \"contract_type\": 5, \"purchasing_authority\": 6, \"department_code\": 2, \"department\": 2, \"supplier_name_prime_contractor\": 34, \"supplier_name\": 36, \"project_team_lbe_status\": 2, \"supplier_type\": 2, \"scope_of_work\": 24, \"contract_awarded_amount\": 39, \"purchase_orders_outstanding\": 5, \"payments_made\": 14, \"remaining_contract_award_amount\": 39, \"contract_number\": 40, \"non_profit\": 1, \"start_date\": 36, \"end_date\": 24, \"start_day\": 17, \"start_month\": 12, \"start_year\": 11, \"end_day\": 12, \"end_month\": 10, \"end_year\": 7, \"is_sole_source\": 2, \"has_outstanding_orders\": 2}}}}, {\"metric\": \"ColumnSummaryMetric\", \"result\": {\"column_name\": \"start_month\", \"column_type\": \"num\", \"reference_characteristics\": {\"number_of_rows\": 40, \"count\": 40, \"missing\": 0, \"missing_percentage\": 0.0, \"mean\": 6.52, \"std\": 3.16, \"min\": 1.0, \"p25\": 3.0, \"p50\": 7.0, \"p75\": 9.0, \"max\": 12.0, \"unique\": 12, \"unique_percentage\": 30.0, \"infinite_count\": 0, \"infinite_percentage\": 0.0, \"most_common\": 3.0, \"most_common_percentage\": 15.0}, \"current_characteristics\": {\"number_of_rows\": 43, \"count\": 43, \"missing\": 0, \"missing_percentage\": 0.0, \"mean\": 6.86, \"std\": 3.39, \"min\": 1.0, \"p25\": 4.5, \"p50\": 7.0, \"p75\": 9.0, \"max\": 12.0, \"unique\": 12, \"unique_percentage\": 27.91, \"infinite_count\": 0, \"infinite_percentage\": 0.0, \"most_common\": 8.0, \"most_common_percentage\": 16.28}}}, {\"metric\": \"ColumnSummaryMetric\", \"result\": {\"column_name\": \"purchase_orders_outstanding\", \"column_type\": \"num\", \"reference_characteristics\": {\"number_of_rows\": 40, \"count\": 40, \"missing\": 0, \"missing_percentage\": 0.0, \"mean\": 5502.56, \"std\": 34299.96, \"min\": 0.0, \"p25\": 0.0, \"p50\": 0.0, \"p75\": 0.0, \"max\": 217000.0, \"unique\": 5, \"unique_percentage\": 12.5, \"infinite_count\": 0, \"infinite_percentage\": 0.0, \"most_common\": 0.0, \"most_common_percentage\": 90.0}, \"current_characteristics\": {\"number_of_rows\": 43, \"count\": 43, \"missing\": 0, \"missing_percentage\": 0.0, \"mean\": 9536.37, \"std\": 51849.46, \"min\": 0.0, \"p25\": 0.0, \"p50\": 0.0, \"p75\": 0.0, \"max\": 339019.8125, \"unique\": 8, \"unique_percentage\": 18.6, \"infinite_count\": 0, \"infinite_percentage\": 0.0, \"most_common\": 0.0, \"most_common_percentage\": 83.72}}}, {\"metric\": \"ColumnSummaryMetric\", \"result\": {\"column_name\": \"end_year\", \"column_type\": \"num\", \"reference_characteristics\": {\"number_of_rows\": 40, \"count\": 40, \"missing\": 0, \"missing_percentage\": 0.0, \"mean\": 2019.72, \"std\": 2.18, \"min\": 2017.0, \"p25\": 2017.0, \"p50\": 2020.0, \"p75\": 2022.0, \"max\": 2023.0, \"unique\": 7, \"unique_percentage\": 17.5, \"infinite_count\": 0, \"infinite_percentage\": 0.0, \"most_common\": 2022.0, \"most_common_percentage\": 35.0}, \"current_characteristics\": {\"number_of_rows\": 43, \"count\": 43, \"missing\": 0, \"missing_percentage\": 0.0, \"mean\": 2020.16, \"std\": 2.43, \"min\": 2017.0, \"p25\": 2018.0, \"p50\": 2020.0, \"p75\": 2022.0, \"max\": 2027.0, \"unique\": 9, \"unique_percentage\": 20.93, \"infinite_count\": 0, \"infinite_percentage\": 0.0, \"most_common\": 2018.0, \"most_common_percentage\": 25.58}}}, {\"metric\": \"ColumnSummaryMetric\", \"result\": {\"column_name\": \"end_month\", \"column_type\": \"num\", \"reference_characteristics\": {\"number_of_rows\": 40, \"count\": 40, \"missing\": 0, \"missing_percentage\": 0.0, \"mean\": 7.2, \"std\": 2.88, \"min\": 2.0, \"p25\": 6.0, \"p50\": 6.0, \"p75\": 10.0, \"max\": 12.0, \"unique\": 10, \"unique_percentage\": 25.0, \"infinite_count\": 0, \"infinite_percentage\": 0.0, \"most_common\": 6.0, \"most_common_percentage\": 40.0}, \"current_characteristics\": {\"number_of_rows\": 43, \"count\": 43, \"missing\": 0, \"missing_percentage\": 0.0, \"mean\": 6.28, \"std\": 2.73, \"min\": 1.0, \"p25\": 4.5, \"p50\": 6.0, \"p75\": 7.0, \"max\": 12.0, \"unique\": 11, \"unique_percentage\": 25.58, \"infinite_count\": 0, \"infinite_percentage\": 0.0, \"most_common\": 6.0, \"most_common_percentage\": 41.86}}}, {\"metric\": \"ColumnSummaryMetric\", \"result\": {\"column_name\": \"start_year\", \"column_type\": \"num\", \"reference_characteristics\": {\"number_of_rows\": 40, \"count\": 40, \"missing\": 0, \"missing_percentage\": 0.0, \"mean\": 2010.5, \"std\": 2.55, \"min\": 2003.0, \"p25\": 2009.0, \"p50\": 2010.5, \"p75\": 2012.0, \"max\": 2017.0, \"unique\": 11, \"unique_percentage\": 27.5, \"infinite_count\": 0, \"infinite_percentage\": 0.0, \"most_common\": 2012.0, \"most_common_percentage\": 27.5}, \"current_characteristics\": {\"number_of_rows\": 43, \"count\": 43, \"missing\": 0, \"missing_percentage\": 0.0, \"mean\": 2011.7, \"std\": 2.77, \"min\": 2006.0, \"p25\": 2010.0, \"p50\": 2011.0, \"p75\": 2012.0, \"max\": 2018.0, \"unique\": 10, \"unique_percentage\": 23.26, \"infinite_count\": 0, \"infinite_percentage\": 0.0, \"most_common\": 2012.0, \"most_common_percentage\": 32.56}}}, {\"metric\": \"ColumnSummaryMetric\", \"result\": {\"column_name\": \"payments_made\", \"column_type\": \"num\", \"reference_characteristics\": {\"number_of_rows\": 40, \"count\": 40, \"missing\": 0, \"missing_percentage\": 0.0, \"mean\": 110047.16, \"std\": 430348.97, \"min\": 0.0, \"p25\": 0.0, \"p50\": 0.0, \"p75\": 21658.75, \"max\": 2639710.5, \"unique\": 14, \"unique_percentage\": 35.0, \"infinite_count\": 0, \"infinite_percentage\": 0.0, \"most_common\": 0.0, \"most_common_percentage\": 67.5}, \"current_characteristics\": {\"number_of_rows\": 43, \"count\": 43, \"missing\": 0, \"missing_percentage\": 0.0, \"mean\": 137833.25, \"std\": 621240.44, \"min\": 0.0, \"p25\": 0.0, \"p50\": 0.0, \"p75\": 18440.01, \"max\": 4019606.5, \"unique\": 17, \"unique_percentage\": 39.53, \"infinite_count\": 0, \"infinite_percentage\": 0.0, \"most_common\": 0.0, \"most_common_percentage\": 62.79}}}, {\"metric\": \"ColumnSummaryMetric\", \"result\": {\"column_name\": \"remaining_contract_award_amount\", \"column_type\": \"num\", \"reference_characteristics\": {\"number_of_rows\": 40, \"count\": 40, \"missing\": 0, \"missing_percentage\": 0.0, \"mean\": 2194985.25, \"std\": 5065334.5, \"min\": 18000.0, \"p25\": 126184.5, \"p50\": 263968.0, \"p75\": 2537082.44, \"max\": 27951320.0, \"unique\": 39, \"unique_percentage\": 97.5, \"infinite_count\": 0, \"infinite_percentage\": 0.0, \"most_common\": 175000.0, \"most_common_percentage\": 5.0}, \"current_characteristics\": {\"number_of_rows\": 43, \"count\": 43, \"missing\": 0, \"missing_percentage\": 0.0, \"mean\": 1596632.5, \"std\": 5163557.5, \"min\": 1573.5899658203125, \"p25\": 79800.0, \"p50\": 207200.0, \"p75\": 998637.84, \"max\": 33205370.0, \"unique\": 41, \"unique_percentage\": 95.35, \"infinite_count\": 0, \"infinite_percentage\": 0.0, \"most_common\": 49000.0, \"most_common_percentage\": 4.65}}}, {\"metric\": \"ColumnSummaryMetric\", \"result\": {\"column_name\": \"contract_awarded_amount\", \"column_type\": \"num\", \"reference_characteristics\": {\"number_of_rows\": 40, \"count\": 40, \"missing\": 0, \"missing_percentage\": 0.0, \"mean\": 2310534.75, \"std\": 5438420.0, \"min\": 18000.0, \"p25\": 138750.0, \"p50\": 377650.0, \"p75\": 2707654.81, \"max\": 30808028.0, \"unique\": 39, \"unique_percentage\": 97.5, \"infinite_count\": 0, \"infinite_percentage\": 0.0, \"most_common\": 175000.0, \"most_common_percentage\": 5.0}, \"current_characteristics\": {\"number_of_rows\": 43, \"count\": 43, \"missing\": 0, \"missing_percentage\": 0.0, \"mean\": 1744002.38, \"std\": 5297607.0, \"min\": 4000.0, \"p25\": 100000.0, \"p50\": 232200.0, \"p75\": 1091102.5, \"max\": 34000000.0, \"unique\": 40, \"unique_percentage\": 93.02, \"infinite_count\": 0, \"infinite_percentage\": 0.0, \"most_common\": 49000.0, \"most_common_percentage\": 4.65}}}, {\"metric\": \"ColumnSummaryMetric\", \"result\": {\"column_name\": \"start_day\", \"column_type\": \"num\", \"reference_characteristics\": {\"number_of_rows\": 40, \"count\": 40, \"missing\": 0, \"missing_percentage\": 0.0, \"mean\": 10.78, \"std\": 10.56, \"min\": 1.0, \"p25\": 1.0, \"p50\": 8.0, \"p75\": 16.25, \"max\": 31.0, \"unique\": 17, \"unique_percentage\": 42.5, \"infinite_count\": 0, \"infinite_percentage\": 0.0, \"most_common\": 1.0, \"most_common_percentage\": 37.5}, \"current_characteristics\": {\"number_of_rows\": 43, \"count\": 43, \"missing\": 0, \"missing_percentage\": 0.0, \"mean\": 14.12, \"std\": 10.75, \"min\": 1.0, \"p25\": 1.0, \"p50\": 14.0, \"p75\": 24.0, \"max\": 31.0, \"unique\": 20, \"unique_percentage\": 46.51, \"infinite_count\": 0, \"infinite_percentage\": 0.0, \"most_common\": 1.0, \"most_common_percentage\": 27.91}}}, {\"metric\": \"ColumnSummaryMetric\", \"result\": {\"column_name\": \"end_day\", \"column_type\": \"num\", \"reference_characteristics\": {\"number_of_rows\": 40, \"count\": 40, \"missing\": 0, \"missing_percentage\": 0.0, \"mean\": 24.45, \"std\": 10.38, \"min\": 1.0, \"p25\": 25.5, \"p50\": 30.0, \"p75\": 30.0, \"max\": 31.0, \"unique\": 12, \"unique_percentage\": 30.0, \"infinite_count\": 0, \"infinite_percentage\": 0.0, \"most_common\": 30.0, \"most_common_percentage\": 42.5}, \"current_characteristics\": {\"number_of_rows\": 43, \"count\": 43, \"missing\": 0, \"missing_percentage\": 0.0, \"mean\": 24.53, \"std\": 9.27, \"min\": 1.0, \"p25\": 22.5, \"p50\": 30.0, \"p75\": 30.0, \"max\": 31.0, \"unique\": 16, \"unique_percentage\": 37.21, \"infinite_count\": 0, \"infinite_percentage\": 0.0, \"most_common\": 30.0, \"most_common_percentage\": 48.84}}}, {\"metric\": \"ColumnSummaryMetric\", \"result\": {\"column_name\": \"non_profit\", \"column_type\": \"cat\", \"reference_characteristics\": {\"number_of_rows\": 40, \"count\": 1, \"missing\": 39, \"missing_percentage\": 97.5, \"unique\": 1, \"unique_percentage\": 2.5, \"most_common\": null, \"most_common_percentage\": 97.5, \"new_in_current_values_count\": null, \"unused_in_current_values_count\": null}, \"current_characteristics\": {\"number_of_rows\": 43, \"count\": 3, \"missing\": 40, \"missing_percentage\": 93.02, \"unique\": 1, \"unique_percentage\": 2.33, \"most_common\": null, \"most_common_percentage\": 93.02, \"new_in_current_values_count\": 0, \"unused_in_current_values_count\": 0}}}, {\"metric\": \"ColumnSummaryMetric\", \"result\": {\"column_name\": \"supplier_name\", \"column_type\": \"cat\", \"reference_characteristics\": {\"number_of_rows\": 40, \"count\": 40, \"missing\": 0, \"missing_percentage\": 0.0, \"unique\": 36, \"unique_percentage\": 90.0, \"most_common\": \"U R S CORPORATION\", \"most_common_percentage\": 10.0, \"new_in_current_values_count\": null, \"unused_in_current_values_count\": null}, \"current_characteristics\": {\"number_of_rows\": 43, \"count\": 43, \"missing\": 0, \"missing_percentage\": 0.0, \"unique\": 40, \"unique_percentage\": 93.02, \"most_common\": \"A G S INC\", \"most_common_percentage\": 4.65, \"new_in_current_values_count\": 35, \"unused_in_current_values_count\": 31}}}, {\"metric\": \"ColumnSummaryMetric\", \"result\": {\"column_name\": \"contract_number\", \"column_type\": \"cat\", \"reference_characteristics\": {\"number_of_rows\": 40, \"count\": 40, \"missing\": 0, \"missing_percentage\": 0.0, \"unique\": 40, \"unique_percentage\": 100.0, \"most_common\": \"1000000034\", \"most_common_percentage\": 2.5, \"new_in_current_values_count\": null, \"unused_in_current_values_count\": null}, \"current_characteristics\": {\"number_of_rows\": 43, \"count\": 43, \"missing\": 0, \"missing_percentage\": 0.0, \"unique\": 43, \"unique_percentage\": 100.0, \"most_common\": \"1000000002\", \"most_common_percentage\": 2.33, \"new_in_current_values_count\": 43, \"unused_in_current_values_count\": 40}}}, {\"metric\": \"ColumnSummaryMetric\", \"result\": {\"column_name\": \"project_team_lbe_status\", \"column_type\": \"cat\", \"reference_characteristics\": {\"number_of_rows\": 40, \"count\": 40, \"missing\": 0, \"missing_percentage\": 0.0, \"unique\": 2, \"unique_percentage\": 5.0, \"most_common\": \"Non-LBE\", \"most_common_percentage\": 82.5, \"new_in_current_values_count\": null, \"unused_in_current_values_count\": null}, \"current_characteristics\": {\"number_of_rows\": 43, \"count\": 43, \"missing\": 0, \"missing_percentage\": 0.0, \"unique\": 2, \"unique_percentage\": 4.65, \"most_common\": \"Non-LBE\", \"most_common_percentage\": 69.77, \"new_in_current_values_count\": 0, \"unused_in_current_values_count\": 0}}}, {\"metric\": \"ColumnSummaryMetric\", \"result\": {\"column_name\": \"term_end_date\", \"column_type\": \"cat\", \"reference_characteristics\": {\"number_of_rows\": 40, \"count\": 40, \"missing\": 0, \"missing_percentage\": 0.0, \"unique\": 24, \"unique_percentage\": 60.0, \"most_common\": \"2022-06-30T00:00:00.000\", \"most_common_percentage\": 32.5, \"new_in_current_values_count\": null, \"unused_in_current_values_count\": null}, \"current_characteristics\": {\"number_of_rows\": 43, \"count\": 43, \"missing\": 0, \"missing_percentage\": 0.0, \"unique\": 30, \"unique_percentage\": 69.77, \"most_common\": \"2022-06-30T00:00:00.000\", \"most_common_percentage\": 23.26, \"new_in_current_values_count\": 24, \"unused_in_current_values_count\": 18}}}, {\"metric\": \"ColumnSummaryMetric\", \"result\": {\"column_name\": \"contract_type\", \"column_type\": \"cat\", \"reference_characteristics\": {\"number_of_rows\": 40, \"count\": 40, \"missing\": 0, \"missing_percentage\": 0.0, \"unique\": 5, \"unique_percentage\": 12.5, \"most_common\": \"Professional Services and P-Form Contracts\", \"most_common_percentage\": 40.0, \"new_in_current_values_count\": null, \"unused_in_current_values_count\": null}, \"current_characteristics\": {\"number_of_rows\": 43, \"count\": 43, \"missing\": 0, \"missing_percentage\": 0.0, \"unique\": 5, \"unique_percentage\": 11.63, \"most_common\": \"Professional Services and P-Form Contracts\", \"most_common_percentage\": 39.53, \"new_in_current_values_count\": 1, \"unused_in_current_values_count\": 1}}}, {\"metric\": \"ColumnSummaryMetric\", \"result\": {\"column_name\": \"supplier_type\", \"column_type\": \"cat\", \"reference_characteristics\": {\"number_of_rows\": 40, \"count\": 40, \"missing\": 0, \"missing_percentage\": 0.0, \"unique\": 2, \"unique_percentage\": 5.0, \"most_common\": \"Prime Contractor\", \"most_common_percentage\": 62.5, \"new_in_current_values_count\": null, \"unused_in_current_values_count\": null}, \"current_characteristics\": {\"number_of_rows\": 43, \"count\": 43, \"missing\": 0, \"missing_percentage\": 0.0, \"unique\": 3, \"unique_percentage\": 6.98, \"most_common\": \"Prime Contractor\", \"most_common_percentage\": 51.16, \"new_in_current_values_count\": 1, \"unused_in_current_values_count\": 0}}}, {\"metric\": \"ColumnSummaryMetric\", \"result\": {\"column_name\": \"term_start_date\", \"column_type\": \"cat\", \"reference_characteristics\": {\"number_of_rows\": 40, \"count\": 40, \"missing\": 0, \"missing_percentage\": 0.0, \"unique\": 36, \"unique_percentage\": 90.0, \"most_common\": \"2008-11-01T00:00:00.000\", \"most_common_percentage\": 5.0, \"new_in_current_values_count\": null, \"unused_in_current_values_count\": null}, \"current_characteristics\": {\"number_of_rows\": 43, \"count\": 43, \"missing\": 0, \"missing_percentage\": 0.0, \"unique\": 38, \"unique_percentage\": 88.37, \"most_common\": \"2017-02-24T00:00:00.000\", \"most_common_percentage\": 6.98, \"new_in_current_values_count\": 31, \"unused_in_current_values_count\": 29}}}, {\"metric\": \"ColumnSummaryMetric\", \"result\": {\"column_name\": \"department_code\", \"column_type\": \"cat\", \"reference_characteristics\": {\"number_of_rows\": 40, \"count\": 40, \"missing\": 0, \"missing_percentage\": 0.0, \"unique\": 2, \"unique_percentage\": 5.0, \"most_common\": \"PUC\", \"most_common_percentage\": 97.5, \"new_in_current_values_count\": null, \"unused_in_current_values_count\": null}, \"current_characteristics\": {\"number_of_rows\": 43, \"count\": 43, \"missing\": 0, \"missing_percentage\": 0.0, \"unique\": 3, \"unique_percentage\": 6.98, \"most_common\": \"PUC\", \"most_common_percentage\": 95.35, \"new_in_current_values_count\": 2, \"unused_in_current_values_count\": 1}}}, {\"metric\": \"ColumnSummaryMetric\", \"result\": {\"column_name\": \"purchasing_authority\", \"column_type\": \"cat\", \"reference_characteristics\": {\"number_of_rows\": 40, \"count\": 40, \"missing\": 0, \"missing_percentage\": 0.0, \"unique\": 6, \"unique_percentage\": 15.0, \"most_common\": \"TERM CONTRACT PROFSERV-BID, ENVIRONMENTAL CONSULTING\", \"most_common_percentage\": 70.0, \"new_in_current_values_count\": null, \"unused_in_current_values_count\": null}, \"current_characteristics\": {\"number_of_rows\": 43, \"count\": 43, \"missing\": 0, \"missing_percentage\": 0.0, \"unique\": 8, \"unique_percentage\": 18.6, \"most_common\": \"TERM CONTRACT PROFSERV-BID, ENVIRONMENTAL CONSULTING\", \"most_common_percentage\": 55.81, \"new_in_current_values_count\": 3, \"unused_in_current_values_count\": 1}}}, {\"metric\": \"ColumnSummaryMetric\", \"result\": {\"column_name\": \"department\", \"column_type\": \"cat\", \"reference_characteristics\": {\"number_of_rows\": 40, \"count\": 40, \"missing\": 0, \"missing_percentage\": 0.0, \"unique\": 2, \"unique_percentage\": 5.0, \"most_common\": \"PUC Public Utilities Commsn\", \"most_common_percentage\": 97.5, \"new_in_current_values_count\": null, \"unused_in_current_values_count\": null}, \"current_characteristics\": {\"number_of_rows\": 43, \"count\": 43, \"missing\": 0, \"missing_percentage\": 0.0, \"unique\": 3, \"unique_percentage\": 6.98, \"most_common\": \"PUC Public Utilities Commsn\", \"most_common_percentage\": 95.35, \"new_in_current_values_count\": 2, \"unused_in_current_values_count\": 1}}}, {\"metric\": \"ColumnSummaryMetric\", \"result\": {\"column_name\": \"is_sole_source\", \"column_type\": \"cat\", \"reference_characteristics\": {\"number_of_rows\": 40, \"count\": 40, \"missing\": 0, \"missing_percentage\": 0.0, \"unique\": 2, \"unique_percentage\": 5.0, \"most_common\": true, \"most_common_percentage\": 90.0, \"new_in_current_values_count\": null, \"unused_in_current_values_count\": null}, \"current_characteristics\": {\"number_of_rows\": 43, \"count\": 43, \"missing\": 0, \"missing_percentage\": 0.0, \"unique\": 2, \"unique_percentage\": 4.65, \"most_common\": true, \"most_common_percentage\": 81.4, \"new_in_current_values_count\": 0, \"unused_in_current_values_count\": 0}}}, {\"metric\": \"ColumnSummaryMetric\", \"result\": {\"column_name\": \"scope_of_work\", \"column_type\": \"cat\", \"reference_characteristics\": {\"number_of_rows\": 40, \"count\": 40, \"missing\": 0, \"missing_percentage\": 0.0, \"unique\": 24, \"unique_percentage\": 60.0, \"most_common\": \"Unspecified\", \"most_common_percentage\": 37.5, \"new_in_current_values_count\": null, \"unused_in_current_values_count\": null}, \"current_characteristics\": {\"number_of_rows\": 43, \"count\": 43, \"missing\": 0, \"missing_percentage\": 0.0, \"unique\": 19, \"unique_percentage\": 44.19, \"most_common\": \"Unspecified\", \"most_common_percentage\": 51.16, \"new_in_current_values_count\": 17, \"unused_in_current_values_count\": 22}}}, {\"metric\": \"ColumnSummaryMetric\", \"result\": {\"column_name\": \"has_outstanding_orders\", \"column_type\": \"cat\", \"reference_characteristics\": {\"number_of_rows\": 40, \"count\": 40, \"missing\": 0, \"missing_percentage\": 0.0, \"unique\": 2, \"unique_percentage\": 5.0, \"most_common\": false, \"most_common_percentage\": 90.0, \"new_in_current_values_count\": null, \"unused_in_current_values_count\": null}, \"current_characteristics\": {\"number_of_rows\": 43, \"count\": 43, \"missing\": 0, \"missing_percentage\": 0.0, \"unique\": 2, \"unique_percentage\": 4.65, \"most_common\": false, \"most_common_percentage\": 83.72, \"new_in_current_values_count\": 0, \"unused_in_current_values_count\": 0}}}, {\"metric\": \"ColumnSummaryMetric\", \"result\": {\"column_name\": \"contract_title\", \"column_type\": \"cat\", \"reference_characteristics\": {\"number_of_rows\": 40, \"count\": 40, \"missing\": 0, \"missing_percentage\": 0.0, \"unique\": 37, \"unique_percentage\": 92.5, \"most_common\": \"TECHNICAL ADVISORY PANEL\", \"most_common_percentage\": 7.5, \"new_in_current_values_count\": null, \"unused_in_current_values_count\": null}, \"current_characteristics\": {\"number_of_rows\": 43, \"count\": 43, \"missing\": 0, \"missing_percentage\": 0.0, \"unique\": 39, \"unique_percentage\": 90.7, \"most_common\": \"CLP - RESOURCE ADEQUACY CAPACI\", \"most_common_percentage\": 6.98, \"new_in_current_values_count\": 35, \"unused_in_current_values_count\": 33}}}, {\"metric\": \"ColumnSummaryMetric\", \"result\": {\"column_name\": \"supplier_name_prime_contractor\", \"column_type\": \"cat\", \"reference_characteristics\": {\"number_of_rows\": 40, \"count\": 40, \"missing\": 0, \"missing_percentage\": 0.0, \"unique\": 34, \"unique_percentage\": 85.0, \"most_common\": \"U R S CORPORATION\", \"most_common_percentage\": 15.0, \"new_in_current_values_count\": null, \"unused_in_current_values_count\": null}, \"current_characteristics\": {\"number_of_rows\": 43, \"count\": 43, \"missing\": 0, \"missing_percentage\": 0.0, \"unique\": 41, \"unique_percentage\": 95.35, \"most_common\": \"U R S CORPORATION\", \"most_common_percentage\": 6.98, \"new_in_current_values_count\": 35, \"unused_in_current_values_count\": 28}}}, {\"metric\": \"ColumnSummaryMetric\", \"result\": {\"column_name\": \"end_date\", \"column_type\": \"datetime\", \"reference_characteristics\": {\"number_of_rows\": 40, \"count\": 40, \"missing\": 0, \"missing_percentage\": 0.0, \"unique\": 24, \"unique_percentage\": 60.0, \"most_common\": \"2022-06-30 00:00:00\", \"most_common_percentage\": 32.5, \"first\": \"2017-07-26 00:00:00\", \"last\": \"2023-04-24 00:00:00\"}, \"current_characteristics\": {\"number_of_rows\": 43, \"count\": 43, \"missing\": 0, \"missing_percentage\": 0.0, \"unique\": 30, \"unique_percentage\": 69.77, \"most_common\": \"2022-06-30 00:00:00\", \"most_common_percentage\": 23.26, \"first\": \"2017-09-13 00:00:00\", \"last\": \"2027-02-05 00:00:00\"}}}, {\"metric\": \"ColumnSummaryMetric\", \"result\": {\"column_name\": \"start_date\", \"column_type\": \"datetime\", \"reference_characteristics\": {\"number_of_rows\": 40, \"count\": 40, \"missing\": 0, \"missing_percentage\": 0.0, \"unique\": 36, \"unique_percentage\": 90.0, \"most_common\": \"2008-11-01 00:00:00\", \"most_common_percentage\": 5.0, \"first\": \"2003-09-11 00:00:00\", \"last\": \"2017-02-24 00:00:00\"}, \"current_characteristics\": {\"number_of_rows\": 43, \"count\": 43, \"missing\": 0, \"missing_percentage\": 0.0, \"unique\": 38, \"unique_percentage\": 88.37, \"most_common\": \"2017-02-24 00:00:00\", \"most_common_percentage\": 6.98, \"first\": \"2006-06-27 00:00:00\", \"last\": \"2018-12-01 00:00:00\"}}}, {\"metric\": \"DatasetMissingValuesMetric\", \"result\": {\"current\": {\"different_missing_values\": {\"\": 0, \"-Infinity\": 0, \"null\": 40, \"Infinity\": 0}, \"number_of_different_missing_values\": 1, \"different_missing_values_by_column\": {\"contract_title\": {\"\": 0, \"-Infinity\": 0, \"null\": 0, \"Infinity\": 0}, \"term_start_date\": {\"\": 0, \"-Infinity\": 0, \"null\": 0, \"Infinity\": 0}, \"term_end_date\": {\"\": 0, \"-Infinity\": 0, \"null\": 0, \"Infinity\": 0}, \"contract_type\": {\"\": 0, \"-Infinity\": 0, \"null\": 0, \"Infinity\": 0}, \"purchasing_authority\": {\"\": 0, \"-Infinity\": 0, \"null\": 0, \"Infinity\": 0}, \"department_code\": {\"\": 0, \"-Infinity\": 0, \"null\": 0, \"Infinity\": 0}, \"department\": {\"\": 0, \"-Infinity\": 0, \"null\": 0, \"Infinity\": 0}, \"supplier_name_prime_contractor\": {\"\": 0, \"-Infinity\": 0, \"null\": 0, \"Infinity\": 0}, \"supplier_name\": {\"\": 0, \"-Infinity\": 0, \"null\": 0, \"Infinity\": 0}, \"project_team_lbe_status\": {\"\": 0, \"-Infinity\": 0, \"null\": 0, \"Infinity\": 0}, \"supplier_type\": {\"\": 0, \"-Infinity\": 0, \"null\": 0, \"Infinity\": 0}, \"scope_of_work\": {\"\": 0, \"-Infinity\": 0, \"null\": 0, \"Infinity\": 0}, \"contract_awarded_amount\": {\"\": 0, \"-Infinity\": 0, \"null\": 0, \"Infinity\": 0}, \"purchase_orders_outstanding\": {\"\": 0, \"-Infinity\": 0, \"null\": 0, \"Infinity\": 0}, \"payments_made\": {\"\": 0, \"-Infinity\": 0, \"null\": 0, \"Infinity\": 0}, \"remaining_contract_award_amount\": {\"\": 0, \"-Infinity\": 0, \"null\": 0, \"Infinity\": 0}, \"contract_number\": {\"\": 0, \"-Infinity\": 0, \"null\": 0, \"Infinity\": 0}, \"non_profit\": {\"\": 0, \"-Infinity\": 0, \"null\": 40, \"Infinity\": 0}, \"start_date\": {\"\": 0, \"-Infinity\": 0, \"null\": 0, \"Infinity\": 0}, \"end_date\": {\"\": 0, \"-Infinity\": 0, \"null\": 0, \"Infinity\": 0}, \"start_day\": {\"\": 0, \"-Infinity\": 0, \"null\": 0, \"Infinity\": 0}, \"start_month\": {\"\": 0, \"-Infinity\": 0, \"null\": 0, \"Infinity\": 0}, \"start_year\": {\"\": 0, \"-Infinity\": 0, \"null\": 0, \"Infinity\": 0}, \"end_day\": {\"\": 0, \"-Infinity\": 0, \"null\": 0, \"Infinity\": 0}, \"end_month\": {\"\": 0, \"-Infinity\": 0, \"null\": 0, \"Infinity\": 0}, \"end_year\": {\"\": 0, \"-Infinity\": 0, \"null\": 0, \"Infinity\": 0}, \"is_sole_source\": {\"\": 0, \"-Infinity\": 0, \"null\": 0, \"Infinity\": 0}, \"has_outstanding_orders\": {\"\": 0, \"-Infinity\": 0, \"null\": 0, \"Infinity\": 0}}, \"number_of_different_missing_values_by_column\": {\"contract_title\": 0, \"term_start_date\": 0, \"term_end_date\": 0, \"contract_type\": 0, \"purchasing_authority\": 0, \"department_code\": 0, \"department\": 0, \"supplier_name_prime_contractor\": 0, \"supplier_name\": 0, \"project_team_lbe_status\": 0, \"supplier_type\": 0, \"scope_of_work\": 0, \"contract_awarded_amount\": 0, \"purchase_orders_outstanding\": 0, \"payments_made\": 0, \"remaining_contract_award_amount\": 0, \"contract_number\": 0, \"non_profit\": 1, \"start_date\": 0, \"end_date\": 0, \"start_day\": 0, \"start_month\": 0, \"start_year\": 0, \"end_day\": 0, \"end_month\": 0, \"end_year\": 0, \"is_sole_source\": 0, \"has_outstanding_orders\": 0}, \"number_of_missing_values\": 40, \"share_of_missing_values\": 0.03322259136212625, \"number_of_missing_values_by_column\": {\"contract_title\": 0, \"term_start_date\": 0, \"term_end_date\": 0, \"contract_type\": 0, \"purchasing_authority\": 0, \"department_code\": 0, \"department\": 0, \"supplier_name_prime_contractor\": 0, \"supplier_name\": 0, \"project_team_lbe_status\": 0, \"supplier_type\": 0, \"scope_of_work\": 0, \"contract_awarded_amount\": 0, \"purchase_orders_outstanding\": 0, \"payments_made\": 0, \"remaining_contract_award_amount\": 0, \"contract_number\": 0, \"non_profit\": 40, \"start_date\": 0, \"end_date\": 0, \"start_day\": 0, \"start_month\": 0, \"start_year\": 0, \"end_day\": 0, \"end_month\": 0, \"end_year\": 0, \"is_sole_source\": 0, \"has_outstanding_orders\": 0}, \"share_of_missing_values_by_column\": {\"contract_title\": 0.0, \"term_start_date\": 0.0, \"term_end_date\": 0.0, \"contract_type\": 0.0, \"purchasing_authority\": 0.0, \"department_code\": 0.0, \"department\": 0.0, \"supplier_name_prime_contractor\": 0.0, \"supplier_name\": 0.0, \"project_team_lbe_status\": 0.0, \"supplier_type\": 0.0, \"scope_of_work\": 0.0, \"contract_awarded_amount\": 0.0, \"purchase_orders_outstanding\": 0.0, \"payments_made\": 0.0, \"remaining_contract_award_amount\": 0.0, \"contract_number\": 0.0, \"non_profit\": 0.9302325581395349, \"start_date\": 0.0, \"end_date\": 0.0, \"start_day\": 0.0, \"start_month\": 0.0, \"start_year\": 0.0, \"end_day\": 0.0, \"end_month\": 0.0, \"end_year\": 0.0, \"is_sole_source\": 0.0, \"has_outstanding_orders\": 0.0}, \"number_of_rows\": 43, \"number_of_rows_with_missing_values\": 40, \"share_of_rows_with_missing_values\": 0.9302325581395349, \"number_of_columns\": 28, \"columns_with_missing_values\": [\"non_profit\"], \"number_of_columns_with_missing_values\": 1, \"share_of_columns_with_missing_values\": 0.03571428571428571}, \"reference\": {\"different_missing_values\": {\"\": 0, \"-Infinity\": 0, \"null\": 39, \"Infinity\": 0}, \"number_of_different_missing_values\": 1, \"different_missing_values_by_column\": {\"contract_title\": {\"\": 0, \"-Infinity\": 0, \"null\": 0, \"Infinity\": 0}, \"term_start_date\": {\"\": 0, \"-Infinity\": 0, \"null\": 0, \"Infinity\": 0}, \"term_end_date\": {\"\": 0, \"-Infinity\": 0, \"null\": 0, \"Infinity\": 0}, \"contract_type\": {\"\": 0, \"-Infinity\": 0, \"null\": 0, \"Infinity\": 0}, \"purchasing_authority\": {\"\": 0, \"-Infinity\": 0, \"null\": 0, \"Infinity\": 0}, \"department_code\": {\"\": 0, \"-Infinity\": 0, \"null\": 0, \"Infinity\": 0}, \"department\": {\"\": 0, \"-Infinity\": 0, \"null\": 0, \"Infinity\": 0}, \"supplier_name_prime_contractor\": {\"\": 0, \"-Infinity\": 0, \"null\": 0, \"Infinity\": 0}, \"supplier_name\": {\"\": 0, \"-Infinity\": 0, \"null\": 0, \"Infinity\": 0}, \"project_team_lbe_status\": {\"\": 0, \"-Infinity\": 0, \"null\": 0, \"Infinity\": 0}, \"supplier_type\": {\"\": 0, \"-Infinity\": 0, \"null\": 0, \"Infinity\": 0}, \"scope_of_work\": {\"\": 0, \"-Infinity\": 0, \"null\": 0, \"Infinity\": 0}, \"contract_awarded_amount\": {\"\": 0, \"-Infinity\": 0, \"null\": 0, \"Infinity\": 0}, \"purchase_orders_outstanding\": {\"\": 0, \"-Infinity\": 0, \"null\": 0, \"Infinity\": 0}, \"payments_made\": {\"\": 0, \"-Infinity\": 0, \"null\": 0, \"Infinity\": 0}, \"remaining_contract_award_amount\": {\"\": 0, \"-Infinity\": 0, \"null\": 0, \"Infinity\": 0}, \"contract_number\": {\"\": 0, \"-Infinity\": 0, \"null\": 0, \"Infinity\": 0}, \"non_profit\": {\"\": 0, \"-Infinity\": 0, \"null\": 39, \"Infinity\": 0}, \"start_date\": {\"\": 0, \"-Infinity\": 0, \"null\": 0, \"Infinity\": 0}, \"end_date\": {\"\": 0, \"-Infinity\": 0, \"null\": 0, \"Infinity\": 0}, \"start_day\": {\"\": 0, \"-Infinity\": 0, \"null\": 0, \"Infinity\": 0}, \"start_month\": {\"\": 0, \"-Infinity\": 0, \"null\": 0, \"Infinity\": 0}, \"start_year\": {\"\": 0, \"-Infinity\": 0, \"null\": 0, \"Infinity\": 0}, \"end_day\": {\"\": 0, \"-Infinity\": 0, \"null\": 0, \"Infinity\": 0}, \"end_month\": {\"\": 0, \"-Infinity\": 0, \"null\": 0, \"Infinity\": 0}, \"end_year\": {\"\": 0, \"-Infinity\": 0, \"null\": 0, \"Infinity\": 0}, \"is_sole_source\": {\"\": 0, \"-Infinity\": 0, \"null\": 0, \"Infinity\": 0}, \"has_outstanding_orders\": {\"\": 0, \"-Infinity\": 0, \"null\": 0, \"Infinity\": 0}}, \"number_of_different_missing_values_by_column\": {\"contract_title\": 0, \"term_start_date\": 0, \"term_end_date\": 0, \"contract_type\": 0, \"purchasing_authority\": 0, \"department_code\": 0, \"department\": 0, \"supplier_name_prime_contractor\": 0, \"supplier_name\": 0, \"project_team_lbe_status\": 0, \"supplier_type\": 0, \"scope_of_work\": 0, \"contract_awarded_amount\": 0, \"purchase_orders_outstanding\": 0, \"payments_made\": 0, \"remaining_contract_award_amount\": 0, \"contract_number\": 0, \"non_profit\": 1, \"start_date\": 0, \"end_date\": 0, \"start_day\": 0, \"start_month\": 0, \"start_year\": 0, \"end_day\": 0, \"end_month\": 0, \"end_year\": 0, \"is_sole_source\": 0, \"has_outstanding_orders\": 0}, \"number_of_missing_values\": 39, \"share_of_missing_values\": 0.03482142857142857, \"number_of_missing_values_by_column\": {\"contract_title\": 0, \"term_start_date\": 0, \"term_end_date\": 0, \"contract_type\": 0, \"purchasing_authority\": 0, \"department_code\": 0, \"department\": 0, \"supplier_name_prime_contractor\": 0, \"supplier_name\": 0, \"project_team_lbe_status\": 0, \"supplier_type\": 0, \"scope_of_work\": 0, \"contract_awarded_amount\": 0, \"purchase_orders_outstanding\": 0, \"payments_made\": 0, \"remaining_contract_award_amount\": 0, \"contract_number\": 0, \"non_profit\": 39, \"start_date\": 0, \"end_date\": 0, \"start_day\": 0, \"start_month\": 0, \"start_year\": 0, \"end_day\": 0, \"end_month\": 0, \"end_year\": 0, \"is_sole_source\": 0, \"has_outstanding_orders\": 0}, \"share_of_missing_values_by_column\": {\"contract_title\": 0.0, \"term_start_date\": 0.0, \"term_end_date\": 0.0, \"contract_type\": 0.0, \"purchasing_authority\": 0.0, \"department_code\": 0.0, \"department\": 0.0, \"supplier_name_prime_contractor\": 0.0, \"supplier_name\": 0.0, \"project_team_lbe_status\": 0.0, \"supplier_type\": 0.0, \"scope_of_work\": 0.0, \"contract_awarded_amount\": 0.0, \"purchase_orders_outstanding\": 0.0, \"payments_made\": 0.0, \"remaining_contract_award_amount\": 0.0, \"contract_number\": 0.0, \"non_profit\": 0.975, \"start_date\": 0.0, \"end_date\": 0.0, \"start_day\": 0.0, \"start_month\": 0.0, \"start_year\": 0.0, \"end_day\": 0.0, \"end_month\": 0.0, \"end_year\": 0.0, \"is_sole_source\": 0.0, \"has_outstanding_orders\": 0.0}, \"number_of_rows\": 40, \"number_of_rows_with_missing_values\": 39, \"share_of_rows_with_missing_values\": 0.975, \"number_of_columns\": 28, \"columns_with_missing_values\": [\"non_profit\"], \"number_of_columns_with_missing_values\": 1, \"share_of_columns_with_missing_values\": 0.03571428571428571}}}, {\"metric\": \"DatasetCorrelationsMetric\", \"result\": {\"current\": {\"stats\": {\"pearson\": {\"target_prediction_correlation\": null, \"abs_max_target_features_correlation\": null, \"abs_max_prediction_features_correlation\": null, \"abs_max_correlation\": 0.9920879738535792, \"abs_max_features_correlation\": 0.9920879738535792}, \"spearman\": {\"target_prediction_correlation\": null, \"abs_max_target_features_correlation\": null, \"abs_max_prediction_features_correlation\": null, \"abs_max_correlation\": 0.947249179393728, \"abs_max_features_correlation\": 0.947249179393728}, \"kendall\": {\"target_prediction_correlation\": null, \"abs_max_target_features_correlation\": null, \"abs_max_prediction_features_correlation\": null, \"abs_max_correlation\": 0.8639645973664245, \"abs_max_features_correlation\": 0.8639645973664245}, \"cramer_v\": {\"target_prediction_correlation\": null, \"abs_max_target_features_correlation\": null, \"abs_max_prediction_features_correlation\": null, \"abs_max_correlation\": 1.0, \"abs_max_features_correlation\": 1.0}}}, \"reference\": {\"stats\": {\"pearson\": {\"target_prediction_correlation\": null, \"abs_max_target_features_correlation\": null, \"abs_max_prediction_features_correlation\": null, \"abs_max_correlation\": 0.9986329621704327, \"abs_max_features_correlation\": 0.9986329621704327}, \"spearman\": {\"target_prediction_correlation\": null, \"abs_max_target_features_correlation\": null, \"abs_max_prediction_features_correlation\": null, \"abs_max_correlation\": 0.9802983394314664, \"abs_max_features_correlation\": 0.9802983394314664}, \"kendall\": {\"target_prediction_correlation\": null, \"abs_max_target_features_correlation\": null, \"abs_max_prediction_features_correlation\": null, \"abs_max_correlation\": 0.9383825417201539, \"abs_max_features_correlation\": 0.9383825417201539}, \"cramer_v\": {\"target_prediction_correlation\": null, \"abs_max_target_features_correlation\": null, \"abs_max_prediction_features_correlation\": null, \"abs_max_correlation\": 1.0000000000000002, \"abs_max_features_correlation\": 1.0000000000000002}}}}}], \"timestamp\": \"2023-11-28 17:31:25.235690\"}\n"
          ]
        }
      ]
    },
    {
      "cell_type": "markdown",
      "source": [
        "GitHub"
      ],
      "metadata": {
        "id": "r2BTkuQWm_Yd"
      }
    },
    {
      "cell_type": "code",
      "source": [
        "# create a new ssh key\n",
        "! ssh-keygen -t rsa -b 4096\n",
        "# add github.com to our known hosts\n",
        "! ssh-keyscan -t rsa github.com >> ~/.ssh/known_hosts\n",
        "# restrict the key permissions, or else SSH will complain.\n",
        "! chmod go-rwx /root/.ssh/rsa"
      ],
      "metadata": {
        "id": "FeakGBBgC-_w"
      },
      "execution_count": null,
      "outputs": []
    },
    {
      "cell_type": "code",
      "source": [
        "# copy the output and add it to Github\n",
        "!cat /root/.ssh/id_rsa.pub"
      ],
      "metadata": {
        "id": "DTzFVYj4h56e"
      },
      "execution_count": null,
      "outputs": []
    },
    {
      "cell_type": "code",
      "source": [
        "# replace with your email and user name that you uses in your Github account\n",
        "!git config --global user.email \"\"\n",
        "!git config --global user.name \"\""
      ],
      "metadata": {
        "id": "RX5vmgHNh7kF"
      },
      "execution_count": null,
      "outputs": []
    },
    {
      "cell_type": "code",
      "source": [
        "# test your authentication\n",
        "!ssh -T git@github.com"
      ],
      "metadata": {
        "id": "w28QiUqHh9-t"
      },
      "execution_count": null,
      "outputs": []
    },
    {
      "cell_type": "code",
      "source": [
        "!git status"
      ],
      "metadata": {
        "id": "zAB2iCKRiKug"
      },
      "execution_count": null,
      "outputs": []
    },
    {
      "cell_type": "code",
      "source": [
        "!git push origin main"
      ],
      "metadata": {
        "id": "lianRxsJjOq5"
      },
      "execution_count": null,
      "outputs": []
    }
  ]
}